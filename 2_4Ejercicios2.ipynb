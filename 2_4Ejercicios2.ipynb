{
 "cells": [
  {
   "cell_type": "markdown",
   "metadata": {},
   "source": [
    "# EJERCICIO"
   ]
  },
  {
   "cell_type": "code",
   "execution_count": 1,
   "metadata": {},
   "outputs": [],
   "source": [
    "import pandas as pd\n",
    "import numpy as np\n",
    "import matplotlib.pyplot as plt\n",
    "import seaborn as sns\n",
    "from sklearn.model_selection import train_test_split, cross_val_score, RandomizedSearchCV\n",
    "from sklearn.impute import SimpleImputer\n",
    "from sklearn.preprocessing import OneHotEncoder,  StandardScaler, FunctionTransformer\n",
    "from sklearn.pipeline import make_pipeline\n",
    "from sklearn import set_config\n",
    "from sklearn.compose import ColumnTransformer\n",
    "from sklearn.linear_model import LogisticRegression\n",
    "from sklearn.neighbors import KNeighborsClassifier\n",
    "from sklearn.ensemble import RandomForestClassifier\n",
    "from scipy.stats import randint\n",
    "from sklearn.metrics import accuracy_score\n",
    "import joblib\n",
    "import warnings"
   ]
  },
  {
   "cell_type": "code",
   "execution_count": 2,
   "metadata": {},
   "outputs": [],
   "source": [
    "warnings.filterwarnings(\"ignore\", category=FutureWarning)\n",
    "set_config(display=\"diagram\")"
   ]
  },
  {
   "cell_type": "markdown",
   "metadata": {},
   "source": [
    "## DEFINICIÓN DEL PROBLEMA"
   ]
  },
  {
   "cell_type": "markdown",
   "metadata": {},
   "source": [
    "**Vamos a trabajar con un dataframe sobre los datos del titanic que viene en la librería seaborn para intentar predecir si una persona sobrevivió o no a partir del resto de atributos.**\n",
    "\n",
    "**Como criterio de evaluación vamos a usar la exactitud (accuracy), que mide la proporción de predicciones correctas realizadas por el modelo.**"
   ]
  },
  {
   "cell_type": "markdown",
   "metadata": {},
   "source": [
    "## RECOPILACIÓN Y PREPARACIÓN DE LOS DATOS"
   ]
  },
  {
   "cell_type": "markdown",
   "metadata": {},
   "source": [
    "### OBTENER LOS DATOS"
   ]
  },
  {
   "cell_type": "code",
   "execution_count": 3,
   "metadata": {
    "trusted": false
   },
   "outputs": [],
   "source": [
    "df_titanic = sns.load_dataset('titanic')"
   ]
  },
  {
   "cell_type": "markdown",
   "metadata": {},
   "source": [
    "En el conjunto de datos Titanic, cada columna proporciona información específica sobre los pasajeros del Titanic.\n",
    "\n",
    "1. `survived`: Esta columna indica si un pasajero sobrevivió o no al naufragio del Titanic. Tiene dos valores posibles: 0 (no sobrevivió) y 1 (sobrevivió).\n",
    "\n",
    "2. `pclass`: Representa la clase de pasaje del pasajero en el Titanic. Tiene tres valores posibles: 1 (primera clase), 2 (segunda clase) y 3 (tercera clase).\n",
    "\n",
    "3. `sex`: Indica el género del pasajero, ya sea masculino o femenino.\n",
    "\n",
    "4. `age`: Representa la edad del pasajero en años.\n",
    "\n",
    "5. `sibsp`: Indica el número de hermanos o cónyuges que el pasajero tenía a bordo del Titanic.\n",
    "\n",
    "6. `parch`: Representa el número de padres o hijos que el pasajero tenía a bordo del Titanic.\n",
    "\n",
    "7. `fare`: Indica la tarifa que el pasajero pagó por su pasaje.\n",
    "\n",
    "8. `embarked`: Representa el puerto de embarque del pasajero. Tiene tres valores posibles: \"C\" (Cherbourg), \"Q\" (Queenstown) y \"S\" (Southampton).\n",
    "\n",
    "9. `class`: Similar a `pclass`, pero se expresa en palabras en lugar de números.\n",
    "\n",
    "10. `who`: Indica si el pasajero es un niño (child), hombre (man) o mujer (woman).\n",
    "\n",
    "11. `adult_male`: Indica si el pasajero es adulto y masculino.\n",
    "\n",
    "12. `deck`: Representa la cubierta en la que se encontraba la cabina del pasajero (si es que se encontraba en cubierta).\n",
    "\n",
    "13. `embark_town`: El nombre de la ciudad o localidad correspondiente al puerto de embarque.\n",
    "\n",
    "14. `alive`: Indica si el pasajero está vivo o muerto. Similar a `survived`, pero se expresa como \"yes\" (sí) o \"no\" (no).\n",
    "\n",
    "15. `alone`: Indica si el pasajero viajaba solo (True) o con compañía (False)."
   ]
  },
  {
   "cell_type": "markdown",
   "metadata": {},
   "source": [
    "### EXPLORAR LOS DATOS"
   ]
  },
  {
   "cell_type": "markdown",
   "metadata": {},
   "source": [
    "Muestra las primeras líneas del dataframe"
   ]
  },
  {
   "cell_type": "code",
   "execution_count": 4,
   "metadata": {
    "trusted": false
   },
   "outputs": [
    {
     "data": {
      "text/html": [
       "<div>\n",
       "<style scoped>\n",
       "    .dataframe tbody tr th:only-of-type {\n",
       "        vertical-align: middle;\n",
       "    }\n",
       "\n",
       "    .dataframe tbody tr th {\n",
       "        vertical-align: top;\n",
       "    }\n",
       "\n",
       "    .dataframe thead th {\n",
       "        text-align: right;\n",
       "    }\n",
       "</style>\n",
       "<table border=\"1\" class=\"dataframe\">\n",
       "  <thead>\n",
       "    <tr style=\"text-align: right;\">\n",
       "      <th></th>\n",
       "      <th>survived</th>\n",
       "      <th>pclass</th>\n",
       "      <th>sex</th>\n",
       "      <th>age</th>\n",
       "      <th>sibsp</th>\n",
       "      <th>parch</th>\n",
       "      <th>fare</th>\n",
       "      <th>embarked</th>\n",
       "      <th>class</th>\n",
       "      <th>who</th>\n",
       "      <th>adult_male</th>\n",
       "      <th>deck</th>\n",
       "      <th>embark_town</th>\n",
       "      <th>alive</th>\n",
       "      <th>alone</th>\n",
       "    </tr>\n",
       "  </thead>\n",
       "  <tbody>\n",
       "    <tr>\n",
       "      <th>0</th>\n",
       "      <td>0</td>\n",
       "      <td>3</td>\n",
       "      <td>male</td>\n",
       "      <td>22.0</td>\n",
       "      <td>1</td>\n",
       "      <td>0</td>\n",
       "      <td>7.2500</td>\n",
       "      <td>S</td>\n",
       "      <td>Third</td>\n",
       "      <td>man</td>\n",
       "      <td>True</td>\n",
       "      <td>NaN</td>\n",
       "      <td>Southampton</td>\n",
       "      <td>no</td>\n",
       "      <td>False</td>\n",
       "    </tr>\n",
       "    <tr>\n",
       "      <th>1</th>\n",
       "      <td>1</td>\n",
       "      <td>1</td>\n",
       "      <td>female</td>\n",
       "      <td>38.0</td>\n",
       "      <td>1</td>\n",
       "      <td>0</td>\n",
       "      <td>71.2833</td>\n",
       "      <td>C</td>\n",
       "      <td>First</td>\n",
       "      <td>woman</td>\n",
       "      <td>False</td>\n",
       "      <td>C</td>\n",
       "      <td>Cherbourg</td>\n",
       "      <td>yes</td>\n",
       "      <td>False</td>\n",
       "    </tr>\n",
       "    <tr>\n",
       "      <th>2</th>\n",
       "      <td>1</td>\n",
       "      <td>3</td>\n",
       "      <td>female</td>\n",
       "      <td>26.0</td>\n",
       "      <td>0</td>\n",
       "      <td>0</td>\n",
       "      <td>7.9250</td>\n",
       "      <td>S</td>\n",
       "      <td>Third</td>\n",
       "      <td>woman</td>\n",
       "      <td>False</td>\n",
       "      <td>NaN</td>\n",
       "      <td>Southampton</td>\n",
       "      <td>yes</td>\n",
       "      <td>True</td>\n",
       "    </tr>\n",
       "    <tr>\n",
       "      <th>3</th>\n",
       "      <td>1</td>\n",
       "      <td>1</td>\n",
       "      <td>female</td>\n",
       "      <td>35.0</td>\n",
       "      <td>1</td>\n",
       "      <td>0</td>\n",
       "      <td>53.1000</td>\n",
       "      <td>S</td>\n",
       "      <td>First</td>\n",
       "      <td>woman</td>\n",
       "      <td>False</td>\n",
       "      <td>C</td>\n",
       "      <td>Southampton</td>\n",
       "      <td>yes</td>\n",
       "      <td>False</td>\n",
       "    </tr>\n",
       "    <tr>\n",
       "      <th>4</th>\n",
       "      <td>0</td>\n",
       "      <td>3</td>\n",
       "      <td>male</td>\n",
       "      <td>35.0</td>\n",
       "      <td>0</td>\n",
       "      <td>0</td>\n",
       "      <td>8.0500</td>\n",
       "      <td>S</td>\n",
       "      <td>Third</td>\n",
       "      <td>man</td>\n",
       "      <td>True</td>\n",
       "      <td>NaN</td>\n",
       "      <td>Southampton</td>\n",
       "      <td>no</td>\n",
       "      <td>True</td>\n",
       "    </tr>\n",
       "  </tbody>\n",
       "</table>\n",
       "</div>"
      ],
      "text/plain": [
       "   survived  pclass     sex   age  sibsp  parch     fare embarked  class  \\\n",
       "0         0       3    male  22.0      1      0   7.2500        S  Third   \n",
       "1         1       1  female  38.0      1      0  71.2833        C  First   \n",
       "2         1       3  female  26.0      0      0   7.9250        S  Third   \n",
       "3         1       1  female  35.0      1      0  53.1000        S  First   \n",
       "4         0       3    male  35.0      0      0   8.0500        S  Third   \n",
       "\n",
       "     who  adult_male deck  embark_town alive  alone  \n",
       "0    man        True  NaN  Southampton    no  False  \n",
       "1  woman       False    C    Cherbourg   yes  False  \n",
       "2  woman       False  NaN  Southampton   yes   True  \n",
       "3  woman       False    C  Southampton   yes  False  \n",
       "4    man        True  NaN  Southampton    no   True  "
      ]
     },
     "execution_count": 4,
     "metadata": {},
     "output_type": "execute_result"
    }
   ],
   "source": [
    "df_titanic.head()"
   ]
  },
  {
   "cell_type": "markdown",
   "metadata": {},
   "source": [
    "¿Cuántas columnas hay? ¿De que tipo? ¿Cuántos valores no nulos tiene cada columna?"
   ]
  },
  {
   "cell_type": "code",
   "execution_count": 5,
   "metadata": {
    "trusted": false
   },
   "outputs": [
    {
     "name": "stdout",
     "output_type": "stream",
     "text": [
      "<class 'pandas.core.frame.DataFrame'>\n",
      "RangeIndex: 891 entries, 0 to 890\n",
      "Data columns (total 15 columns):\n",
      " #   Column       Non-Null Count  Dtype   \n",
      "---  ------       --------------  -----   \n",
      " 0   survived     891 non-null    int64   \n",
      " 1   pclass       891 non-null    int64   \n",
      " 2   sex          891 non-null    object  \n",
      " 3   age          714 non-null    float64 \n",
      " 4   sibsp        891 non-null    int64   \n",
      " 5   parch        891 non-null    int64   \n",
      " 6   fare         891 non-null    float64 \n",
      " 7   embarked     889 non-null    object  \n",
      " 8   class        891 non-null    category\n",
      " 9   who          891 non-null    object  \n",
      " 10  adult_male   891 non-null    bool    \n",
      " 11  deck         203 non-null    category\n",
      " 12  embark_town  889 non-null    object  \n",
      " 13  alive        891 non-null    object  \n",
      " 14  alone        891 non-null    bool    \n",
      "dtypes: bool(2), category(2), float64(2), int64(4), object(5)\n",
      "memory usage: 80.7+ KB\n"
     ]
    }
   ],
   "source": [
    "df_titanic.info()"
   ]
  },
  {
   "cell_type": "markdown",
   "metadata": {},
   "source": [
    "Elimina las columnas innecesarias:\n",
    "- `class`: la información está también en pclass\n",
    "- `who`: con sex y age se obtiene la información\n",
    "- `adult_male`: con sex y age se obiene la información\n",
    "- `deck`: tiene muchos valores nulos y es díficil decidir que valor dar a los valores ausentes\n",
    "- `embark_town`: la información está también en embarked\n",
    "- `alive`: la información está también en survived\n",
    "- `alone`: con sibsp y parch se obtiene la información"
   ]
  },
  {
   "cell_type": "code",
   "execution_count": 6,
   "metadata": {
    "trusted": false
   },
   "outputs": [
    {
     "data": {
      "text/html": [
       "<div>\n",
       "<style scoped>\n",
       "    .dataframe tbody tr th:only-of-type {\n",
       "        vertical-align: middle;\n",
       "    }\n",
       "\n",
       "    .dataframe tbody tr th {\n",
       "        vertical-align: top;\n",
       "    }\n",
       "\n",
       "    .dataframe thead th {\n",
       "        text-align: right;\n",
       "    }\n",
       "</style>\n",
       "<table border=\"1\" class=\"dataframe\">\n",
       "  <thead>\n",
       "    <tr style=\"text-align: right;\">\n",
       "      <th></th>\n",
       "      <th>survived</th>\n",
       "      <th>pclass</th>\n",
       "      <th>sex</th>\n",
       "      <th>age</th>\n",
       "      <th>sibsp</th>\n",
       "      <th>parch</th>\n",
       "      <th>fare</th>\n",
       "      <th>embarked</th>\n",
       "    </tr>\n",
       "  </thead>\n",
       "  <tbody>\n",
       "    <tr>\n",
       "      <th>0</th>\n",
       "      <td>0</td>\n",
       "      <td>3</td>\n",
       "      <td>male</td>\n",
       "      <td>22.0</td>\n",
       "      <td>1</td>\n",
       "      <td>0</td>\n",
       "      <td>7.2500</td>\n",
       "      <td>S</td>\n",
       "    </tr>\n",
       "    <tr>\n",
       "      <th>1</th>\n",
       "      <td>1</td>\n",
       "      <td>1</td>\n",
       "      <td>female</td>\n",
       "      <td>38.0</td>\n",
       "      <td>1</td>\n",
       "      <td>0</td>\n",
       "      <td>71.2833</td>\n",
       "      <td>C</td>\n",
       "    </tr>\n",
       "    <tr>\n",
       "      <th>2</th>\n",
       "      <td>1</td>\n",
       "      <td>3</td>\n",
       "      <td>female</td>\n",
       "      <td>26.0</td>\n",
       "      <td>0</td>\n",
       "      <td>0</td>\n",
       "      <td>7.9250</td>\n",
       "      <td>S</td>\n",
       "    </tr>\n",
       "    <tr>\n",
       "      <th>3</th>\n",
       "      <td>1</td>\n",
       "      <td>1</td>\n",
       "      <td>female</td>\n",
       "      <td>35.0</td>\n",
       "      <td>1</td>\n",
       "      <td>0</td>\n",
       "      <td>53.1000</td>\n",
       "      <td>S</td>\n",
       "    </tr>\n",
       "    <tr>\n",
       "      <th>4</th>\n",
       "      <td>0</td>\n",
       "      <td>3</td>\n",
       "      <td>male</td>\n",
       "      <td>35.0</td>\n",
       "      <td>0</td>\n",
       "      <td>0</td>\n",
       "      <td>8.0500</td>\n",
       "      <td>S</td>\n",
       "    </tr>\n",
       "  </tbody>\n",
       "</table>\n",
       "</div>"
      ],
      "text/plain": [
       "   survived  pclass     sex   age  sibsp  parch     fare embarked\n",
       "0         0       3    male  22.0      1      0   7.2500        S\n",
       "1         1       1  female  38.0      1      0  71.2833        C\n",
       "2         1       3  female  26.0      0      0   7.9250        S\n",
       "3         1       1  female  35.0      1      0  53.1000        S\n",
       "4         0       3    male  35.0      0      0   8.0500        S"
      ]
     },
     "execution_count": 6,
     "metadata": {},
     "output_type": "execute_result"
    }
   ],
   "source": [
    "df_titanic.drop(columns=[\"class\",\"who\",\"adult_male\",\"deck\",\"embark_town\",\"alive\",\"alone\"], inplace=True)\n",
    "df_titanic.head()"
   ]
  },
  {
   "cell_type": "markdown",
   "metadata": {},
   "source": [
    "Muestra las estadísticas básicas de los atributos numéricos"
   ]
  },
  {
   "cell_type": "code",
   "execution_count": 7,
   "metadata": {
    "trusted": false
   },
   "outputs": [
    {
     "data": {
      "text/html": [
       "<div>\n",
       "<style scoped>\n",
       "    .dataframe tbody tr th:only-of-type {\n",
       "        vertical-align: middle;\n",
       "    }\n",
       "\n",
       "    .dataframe tbody tr th {\n",
       "        vertical-align: top;\n",
       "    }\n",
       "\n",
       "    .dataframe thead th {\n",
       "        text-align: right;\n",
       "    }\n",
       "</style>\n",
       "<table border=\"1\" class=\"dataframe\">\n",
       "  <thead>\n",
       "    <tr style=\"text-align: right;\">\n",
       "      <th></th>\n",
       "      <th>survived</th>\n",
       "      <th>pclass</th>\n",
       "      <th>age</th>\n",
       "      <th>sibsp</th>\n",
       "      <th>parch</th>\n",
       "      <th>fare</th>\n",
       "    </tr>\n",
       "  </thead>\n",
       "  <tbody>\n",
       "    <tr>\n",
       "      <th>count</th>\n",
       "      <td>891.000000</td>\n",
       "      <td>891.000000</td>\n",
       "      <td>714.000000</td>\n",
       "      <td>891.000000</td>\n",
       "      <td>891.000000</td>\n",
       "      <td>891.000000</td>\n",
       "    </tr>\n",
       "    <tr>\n",
       "      <th>mean</th>\n",
       "      <td>0.383838</td>\n",
       "      <td>2.308642</td>\n",
       "      <td>29.699118</td>\n",
       "      <td>0.523008</td>\n",
       "      <td>0.381594</td>\n",
       "      <td>32.204208</td>\n",
       "    </tr>\n",
       "    <tr>\n",
       "      <th>std</th>\n",
       "      <td>0.486592</td>\n",
       "      <td>0.836071</td>\n",
       "      <td>14.526497</td>\n",
       "      <td>1.102743</td>\n",
       "      <td>0.806057</td>\n",
       "      <td>49.693429</td>\n",
       "    </tr>\n",
       "    <tr>\n",
       "      <th>min</th>\n",
       "      <td>0.000000</td>\n",
       "      <td>1.000000</td>\n",
       "      <td>0.420000</td>\n",
       "      <td>0.000000</td>\n",
       "      <td>0.000000</td>\n",
       "      <td>0.000000</td>\n",
       "    </tr>\n",
       "    <tr>\n",
       "      <th>25%</th>\n",
       "      <td>0.000000</td>\n",
       "      <td>2.000000</td>\n",
       "      <td>20.125000</td>\n",
       "      <td>0.000000</td>\n",
       "      <td>0.000000</td>\n",
       "      <td>7.910400</td>\n",
       "    </tr>\n",
       "    <tr>\n",
       "      <th>50%</th>\n",
       "      <td>0.000000</td>\n",
       "      <td>3.000000</td>\n",
       "      <td>28.000000</td>\n",
       "      <td>0.000000</td>\n",
       "      <td>0.000000</td>\n",
       "      <td>14.454200</td>\n",
       "    </tr>\n",
       "    <tr>\n",
       "      <th>75%</th>\n",
       "      <td>1.000000</td>\n",
       "      <td>3.000000</td>\n",
       "      <td>38.000000</td>\n",
       "      <td>1.000000</td>\n",
       "      <td>0.000000</td>\n",
       "      <td>31.000000</td>\n",
       "    </tr>\n",
       "    <tr>\n",
       "      <th>max</th>\n",
       "      <td>1.000000</td>\n",
       "      <td>3.000000</td>\n",
       "      <td>80.000000</td>\n",
       "      <td>8.000000</td>\n",
       "      <td>6.000000</td>\n",
       "      <td>512.329200</td>\n",
       "    </tr>\n",
       "  </tbody>\n",
       "</table>\n",
       "</div>"
      ],
      "text/plain": [
       "         survived      pclass         age       sibsp       parch        fare\n",
       "count  891.000000  891.000000  714.000000  891.000000  891.000000  891.000000\n",
       "mean     0.383838    2.308642   29.699118    0.523008    0.381594   32.204208\n",
       "std      0.486592    0.836071   14.526497    1.102743    0.806057   49.693429\n",
       "min      0.000000    1.000000    0.420000    0.000000    0.000000    0.000000\n",
       "25%      0.000000    2.000000   20.125000    0.000000    0.000000    7.910400\n",
       "50%      0.000000    3.000000   28.000000    0.000000    0.000000   14.454200\n",
       "75%      1.000000    3.000000   38.000000    1.000000    0.000000   31.000000\n",
       "max      1.000000    3.000000   80.000000    8.000000    6.000000  512.329200"
      ]
     },
     "execution_count": 7,
     "metadata": {},
     "output_type": "execute_result"
    }
   ],
   "source": [
    "df_titanic.describe()"
   ]
  },
  {
   "cell_type": "markdown",
   "metadata": {},
   "source": [
    "Muestra las estadísticas descriptivas de los atributos categóricos (con el parametro include)"
   ]
  },
  {
   "cell_type": "code",
   "execution_count": 8,
   "metadata": {
    "trusted": false
   },
   "outputs": [
    {
     "name": "stdout",
     "output_type": "stream",
     "text": [
      "<class 'pandas.core.frame.DataFrame'>\n",
      "RangeIndex: 891 entries, 0 to 890\n",
      "Data columns (total 8 columns):\n",
      " #   Column    Non-Null Count  Dtype  \n",
      "---  ------    --------------  -----  \n",
      " 0   survived  891 non-null    int64  \n",
      " 1   pclass    891 non-null    int64  \n",
      " 2   sex       891 non-null    object \n",
      " 3   age       714 non-null    float64\n",
      " 4   sibsp     891 non-null    int64  \n",
      " 5   parch     891 non-null    int64  \n",
      " 6   fare      891 non-null    float64\n",
      " 7   embarked  889 non-null    object \n",
      "dtypes: float64(2), int64(4), object(2)\n",
      "memory usage: 55.8+ KB\n"
     ]
    },
    {
     "data": {
      "text/html": [
       "<div>\n",
       "<style scoped>\n",
       "    .dataframe tbody tr th:only-of-type {\n",
       "        vertical-align: middle;\n",
       "    }\n",
       "\n",
       "    .dataframe tbody tr th {\n",
       "        vertical-align: top;\n",
       "    }\n",
       "\n",
       "    .dataframe thead th {\n",
       "        text-align: right;\n",
       "    }\n",
       "</style>\n",
       "<table border=\"1\" class=\"dataframe\">\n",
       "  <thead>\n",
       "    <tr style=\"text-align: right;\">\n",
       "      <th></th>\n",
       "      <th>sex</th>\n",
       "      <th>embarked</th>\n",
       "    </tr>\n",
       "  </thead>\n",
       "  <tbody>\n",
       "    <tr>\n",
       "      <th>count</th>\n",
       "      <td>891</td>\n",
       "      <td>889</td>\n",
       "    </tr>\n",
       "    <tr>\n",
       "      <th>unique</th>\n",
       "      <td>2</td>\n",
       "      <td>3</td>\n",
       "    </tr>\n",
       "    <tr>\n",
       "      <th>top</th>\n",
       "      <td>male</td>\n",
       "      <td>S</td>\n",
       "    </tr>\n",
       "    <tr>\n",
       "      <th>freq</th>\n",
       "      <td>577</td>\n",
       "      <td>644</td>\n",
       "    </tr>\n",
       "  </tbody>\n",
       "</table>\n",
       "</div>"
      ],
      "text/plain": [
       "         sex embarked\n",
       "count    891      889\n",
       "unique     2        3\n",
       "top     male        S\n",
       "freq     577      644"
      ]
     },
     "execution_count": 8,
     "metadata": {},
     "output_type": "execute_result"
    }
   ],
   "source": [
    "df_titanic.info()\n",
    "df_titanic.describe(include=['object','bool'])"
   ]
  },
  {
   "cell_type": "markdown",
   "metadata": {},
   "source": [
    "Respresenta los atributos en un histograma o diagrama de barras para ver sus distribuciones: \n",
    "- usa seaborn\n",
    "- dibuja los ochos en un mismo grafico con 8 subgrafos (4x2)\n",
    "- usa counplot de seaborn para las variables categoricas o discretas\n",
    "- usa histplot de seaborn para las variables continuas"
   ]
  },
  {
   "cell_type": "code",
   "execution_count": 9,
   "metadata": {
    "trusted": false
   },
   "outputs": [
    {
     "data": {
      "image/png": "[encoded data removed]",
      "text/plain": [
       "<Figure size 1400x1600 with 8 Axes>"
      ]
     },
     "metadata": {},
     "output_type": "display_data"
    }
   ],
   "source": [
    "import matplotlib.pyplot as plt\n",
    "import seaborn as sns\n",
    "\n",
    "# Hacemos una copia para visualizar los datos y no estropear la original\n",
    "df_temp = df_titanic.copy()\n",
    "\n",
    "#Transformamos el binario de survived\n",
    "df_temp['survived'] = df_temp['survived'].map({0: 'no', 1: 'yes'})\n",
    "\n",
    "#Transformamos el categorico de 3 opciones de pclass\n",
    "df_temp['pclass'] = df_temp['pclass'].map({1: '1st', 2: '2nd', 3: '3rd'})\n",
    "\n",
    "# Seleccionar las columnas categóricas y numéricas\n",
    "df_cat = df_temp.select_dtypes(include=['object', 'bool'])  # Columnas categóricas\n",
    "df_num = df_temp.select_dtypes(include=['int64', 'float64'])  # Columnas numéricas\n",
    "\n",
    "# Crear la cuadrícula de subplots 4x2\n",
    "fig, axes = plt.subplots(4, 2, figsize=(14, 16))  # Tamaño de la figura ajustado\n",
    "axes = axes.flatten()  # Aplanar el arreglo de ejes para un acceso más fácil\n",
    "\n",
    "# Índice para los subplots\n",
    "idx = 0\n",
    "\n",
    "# Graficar las variables categóricas\n",
    "for columna in df_cat.columns:\n",
    "    if idx < len(axes):  # Verificar si el índice está dentro del rango de subplots\n",
    "        sns.countplot(data=df_temp, x=columna, ax=axes[idx])\n",
    "        axes[idx].set_title(f'Conteo de {columna}')\n",
    "        axes[idx].set_xlabel(columna)\n",
    "        axes[idx].set_ylabel('Frecuencia')\n",
    "        idx += 1\n",
    "\n",
    "# Graficar las variables numéricas\n",
    "for columna in df_num.columns:\n",
    "    if idx < len(axes):  # Verificar si el índice está dentro del rango de subplots\n",
    "        sns.histplot(data=df_temp, x=columna, bins=10, kde=True, ax=axes[idx])\n",
    "        axes[idx].set_title(f'Histograma de {columna}')\n",
    "        axes[idx].set_xlabel(columna)\n",
    "        axes[idx].set_ylabel('Frecuencia')\n",
    "        idx += 1\n",
    "\n",
    "# Eliminar cualquier subplot no utilizado\n",
    "for j in range(idx, len(axes)):\n",
    "    fig.delaxes(axes[j])\n",
    "\n",
    "# Ajustar el diseño para evitar solapamientos\n",
    "plt.tight_layout()\n",
    "plt.show()"
   ]
  },
  {
   "cell_type": "markdown",
   "metadata": {},
   "source": [
    "¿A la vista de los datos que conclusiones puedes sacar?"
   ]
  },
  {
   "cell_type": "code",
   "execution_count": 10,
   "metadata": {
    "trusted": false
   },
   "outputs": [],
   "source": [
    "# El ratio hombre a mujer era de 2:1 más o menos, es probable que casi ninguna mujer viajase sola\n",
    "# La mayoria de tripulantes embarcaron en el puerto S, parece el comienzo del recorrido y tendrá parcialidad debido a contar a la tripulación\n",
    "# Survived y pclass son categoricos, hay que transformarlos, pero se extrae que más de la mitad de los pasajeros murieron y que la clase más poblada era la 3ra\n",
    "# La media de edad era de 25 aproximadamente\n",
    "# No era común viajar con hermanos o conyujes segun sbisp\n",
    "# En parch se muestran grupos de gente viajando con 1 o 2 hijos o con sus 2 padres y tambien mucha gente viajando sin familia no conyuje\n",
    "# La tarifa de embarque tiene algunos billetes de lujo sueltos"
   ]
  },
  {
   "cell_type": "markdown",
   "metadata": {},
   "source": [
    "Muestra la media de supervivientes según el la clase de billete ordenada de forma descendente según el valor de dicha media (en forma de dataframe) y saca alguna conclusión."
   ]
  },
  {
   "cell_type": "code",
   "execution_count": 11,
   "metadata": {
    "trusted": false
   },
   "outputs": [
    {
     "name": "stdout",
     "output_type": "stream",
     "text": [
      "   Clase  Media_Supervivientes\n",
      "2      3              0.242363\n",
      "1      2              0.472826\n",
      "0      1              0.629630\n"
     ]
    }
   ],
   "source": [
    "# Calcular la media de supervivientes por clase de billete\n",
    "media_supervivientes = df_titanic.groupby('pclass')['survived'].mean()\n",
    "\n",
    "# Convertir a DataFrame y renombrar las columnas\n",
    "df_media_supervivientes = media_supervivientes.reset_index()\n",
    "df_media_supervivientes.columns = ['Clase', 'Media_Supervivientes']\n",
    "\n",
    "# Ordenar el DataFrame de forma descendente según 'Media_Supervivientes'\n",
    "df_media_supervivientes = df_media_supervivientes.sort_values(by='Media_Supervivientes')\n",
    "\n",
    "# Mostrar el DataFrame resultante\n",
    "print(df_media_supervivientes)"
   ]
  },
  {
   "cell_type": "code",
   "execution_count": 12,
   "metadata": {},
   "outputs": [],
   "source": [
    "# Hay una corelacion directa entre la clase y el ratio de supervivencia\n",
    "# puede que sea por donde estaban las cabinas de la 3ra clase o porque se les dio prioridad a los de\n",
    "# primera clase"
   ]
  },
  {
   "cell_type": "markdown",
   "metadata": {},
   "source": [
    "Muestra la media de supervivientes según el sexo ordenada de forma descendente según el valor de dicha media (en forma de dataframe) y saca alguna conclusión."
   ]
  },
  {
   "cell_type": "code",
   "execution_count": 13,
   "metadata": {
    "trusted": false
   },
   "outputs": [
    {
     "name": "stdout",
     "output_type": "stream",
     "text": [
      "     Sexo  Media_Supervivientes\n",
      "1    male              0.188908\n",
      "0  female              0.742038\n"
     ]
    }
   ],
   "source": [
    "# Calcular la media de supervivientes por sexo\n",
    "media_supervivientes = df_titanic.groupby('sex')['survived'].mean()\n",
    "\n",
    "# Convertir a DataFrame y renombrar las columnas\n",
    "df_media_supervivientes = media_supervivientes.reset_index()\n",
    "df_media_supervivientes.columns = ['Sexo', 'Media_Supervivientes']\n",
    "\n",
    "# Ordenar el DataFrame según 'Media_Supervivientes'\n",
    "df_media_supervivientes = df_media_supervivientes.sort_values(by='Media_Supervivientes')\n",
    "\n",
    "# Mostrar el DataFrame resultante\n",
    "print(df_media_supervivientes)"
   ]
  },
  {
   "cell_type": "code",
   "execution_count": 14,
   "metadata": {
    "trusted": false
   },
   "outputs": [],
   "source": [
    "# El lema de \"Las mujeres primero\" pareció cumplirse. Tambien era esperado sabiendo que el ratio del\n",
    "# genero de los pasajeros era 2 hombres por mujer"
   ]
  },
  {
   "cell_type": "markdown",
   "metadata": {},
   "source": [
    "Muestra la media de supervivientes según el número de hermanos y coyúnges ordenada de forma descendente según el valor de dicha media (en forma de dataframe) y saca alguna conclusión."
   ]
  },
  {
   "cell_type": "code",
   "execution_count": 15,
   "metadata": {
    "trusted": false
   },
   "outputs": [
    {
     "name": "stdout",
     "output_type": "stream",
     "text": [
      "parch\n",
      "0    678\n",
      "1    118\n",
      "2     80\n",
      "5      5\n",
      "3      5\n",
      "4      4\n",
      "6      1\n",
      "Name: count, dtype: int64\n",
      "   Hermanos_o_conyujes  Media_Supervivientes\n",
      "6                    6              0.000000\n",
      "4                    4              0.000000\n",
      "5                    5              0.200000\n",
      "0                    0              0.343658\n",
      "2                    2              0.500000\n",
      "1                    1              0.550847\n",
      "3                    3              0.600000\n"
     ]
    }
   ],
   "source": [
    "# Calcular la media de supervivientes por cantidad de hermanos o parientes\n",
    "media_supervivientes = df_titanic.groupby('parch')['survived'].mean()\n",
    "\n",
    "# Convertir a DataFrame y renombrar las columnas\n",
    "df_media_supervivientes = media_supervivientes.reset_index()\n",
    "df_media_supervivientes.columns = ['Hermanos_o_conyujes', 'Media_Supervivientes']\n",
    "\n",
    "# Ordenar el DataFrame según 'Media_Supervivientes'\n",
    "df_media_supervivientes = df_media_supervivientes.sort_values(by='Media_Supervivientes')\n",
    "\n",
    "# Mostrar el DataFrame resultante\n",
    "print(df_titanic['parch'].value_counts())\n",
    "print(df_media_supervivientes)"
   ]
  },
  {
   "cell_type": "code",
   "execution_count": 16,
   "metadata": {
    "trusted": false
   },
   "outputs": [],
   "source": [
    "# Tener 1 o 2 familiares a bordo pareció ayudar en la supervivencia"
   ]
  },
  {
   "cell_type": "markdown",
   "metadata": {},
   "source": [
    "Muestra la media de supervivientes según el número de padres e hijos ordenada de forma descendente según el valor de dicha media (en forma de dataframe) y saca alguna conclusión."
   ]
  },
  {
   "cell_type": "code",
   "execution_count": 17,
   "metadata": {
    "trusted": false
   },
   "outputs": [
    {
     "name": "stdout",
     "output_type": "stream",
     "text": [
      "sibsp\n",
      "0    608\n",
      "1    209\n",
      "2     28\n",
      "4     18\n",
      "3     16\n",
      "8      7\n",
      "5      5\n",
      "Name: count, dtype: int64\n",
      "   Padres_o_Hijos  Media_Supervivientes\n",
      "6               8              0.000000\n",
      "5               5              0.000000\n",
      "4               4              0.166667\n",
      "3               3              0.250000\n",
      "0               0              0.345395\n",
      "2               2              0.464286\n",
      "1               1              0.535885\n"
     ]
    }
   ],
   "source": [
    "# Calcular la media de supervivientes por cantidad de hijos o padres\n",
    "media_supervivientes = df_titanic.groupby('sibsp')['survived'].mean()\n",
    "\n",
    "# Convertir a DataFrame y renombrar las columnas\n",
    "df_media_supervivientes = media_supervivientes.reset_index()\n",
    "df_media_supervivientes.columns = ['Padres_o_Hijos', 'Media_Supervivientes']\n",
    "\n",
    "# Ordenar el DataFrame según 'Media_Supervivientes'\n",
    "df_media_supervivientes = df_media_supervivientes.sort_values(by='Media_Supervivientes')\n",
    "\n",
    "# Mostrar el DataFrame resultante\n",
    "print(df_titanic['sibsp'].value_counts())\n",
    "print(df_media_supervivientes)"
   ]
  },
  {
   "cell_type": "code",
   "execution_count": 18,
   "metadata": {
    "trusted": false
   },
   "outputs": [],
   "source": [
    "# Parece que tener un padre o hijo a bordo ayudaba a sobrevivir, puede que mujeres con su hijo"
   ]
  },
  {
   "cell_type": "markdown",
   "metadata": {},
   "source": [
    "Halla las correlaciones de los datos numéricos y muestra el coeficiente de correlacion de las diferentes variables respecto a la variable survived"
   ]
  },
  {
   "cell_type": "code",
   "execution_count": 19,
   "metadata": {
    "trusted": false
   },
   "outputs": [
    {
     "data": {
      "text/plain": [
       "survived    1.000000\n",
       "fare        0.257307\n",
       "parch       0.081629\n",
       "sibsp      -0.035322\n",
       "age        -0.077221\n",
       "pclass     -0.338481\n",
       "Name: survived, dtype: float64"
      ]
     },
     "execution_count": 19,
     "metadata": {},
     "output_type": "execute_result"
    }
   ],
   "source": [
    "# Filtramos solo numericos\n",
    "corr_matrix = df_titanic.corr(numeric_only=True)\n",
    "\n",
    "#Sacamos los valores de la matriz ordenados según survived\n",
    "corr_matrix[\"survived\"].sort_values(ascending=False)"
   ]
  },
  {
   "cell_type": "markdown",
   "metadata": {},
   "source": [
    "Representa la matriz de correlaciones (representa directamente la matriz usando el stilo background_gradient)"
   ]
  },
  {
   "cell_type": "code",
   "execution_count": 21,
   "metadata": {
    "trusted": false
   },
   "outputs": [
    {
     "data": {
      "text/html": [
       "<style type=\"text/css\">\n",
       "#T_cfd12_row0_col0, #T_cfd12_row1_col1, #T_cfd12_row2_col2, #T_cfd12_row3_col3, #T_cfd12_row4_col4, #T_cfd12_row5_col5 {\n",
       "  background-color: #023858;\n",
       "  color: #f1f1f1;\n",
       "}\n",
       "#T_cfd12_row0_col1 {\n",
       "  background-color: #eae6f1;\n",
       "  color: #000000;\n",
       "}\n",
       "#T_cfd12_row0_col2, #T_cfd12_row0_col3 {\n",
       "  background-color: #d9d8ea;\n",
       "  color: #000000;\n",
       "}\n",
       "#T_cfd12_row0_col4 {\n",
       "  background-color: #d5d5e8;\n",
       "  color: #000000;\n",
       "}\n",
       "#T_cfd12_row0_col5 {\n",
       "  background-color: #69a5cc;\n",
       "  color: #f1f1f1;\n",
       "}\n",
       "#T_cfd12_row1_col0, #T_cfd12_row1_col2, #T_cfd12_row1_col5, #T_cfd12_row2_col3, #T_cfd12_row2_col4, #T_cfd12_row5_col1 {\n",
       "  background-color: #fff7fb;\n",
       "  color: #000000;\n",
       "}\n",
       "#T_cfd12_row1_col3 {\n",
       "  background-color: #c0c9e2;\n",
       "  color: #000000;\n",
       "}\n",
       "#T_cfd12_row1_col4 {\n",
       "  background-color: #e1dfed;\n",
       "  color: #000000;\n",
       "}\n",
       "#T_cfd12_row2_col0 {\n",
       "  background-color: #dddbec;\n",
       "  color: #000000;\n",
       "}\n",
       "#T_cfd12_row2_col1 {\n",
       "  background-color: #eee8f3;\n",
       "  color: #000000;\n",
       "}\n",
       "#T_cfd12_row2_col5 {\n",
       "  background-color: #96b6d7;\n",
       "  color: #000000;\n",
       "}\n",
       "#T_cfd12_row3_col0 {\n",
       "  background-color: #d6d6e9;\n",
       "  color: #000000;\n",
       "}\n",
       "#T_cfd12_row3_col1 {\n",
       "  background-color: #99b8d8;\n",
       "  color: #000000;\n",
       "}\n",
       "#T_cfd12_row3_col2 {\n",
       "  background-color: #f8f1f8;\n",
       "  color: #000000;\n",
       "}\n",
       "#T_cfd12_row3_col4 {\n",
       "  background-color: #6fa7ce;\n",
       "  color: #f1f1f1;\n",
       "}\n",
       "#T_cfd12_row3_col5 {\n",
       "  background-color: #84b0d3;\n",
       "  color: #f1f1f1;\n",
       "}\n",
       "#T_cfd12_row4_col0 {\n",
       "  background-color: #bbc7e0;\n",
       "  color: #000000;\n",
       "}\n",
       "#T_cfd12_row4_col1 {\n",
       "  background-color: #a9bfdc;\n",
       "  color: #000000;\n",
       "}\n",
       "#T_cfd12_row4_col2 {\n",
       "  background-color: #ebe6f2;\n",
       "  color: #000000;\n",
       "}\n",
       "#T_cfd12_row4_col3 {\n",
       "  background-color: #5a9ec9;\n",
       "  color: #f1f1f1;\n",
       "}\n",
       "#T_cfd12_row4_col5 {\n",
       "  background-color: #76aad0;\n",
       "  color: #f1f1f1;\n",
       "}\n",
       "#T_cfd12_row5_col0 {\n",
       "  background-color: #8bb2d4;\n",
       "  color: #000000;\n",
       "}\n",
       "#T_cfd12_row5_col2 {\n",
       "  background-color: #b3c3de;\n",
       "  color: #000000;\n",
       "}\n",
       "#T_cfd12_row5_col3 {\n",
       "  background-color: #acc0dd;\n",
       "  color: #000000;\n",
       "}\n",
       "#T_cfd12_row5_col4 {\n",
       "  background-color: #b1c2de;\n",
       "  color: #000000;\n",
       "}\n",
       "</style>\n",
       "<table id=\"T_cfd12\">\n",
       "  <thead>\n",
       "    <tr>\n",
       "      <th class=\"blank level0\" >&nbsp;</th>\n",
       "      <th id=\"T_cfd12_level0_col0\" class=\"col_heading level0 col0\" >survived</th>\n",
       "      <th id=\"T_cfd12_level0_col1\" class=\"col_heading level0 col1\" >pclass</th>\n",
       "      <th id=\"T_cfd12_level0_col2\" class=\"col_heading level0 col2\" >age</th>\n",
       "      <th id=\"T_cfd12_level0_col3\" class=\"col_heading level0 col3\" >sibsp</th>\n",
       "      <th id=\"T_cfd12_level0_col4\" class=\"col_heading level0 col4\" >parch</th>\n",
       "      <th id=\"T_cfd12_level0_col5\" class=\"col_heading level0 col5\" >fare</th>\n",
       "    </tr>\n",
       "  </thead>\n",
       "  <tbody>\n",
       "    <tr>\n",
       "      <th id=\"T_cfd12_level0_row0\" class=\"row_heading level0 row0\" >survived</th>\n",
       "      <td id=\"T_cfd12_row0_col0\" class=\"data row0 col0\" >1.000000</td>\n",
       "      <td id=\"T_cfd12_row0_col1\" class=\"data row0 col1\" >-0.338481</td>\n",
       "      <td id=\"T_cfd12_row0_col2\" class=\"data row0 col2\" >-0.077221</td>\n",
       "      <td id=\"T_cfd12_row0_col3\" class=\"data row0 col3\" >-0.035322</td>\n",
       "      <td id=\"T_cfd12_row0_col4\" class=\"data row0 col4\" >0.081629</td>\n",
       "      <td id=\"T_cfd12_row0_col5\" class=\"data row0 col5\" >0.257307</td>\n",
       "    </tr>\n",
       "    <tr>\n",
       "      <th id=\"T_cfd12_level0_row1\" class=\"row_heading level0 row1\" >pclass</th>\n",
       "      <td id=\"T_cfd12_row1_col0\" class=\"data row1 col0\" >-0.338481</td>\n",
       "      <td id=\"T_cfd12_row1_col1\" class=\"data row1 col1\" >1.000000</td>\n",
       "      <td id=\"T_cfd12_row1_col2\" class=\"data row1 col2\" >-0.369226</td>\n",
       "      <td id=\"T_cfd12_row1_col3\" class=\"data row1 col3\" >0.083081</td>\n",
       "      <td id=\"T_cfd12_row1_col4\" class=\"data row1 col4\" >0.018443</td>\n",
       "      <td id=\"T_cfd12_row1_col5\" class=\"data row1 col5\" >-0.549500</td>\n",
       "    </tr>\n",
       "    <tr>\n",
       "      <th id=\"T_cfd12_level0_row2\" class=\"row_heading level0 row2\" >age</th>\n",
       "      <td id=\"T_cfd12_row2_col0\" class=\"data row2 col0\" >-0.077221</td>\n",
       "      <td id=\"T_cfd12_row2_col1\" class=\"data row2 col1\" >-0.369226</td>\n",
       "      <td id=\"T_cfd12_row2_col2\" class=\"data row2 col2\" >1.000000</td>\n",
       "      <td id=\"T_cfd12_row2_col3\" class=\"data row2 col3\" >-0.308247</td>\n",
       "      <td id=\"T_cfd12_row2_col4\" class=\"data row2 col4\" >-0.189119</td>\n",
       "      <td id=\"T_cfd12_row2_col5\" class=\"data row2 col5\" >0.096067</td>\n",
       "    </tr>\n",
       "    <tr>\n",
       "      <th id=\"T_cfd12_level0_row3\" class=\"row_heading level0 row3\" >sibsp</th>\n",
       "      <td id=\"T_cfd12_row3_col0\" class=\"data row3 col0\" >-0.035322</td>\n",
       "      <td id=\"T_cfd12_row3_col1\" class=\"data row3 col1\" >0.083081</td>\n",
       "      <td id=\"T_cfd12_row3_col2\" class=\"data row3 col2\" >-0.308247</td>\n",
       "      <td id=\"T_cfd12_row3_col3\" class=\"data row3 col3\" >1.000000</td>\n",
       "      <td id=\"T_cfd12_row3_col4\" class=\"data row3 col4\" >0.414838</td>\n",
       "      <td id=\"T_cfd12_row3_col5\" class=\"data row3 col5\" >0.159651</td>\n",
       "    </tr>\n",
       "    <tr>\n",
       "      <th id=\"T_cfd12_level0_row4\" class=\"row_heading level0 row4\" >parch</th>\n",
       "      <td id=\"T_cfd12_row4_col0\" class=\"data row4 col0\" >0.081629</td>\n",
       "      <td id=\"T_cfd12_row4_col1\" class=\"data row4 col1\" >0.018443</td>\n",
       "      <td id=\"T_cfd12_row4_col2\" class=\"data row4 col2\" >-0.189119</td>\n",
       "      <td id=\"T_cfd12_row4_col3\" class=\"data row4 col3\" >0.414838</td>\n",
       "      <td id=\"T_cfd12_row4_col4\" class=\"data row4 col4\" >1.000000</td>\n",
       "      <td id=\"T_cfd12_row4_col5\" class=\"data row4 col5\" >0.216225</td>\n",
       "    </tr>\n",
       "    <tr>\n",
       "      <th id=\"T_cfd12_level0_row5\" class=\"row_heading level0 row5\" >fare</th>\n",
       "      <td id=\"T_cfd12_row5_col0\" class=\"data row5 col0\" >0.257307</td>\n",
       "      <td id=\"T_cfd12_row5_col1\" class=\"data row5 col1\" >-0.549500</td>\n",
       "      <td id=\"T_cfd12_row5_col2\" class=\"data row5 col2\" >0.096067</td>\n",
       "      <td id=\"T_cfd12_row5_col3\" class=\"data row5 col3\" >0.159651</td>\n",
       "      <td id=\"T_cfd12_row5_col4\" class=\"data row5 col4\" >0.216225</td>\n",
       "      <td id=\"T_cfd12_row5_col5\" class=\"data row5 col5\" >1.000000</td>\n",
       "    </tr>\n",
       "  </tbody>\n",
       "</table>\n"
      ],
      "text/plain": [
       "<pandas.io.formats.style.Styler at 0x2426cd82390>"
      ]
     },
     "execution_count": 21,
     "metadata": {},
     "output_type": "execute_result"
    }
   ],
   "source": [
    "corr_matrix.style.background_gradient()"
   ]
  },
  {
   "cell_type": "markdown",
   "metadata": {},
   "source": [
    "¿Qué conclusiones sacas de la matriz de correlaciones?"
   ]
  },
  {
   "cell_type": "code",
   "execution_count": null,
   "metadata": {
    "trusted": false
   },
   "outputs": [],
   "source": [
    "# Hay una fuerte correlación entre sibsp y parch, gente que viajaria en familia\n",
    "# Hay una ligera correlación entre coste del ticket y supervivencia y \n",
    "# una un poco más fuerte correlación entre clase y supervivencia\n",
    "# Hay una correlación menos fuerte de lo que me esperaba entre coste del ticket y la clase"
   ]
  },
  {
   "cell_type": "code",
   "execution_count": null,
   "metadata": {},
   "outputs": [
    {
     "name": "stdout",
     "output_type": "stream",
     "text": [
      "   Clase  Precio_Medio\n",
      "2      3     13.675550\n",
      "1      2     20.662183\n",
      "0      1     84.154687\n",
      "pclass\n",
      "3    491\n",
      "1    216\n",
      "2    184\n",
      "Name: count, dtype: int64\n"
     ]
    }
   ],
   "source": [
    "# Calcular la media de precio por clase\n",
    "media_precio = df_titanic.groupby('pclass')['fare'].mean()\n",
    "\n",
    "# Convertir a DataFrame y renombrar las columnas\n",
    "df_media_precio = media_precio.reset_index()\n",
    "df_media_precio.columns = ['Clase', 'Precio_Medio']\n",
    "\n",
    "# Ordenar el DataFrame de forma descendente según 'Media_Supervivientes'\n",
    "df_media_precio = df_media_precio.sort_values(by='Precio_Medio')\n",
    "\n",
    "# Mostrar el DataFrame resultante\n",
    "print(df_media_precio)\n",
    "print(df_titanic['pclass'].value_counts())"
   ]
  },
  {
   "cell_type": "code",
   "execution_count": null,
   "metadata": {},
   "outputs": [],
   "source": [
    "# Aunque la primera clase valga notablemente más coste la correlación es de solo 0.5\n",
    "# No hay pocos tickets vendidos tampoco, supongo que la segunda clase siendo cercana \n",
    "# a la tercera en precio hace que la correlacion sea menos fuerte"
   ]
  },
  {
   "cell_type": "markdown",
   "metadata": {},
   "source": [
    "Vamos a seguir explorando los datos haciendo algún gráfico más:"
   ]
  },
  {
   "cell_type": "markdown",
   "metadata": {},
   "source": [
    "- Grafico de barras para representar el número de supervivientes según la clase de billete y por sexos"
   ]
  },
  {
   "cell_type": "code",
   "execution_count": null,
   "metadata": {
    "trusted": false
   },
   "outputs": [
    {
     "data": {
      "image/png": "[encoded data removed]",
      "text/plain": [
       "<Figure size 1000x600 with 1 Axes>"
      ]
     },
     "metadata": {},
     "output_type": "display_data"
    }
   ],
   "source": [
    "# Agrupar los datos para contar los supervivientes por clase y sexo\n",
    "conteo_supervivientes = df_titanic.groupby(['pclass', 'sex'])['survived'].sum().reset_index()\n",
    "\n",
    "# Crear un gráfico de barras\n",
    "plt.figure(figsize=(10, 6))\n",
    "sns.barplot(data=conteo_supervivientes, x='pclass', y='survived', hue='sex')\n",
    "\n",
    "# Añadir títulos y etiquetas\n",
    "plt.title('Número de Supervivientes según Clase de Billete y Sexo')\n",
    "plt.xlabel('Clase de Billete')\n",
    "plt.ylabel('Número de Supervivientes')\n",
    "plt.legend(title='Sexo')\n",
    "\n",
    "# Mostrar el gráfico\n",
    "plt.show()"
   ]
  },
  {
   "cell_type": "markdown",
   "metadata": {},
   "source": [
    "- Usando FaceGird de seaborn representa los supervivientes según la clase de billete y el puerto de embarque"
   ]
  },
  {
   "cell_type": "code",
   "execution_count": null,
   "metadata": {
    "trusted": false
   },
   "outputs": [
    {
     "data": {
      "image/png": "[encoded data removed]",
      "text/plain": [
       "<Figure size 900x900 with 9 Axes>"
      ]
     },
     "metadata": {},
     "output_type": "display_data"
    }
   ],
   "source": [
    "# Crear un nuevo DataFrame que cuente los supervivientes por clase y puerto\n",
    "conteo_supervivientes = df_titanic.groupby(['pclass', 'embarked'])['survived'].sum().reset_index()\n",
    "\n",
    "# Crear un FacetGrid para representar los datos\n",
    "g = sns.FacetGrid(conteo_supervivientes, col='embarked', row='pclass', margin_titles=True)\n",
    "\n",
    "# Mapear el gráfico de barras\n",
    "g.map_dataframe(sns.barplot, x='embarked', y='survived', palette='viridis')\n",
    "\n",
    "# Añadir títulos y etiquetas\n",
    "g.set_axis_labels(\"Puerto de Embarque\", \"Número de Supervivientes\")\n",
    "g.set_titles(col_template=\"Puerto: {col_name}\", row_template=\"Clase: {row_name}\")\n",
    "g.fig.suptitle('Número de Supervivientes según Clase de Billete y Puerto de Embarque', fontsize=16)\n",
    "g.fig.subplots_adjust(top=0.9)  # Ajustar para dar espacio al título\n",
    "\n",
    "# Mostrar el gráfico\n",
    "plt.show()"
   ]
  },
  {
   "cell_type": "markdown",
   "metadata": {},
   "source": [
    "### DIVIDIR LOS DATOS"
   ]
  },
  {
   "cell_type": "markdown",
   "metadata": {},
   "source": [
    "Es hora de separar el conjunto de entrenamiento del conjunto de prueba (85% para el entrenamiento y haciendo un muestreo estratificado según la clase del billete, que parece que es una de las más correlacionada con la carracteristica survived y hay bastante más pasajeros de clase 3 que de clase 1 y2)."
   ]
  },
  {
   "cell_type": "code",
   "execution_count": null,
   "metadata": {
    "trusted": false
   },
   "outputs": [],
   "source": [
    "train_set, test_set = train_test_split(df_titanic, test_size=0.15, stratify=df_titanic[\"pclass\"], random_state=3)"
   ]
  },
  {
   "cell_type": "markdown",
   "metadata": {},
   "source": [
    "Haz una copia del conjunto de entrenamiento para trabajar con él."
   ]
  },
  {
   "cell_type": "code",
   "execution_count": null,
   "metadata": {
    "trusted": false
   },
   "outputs": [],
   "source": [
    "my_train_set = train_set.copy()"
   ]
  },
  {
   "cell_type": "markdown",
   "metadata": {},
   "source": [
    "### PREPARAR LOS DATOS"
   ]
  },
  {
   "cell_type": "markdown",
   "metadata": {},
   "source": [
    "Hay que crear un pipeline de transformación que haga los siguientes cambios:\n",
    "- pclass: \n",
    "  - rellenar datos faltantes con la moda\n",
    "- sex:\n",
    "  - rellenar datos faltantes con la moda\n",
    "  - convertir male a 0 y female a 1\n",
    "- age:\n",
    "  - rellenar datos faltantes con la media\n",
    "  - convertirla en variable categórica:\n",
    "      - 1 - <=16\n",
    "      - 2 - (16,32]\n",
    "      - 3 - (32,48]\n",
    "      - 4 - (48,64]\n",
    "      - 5 - >64)\n",
    "- family = sibsp + parch\n",
    "  - rellenar datos faltantes con la moda\n",
    "  - sumar las dos columnas\n",
    "- fare\n",
    "  - rellenar datos faltantes con la media\n",
    "  - aplicar raiz cuadrada\n",
    "  - estandarizar\n",
    "- embarked\n",
    "  - rellenar datos faltantes con la moda\n",
    "  - aplicar one-hot\n",
    "\n",
    "Pero vamos a empezar poco a poco"
   ]
  },
  {
   "cell_type": "markdown",
   "metadata": {},
   "source": [
    "Crea el atributo familia como suma de sibsp y parch y luego borra sibsp y parch"
   ]
  },
  {
   "cell_type": "code",
   "execution_count": null,
   "metadata": {
    "trusted": false
   },
   "outputs": [
    {
     "name": "stdout",
     "output_type": "stream",
     "text": [
      "<class 'pandas.core.frame.DataFrame'>\n",
      "RangeIndex: 891 entries, 0 to 890\n",
      "Data columns (total 8 columns):\n",
      " #   Column    Non-Null Count  Dtype  \n",
      "---  ------    --------------  -----  \n",
      " 0   survived  891 non-null    int64  \n",
      " 1   pclass    891 non-null    int64  \n",
      " 2   sex       891 non-null    object \n",
      " 3   age       714 non-null    float64\n",
      " 4   sibsp     891 non-null    int64  \n",
      " 5   parch     891 non-null    int64  \n",
      " 6   fare      891 non-null    float64\n",
      " 7   embarked  889 non-null    object \n",
      "dtypes: float64(2), int64(4), object(2)\n",
      "memory usage: 55.8+ KB\n",
      "<class 'pandas.core.frame.DataFrame'>\n",
      "Index: 757 entries, 820 to 310\n",
      "Data columns (total 7 columns):\n",
      " #   Column    Non-Null Count  Dtype  \n",
      "---  ------    --------------  -----  \n",
      " 0   survived  757 non-null    int64  \n",
      " 1   pclass    757 non-null    int64  \n",
      " 2   sex       757 non-null    object \n",
      " 3   age       600 non-null    float64\n",
      " 4   fare      757 non-null    float64\n",
      " 5   embarked  755 non-null    object \n",
      " 6   family    757 non-null    int64  \n",
      "dtypes: float64(2), int64(3), object(2)\n",
      "memory usage: 47.3+ KB\n"
     ]
    }
   ],
   "source": [
    "my_train_set[\"family\"] = my_train_set[\"sibsp\"] + my_train_set[\"parch\"]\n",
    "my_train_set = my_train_set.drop(\"sibsp\", axis=1)\n",
    "my_train_set = my_train_set.drop(\"parch\", axis=1)\n",
    "df_titanic.info()\n",
    "my_train_set.info()"
   ]
  },
  {
   "cell_type": "markdown",
   "metadata": {},
   "source": [
    "Rellenamos los datos ausentes en el dataframe (lo hacemos para todas las columnas aunque ahora la mayoría no tiene datos ausentes, pero no sabemos como serán los datos si tenemos que volver a entrenar el modelo)"
   ]
  },
  {
   "cell_type": "code",
   "execution_count": null,
   "metadata": {
    "trusted": false
   },
   "outputs": [
    {
     "name": "stdout",
     "output_type": "stream",
     "text": [
      "<class 'pandas.core.frame.DataFrame'>\n",
      "RangeIndex: 891 entries, 0 to 890\n",
      "Data columns (total 8 columns):\n",
      " #   Column    Non-Null Count  Dtype  \n",
      "---  ------    --------------  -----  \n",
      " 0   survived  891 non-null    int64  \n",
      " 1   pclass    891 non-null    int64  \n",
      " 2   sex       891 non-null    object \n",
      " 3   age       714 non-null    float64\n",
      " 4   sibsp     891 non-null    int64  \n",
      " 5   parch     891 non-null    int64  \n",
      " 6   fare      891 non-null    float64\n",
      " 7   embarked  889 non-null    object \n",
      "dtypes: float64(2), int64(4), object(2)\n",
      "memory usage: 55.8+ KB\n",
      "<class 'pandas.core.frame.DataFrame'>\n",
      "Index: 755 entries, 820 to 310\n",
      "Data columns (total 7 columns):\n",
      " #   Column    Non-Null Count  Dtype  \n",
      "---  ------    --------------  -----  \n",
      " 0   survived  755 non-null    int64  \n",
      " 1   pclass    755 non-null    int64  \n",
      " 2   sex       755 non-null    object \n",
      " 3   age       755 non-null    float64\n",
      " 4   fare      755 non-null    float64\n",
      " 5   embarked  755 non-null    object \n",
      " 6   family    755 non-null    int64  \n",
      "dtypes: float64(2), int64(3), object(2)\n",
      "memory usage: 47.2+ KB\n"
     ]
    },
    {
     "data": {
      "text/html": [
       "<div>\n",
       "<style scoped>\n",
       "    .dataframe tbody tr th:only-of-type {\n",
       "        vertical-align: middle;\n",
       "    }\n",
       "\n",
       "    .dataframe tbody tr th {\n",
       "        vertical-align: top;\n",
       "    }\n",
       "\n",
       "    .dataframe thead th {\n",
       "        text-align: right;\n",
       "    }\n",
       "</style>\n",
       "<table border=\"1\" class=\"dataframe\">\n",
       "  <thead>\n",
       "    <tr style=\"text-align: right;\">\n",
       "      <th></th>\n",
       "      <th>survived</th>\n",
       "      <th>pclass</th>\n",
       "      <th>age</th>\n",
       "      <th>fare</th>\n",
       "      <th>family</th>\n",
       "    </tr>\n",
       "  </thead>\n",
       "  <tbody>\n",
       "    <tr>\n",
       "      <th>count</th>\n",
       "      <td>755.000000</td>\n",
       "      <td>755.000000</td>\n",
       "      <td>755.000000</td>\n",
       "      <td>755.000000</td>\n",
       "      <td>755.000000</td>\n",
       "    </tr>\n",
       "    <tr>\n",
       "      <th>mean</th>\n",
       "      <td>0.376159</td>\n",
       "      <td>2.311258</td>\n",
       "      <td>29.691890</td>\n",
       "      <td>31.920535</td>\n",
       "      <td>0.891391</td>\n",
       "    </tr>\n",
       "    <tr>\n",
       "      <th>std</th>\n",
       "      <td>0.484742</td>\n",
       "      <td>0.835116</td>\n",
       "      <td>12.972998</td>\n",
       "      <td>48.314788</td>\n",
       "      <td>1.553252</td>\n",
       "    </tr>\n",
       "    <tr>\n",
       "      <th>min</th>\n",
       "      <td>0.000000</td>\n",
       "      <td>1.000000</td>\n",
       "      <td>0.420000</td>\n",
       "      <td>0.000000</td>\n",
       "      <td>0.000000</td>\n",
       "    </tr>\n",
       "    <tr>\n",
       "      <th>25%</th>\n",
       "      <td>0.000000</td>\n",
       "      <td>2.000000</td>\n",
       "      <td>22.000000</td>\n",
       "      <td>7.910400</td>\n",
       "      <td>0.000000</td>\n",
       "    </tr>\n",
       "    <tr>\n",
       "      <th>50%</th>\n",
       "      <td>0.000000</td>\n",
       "      <td>3.000000</td>\n",
       "      <td>29.691890</td>\n",
       "      <td>14.454200</td>\n",
       "      <td>0.000000</td>\n",
       "    </tr>\n",
       "    <tr>\n",
       "      <th>75%</th>\n",
       "      <td>1.000000</td>\n",
       "      <td>3.000000</td>\n",
       "      <td>35.000000</td>\n",
       "      <td>30.597900</td>\n",
       "      <td>1.000000</td>\n",
       "    </tr>\n",
       "    <tr>\n",
       "      <th>max</th>\n",
       "      <td>1.000000</td>\n",
       "      <td>3.000000</td>\n",
       "      <td>74.000000</td>\n",
       "      <td>512.329200</td>\n",
       "      <td>10.000000</td>\n",
       "    </tr>\n",
       "  </tbody>\n",
       "</table>\n",
       "</div>"
      ],
      "text/plain": [
       "         survived      pclass         age        fare      family\n",
       "count  755.000000  755.000000  755.000000  755.000000  755.000000\n",
       "mean     0.376159    2.311258   29.691890   31.920535    0.891391\n",
       "std      0.484742    0.835116   12.972998   48.314788    1.553252\n",
       "min      0.000000    1.000000    0.420000    0.000000    0.000000\n",
       "25%      0.000000    2.000000   22.000000    7.910400    0.000000\n",
       "50%      0.000000    3.000000   29.691890   14.454200    0.000000\n",
       "75%      1.000000    3.000000   35.000000   30.597900    1.000000\n",
       "max      1.000000    3.000000   74.000000  512.329200   10.000000"
      ]
     },
     "execution_count": 356,
     "metadata": {},
     "output_type": "execute_result"
    }
   ],
   "source": [
    "# Limpiamos embarked aparte que es categorica\n",
    "my_train_set.dropna(subset=[\"embarked\"], inplace=True)\n",
    "# Sacamos las columnas numéricas para aplicar la media\n",
    "numeric_columns = my_train_set.select_dtypes(include='number')\n",
    "# Llenamos todos los NA por la media de la columna\n",
    "my_train_set[numeric_columns.columns] = numeric_columns.fillna(numeric_columns.mean())\n",
    "df_titanic.info()\n",
    "my_train_set.info()\n",
    "df_titanic.describe()\n",
    "my_train_set.describe()"
   ]
  },
  {
   "cell_type": "markdown",
   "metadata": {},
   "source": [
    "En el columna sex sustituir male por 0 y female por 1"
   ]
  },
  {
   "cell_type": "code",
   "execution_count": null,
   "metadata": {
    "trusted": false
   },
   "outputs": [
    {
     "name": "stdout",
     "output_type": "stream",
     "text": [
      "<class 'pandas.core.frame.DataFrame'>\n",
      "RangeIndex: 891 entries, 0 to 890\n",
      "Data columns (total 8 columns):\n",
      " #   Column    Non-Null Count  Dtype  \n",
      "---  ------    --------------  -----  \n",
      " 0   survived  891 non-null    int64  \n",
      " 1   pclass    891 non-null    int64  \n",
      " 2   sex       891 non-null    object \n",
      " 3   age       714 non-null    float64\n",
      " 4   sibsp     891 non-null    int64  \n",
      " 5   parch     891 non-null    int64  \n",
      " 6   fare      891 non-null    float64\n",
      " 7   embarked  889 non-null    object \n",
      "dtypes: float64(2), int64(4), object(2)\n",
      "memory usage: 55.8+ KB\n",
      "<class 'pandas.core.frame.DataFrame'>\n",
      "Index: 755 entries, 820 to 310\n",
      "Data columns (total 7 columns):\n",
      " #   Column    Non-Null Count  Dtype  \n",
      "---  ------    --------------  -----  \n",
      " 0   survived  755 non-null    int64  \n",
      " 1   pclass    755 non-null    int64  \n",
      " 2   sex       755 non-null    int64  \n",
      " 3   age       755 non-null    float64\n",
      " 4   fare      755 non-null    float64\n",
      " 5   embarked  755 non-null    object \n",
      " 6   family    755 non-null    int64  \n",
      "dtypes: float64(2), int64(4), object(1)\n",
      "memory usage: 47.2+ KB\n"
     ]
    }
   ],
   "source": [
    "my_train_set['sex'] = my_train_set['sex'].replace({'male': 0, 'female': 1})\n",
    "df_titanic.info()\n",
    "my_train_set.info()"
   ]
  },
  {
   "cell_type": "markdown",
   "metadata": {},
   "source": [
    "Aplicar One-Hot a la columna embarked"
   ]
  },
  {
   "cell_type": "code",
   "execution_count": null,
   "metadata": {
    "trusted": false
   },
   "outputs": [
    {
     "name": "stdout",
     "output_type": "stream",
     "text": [
      "<class 'pandas.core.frame.DataFrame'>\n",
      "RangeIndex: 891 entries, 0 to 890\n",
      "Data columns (total 8 columns):\n",
      " #   Column    Non-Null Count  Dtype  \n",
      "---  ------    --------------  -----  \n",
      " 0   survived  891 non-null    int64  \n",
      " 1   pclass    891 non-null    int64  \n",
      " 2   sex       891 non-null    object \n",
      " 3   age       714 non-null    float64\n",
      " 4   sibsp     891 non-null    int64  \n",
      " 5   parch     891 non-null    int64  \n",
      " 6   fare      891 non-null    float64\n",
      " 7   embarked  889 non-null    object \n",
      "dtypes: float64(2), int64(4), object(2)\n",
      "memory usage: 55.8+ KB\n",
      "<class 'pandas.core.frame.DataFrame'>\n",
      "Index: 755 entries, 820 to 310\n",
      "Data columns (total 9 columns):\n",
      " #   Column      Non-Null Count  Dtype  \n",
      "---  ------      --------------  -----  \n",
      " 0   survived    755 non-null    int64  \n",
      " 1   pclass      755 non-null    int64  \n",
      " 2   sex         755 non-null    int64  \n",
      " 3   age         755 non-null    float64\n",
      " 4   fare        755 non-null    float64\n",
      " 5   family      755 non-null    int64  \n",
      " 6   embarked_C  755 non-null    bool   \n",
      " 7   embarked_Q  755 non-null    bool   \n",
      " 8   embarked_S  755 non-null    bool   \n",
      "dtypes: bool(3), float64(2), int64(4)\n",
      "memory usage: 43.5 KB\n"
     ]
    }
   ],
   "source": [
    "# Pandas trae un método más simple que scikit\n",
    "my_train_set = pd.get_dummies(my_train_set, columns=['embarked'])\n",
    "df_titanic.info()\n",
    "my_train_set.info()"
   ]
  },
  {
   "cell_type": "markdown",
   "metadata": {},
   "source": [
    "Convertir la variable age en una variable categórica: \n",
    "- 1 - <=16\n",
    "- 2 - (16,32]\n",
    "- 3 - (32,48]\n",
    "- 4 - (48,64]\n",
    "- 5 - >64)"
   ]
  },
  {
   "cell_type": "code",
   "execution_count": null,
   "metadata": {
    "trusted": false
   },
   "outputs": [
    {
     "data": {
      "text/plain": [
       "['4', '2', '3', '5', '1']\n",
       "Categories (5, object): ['1' < '2' < '3' < '4' < '5']"
      ]
     },
     "execution_count": 359,
     "metadata": {},
     "output_type": "execute_result"
    }
   ],
   "source": [
    "my_train_set['age'] = pd.cut(my_train_set['age'], bins=[0,16,32,48,64,100], labels=[\"1\",\"2\",\"3\",\"4\",\"5\"], right=False)\n",
    "my_train_set['age'].unique()"
   ]
  },
  {
   "cell_type": "markdown",
   "metadata": {},
   "source": [
    "Como la columna fare tiene una cola larga por la derecha y tiene valores que son cero aplica la raiz cuadrada a la variable"
   ]
  },
  {
   "cell_type": "code",
   "execution_count": null,
   "metadata": {
    "trusted": false
   },
   "outputs": [
    {
     "data": {
      "text/plain": [
       "count    755.000000\n",
       "mean       4.836946\n",
       "std        2.921608\n",
       "min        0.000000\n",
       "25%        2.812542\n",
       "50%        3.801868\n",
       "75%        5.531530\n",
       "max       22.634690\n",
       "Name: fare, dtype: float64"
      ]
     },
     "execution_count": 360,
     "metadata": {},
     "output_type": "execute_result"
    }
   ],
   "source": [
    "my_train_set[\"fare\"] = np.sqrt(my_train_set[\"fare\"])\n",
    "df_titanic[\"fare\"].describe()\n",
    "my_train_set[\"fare\"].describe()"
   ]
  },
  {
   "cell_type": "markdown",
   "metadata": {},
   "source": [
    "Estandarizar la variable fare"
   ]
  },
  {
   "cell_type": "code",
   "execution_count": null,
   "metadata": {
    "trusted": false
   },
   "outputs": [
    {
     "data": {
      "text/plain": [
       "count    7.550000e+02\n",
       "mean     6.352534e-17\n",
       "std      1.000663e+00\n",
       "min     -1.656674e+00\n",
       "25%     -6.933667e-01\n",
       "50%     -3.545185e-01\n",
       "75%      2.378978e-01\n",
       "max      6.095801e+00\n",
       "Name: fare, dtype: float64"
      ]
     },
     "execution_count": 361,
     "metadata": {},
     "output_type": "execute_result"
    }
   ],
   "source": [
    "from sklearn.preprocessing import StandardScaler\n",
    "# Inicializar el escalador\n",
    "scaler = StandardScaler()\n",
    "# Básicamente hace (el valor - la media) / la desviación estándar\n",
    "my_train_set['fare'] = scaler.fit_transform(my_train_set[['fare']])\n",
    "my_train_set['fare'].describe()"
   ]
  },
  {
   "cell_type": "markdown",
   "metadata": {},
   "source": [
    "Ya esta el dataframe con los datos de entrenamiento preparados, pero los cambios hechos también hay que hacerlos en los datps de prueba a y en un futuro en otros dataframe bien para entrenar de nuevo el modelo, bien para predecir datos. Por lo tanto, hay que crear una pipeline a la que le pasamos el dataframe y haga todos los cambios."
   ]
  },
  {
   "cell_type": "code",
   "execution_count": null,
   "metadata": {
    "trusted": false
   },
   "outputs": [
    {
     "name": "stdout",
     "output_type": "stream",
     "text": [
      "<class 'pandas.core.frame.DataFrame'>\n",
      "RangeIndex: 891 entries, 0 to 890\n",
      "Data columns (total 9 columns):\n",
      " #   Column                      Non-Null Count  Dtype  \n",
      "---  ------                      --------------  -----  \n",
      " 0   pclass__pclass              891 non-null    float64\n",
      " 1   sex__sex_encoded            891 non-null    float64\n",
      " 2   age__age_encoded            891 non-null    float64\n",
      " 3   family__family_transformed  891 non-null    float64\n",
      " 4   fare__fare                  891 non-null    float64\n",
      " 5   embarked__x0_C              891 non-null    float64\n",
      " 6   embarked__x0_Q              891 non-null    float64\n",
      " 7   embarked__x0_S              891 non-null    float64\n",
      " 8   remainder__survived         891 non-null    float64\n",
      "dtypes: float64(9)\n",
      "memory usage: 62.8 KB\n"
     ]
    }
   ],
   "source": [
    "from sklearn.base import BaseEstimator, TransformerMixin\n",
    "from sklearn.pipeline import Pipeline\n",
    "from sklearn.compose import ColumnTransformer\n",
    "from sklearn.preprocessing import OneHotEncoder, StandardScaler, LabelEncoder\n",
    "\n",
    "# Clase para codificar el sexo\n",
    "class SexEncoder(BaseEstimator, TransformerMixin):\n",
    "    def fit(self, X, y=None):\n",
    "        self.le = LabelEncoder()\n",
    "        self.le.fit(X.to_numpy().ravel())  # Necesario array 1D\n",
    "        return self\n",
    "\n",
    "    def transform(self, X):\n",
    "        return self.le.transform(X.values.ravel()).reshape(-1, 1)\n",
    "    \n",
    "    def get_feature_names_out(self, input_features=None):\n",
    "        return np.array(['sex_encoded'])  # Devuelve nombre columna\n",
    "\n",
    "# Clase para procesar la edad\n",
    "class AgeEncoder(BaseEstimator, TransformerMixin):\n",
    "    def fit(self, X, y=None):\n",
    "        self.imputer = SimpleImputer(strategy='most_frequent')  # Rellenar valores faltantes con la moda\n",
    "        self.imputer.fit(X)  # Ajustar el imputador\n",
    "        return self\n",
    "\n",
    "    def transform(self, X):\n",
    "        X_imputed = self.imputer.transform(X)\n",
    "        # Categorizamos las edades en grupos\n",
    "        age_bins = [0, 16, 32, 48, 64, np.inf]  # Definir los límites de los grupos\n",
    "        age_labels = [1, 2, 3, 4, 5]  # Etiquetas para los grupos\n",
    "        return pd.cut(X_imputed.flatten(), bins=age_bins, labels=age_labels).to_numpy().reshape(-1, 1)\n",
    "    \n",
    "    def get_feature_names_out(self, input_features=None):\n",
    "        return np.array(['age_encoded'])\n",
    "\n",
    "# Clase para crear la columna 'family'\n",
    "class FamilySizeTransformer(BaseEstimator, TransformerMixin):\n",
    "    def fit(self, X, y=None):\n",
    "        self.imputer = SimpleImputer(strategy='most_frequent')  # Rellenar valores faltantes con la moda\n",
    "        self.imputer.fit(X)  # Ajustar el imputador\n",
    "        return self\n",
    "\n",
    "    def transform(self, X):\n",
    "        return (X['sibsp'] + X['parch']).to_numpy().reshape(-1, 1)\n",
    "\n",
    "    def get_feature_names_out(self, input_features=None):\n",
    "        return np.array(['family_transformed'])  # Nombre de la nueva columna\n",
    "\n",
    "# Clase para procesar el puerto de embarque\n",
    "class EmbarkedTransformer(BaseEstimator, TransformerMixin):\n",
    "    def __init__(self):\n",
    "        self.imputer = SimpleImputer(strategy='most_frequent')  # Rellenar valores faltantes con la moda\n",
    "        self.encoder = OneHotEncoder(sparse_output=False)  # Configuración para obtener un array denso\n",
    "\n",
    "    def fit(self, X, y=None):\n",
    "        # Ajustar el imputador a los datos\n",
    "        self.imputer.fit(X)\n",
    "        # Ajustar el codificador a los datos imputados\n",
    "        X_imputed = self.imputer.transform(X)\n",
    "        self.encoder.fit(X_imputed)\n",
    "        return self\n",
    "\n",
    "    def transform(self, X):\n",
    "        # Rellenar valores faltantes primero\n",
    "        X_imputed = self.imputer.transform(X)\n",
    "        # Transformar los datos\n",
    "        transformed_data = self.encoder.transform(X_imputed)\n",
    "        # Obtener los nombres de las columnas codificadas\n",
    "        column_names = self.encoder.get_feature_names_out(input_features=X.columns)\n",
    "        return pd.DataFrame(transformed_data, columns=column_names, index=X.index)\n",
    "\n",
    "    def get_feature_names_out(self, input_features=None):\n",
    "        return self.encoder.get_feature_names_out()  # Obtener los nombres de las columnas codificadas\n",
    "    \n",
    "# Pipeline para procesar la tarifa\n",
    "fare_pipeline = make_pipeline(\n",
    "    SimpleImputer(strategy=\"mean\"),  # Rellenar con la media\n",
    "    FunctionTransformer(np.sqrt, feature_names_out=\"one-to-one\"),  # Aplicar la raíz cuadrada\n",
    "    StandardScaler()  # Estandarizar\n",
    ")\n",
    "\n",
    "# Combinación de transformadores\n",
    "preprocessing = ColumnTransformer([\n",
    "        (\"pclass\", SimpleImputer(strategy='most_frequent'), [\"pclass\"]),  # llena pclass con la moda\n",
    "        (\"sex\", SexEncoder(), [\"sex\"]),  # transforma male = 0 y female = 1\n",
    "        (\"age\", AgeEncoder(), [\"age\"]),  # categoriza age\n",
    "        (\"family\", FamilySizeTransformer(), [\"sibsp\", \"parch\"]),  # junta en family a sibsp y parch\n",
    "        (\"fare\", fare_pipeline, [\"fare\"]),  # hacer cambios a fare\n",
    "        (\"embarked\", EmbarkedTransformer(), [\"embarked\"]),  # hacer cambios a fare\n",
    "    ],\n",
    "    remainder='passthrough')\n",
    "\n",
    "# Aplicar la transformación\n",
    "prep_array = preprocessing.fit_transform(df_titanic)\n",
    "\n",
    "# Obtener los nombres de las columnas automáticamente\n",
    "feature_names = preprocessing.get_feature_names_out()\n",
    "\n",
    "# Convertir a DataFrame y asignar nombres de columnas automáticamente\n",
    "prep_df = pd.DataFrame(prep_array, columns=feature_names)\n",
    "\n",
    "prep_df.info()"
   ]
  },
  {
   "cell_type": "markdown",
   "metadata": {},
   "source": [
    "## ENTRENAMIENTO Y EVALUACIÓN DEL MODELO"
   ]
  },
  {
   "cell_type": "markdown",
   "metadata": {},
   "source": [
    "Vamos a probar varios algoritmos para ver cual es el que mejor va, para ello primero vamos a evaluarlos manualmente y luego ya utilizaremos validación cruzada.\n",
    "\n",
    "En concreto vamos a probar:\n",
    "- Regresión logística\n",
    "- Random Forest\n",
    "- KNN (K - Nearest Neighbors)\n",
    "\n",
    "Cuanto más se acerque a 1 la exactitud (accuracy), mejor será el modelo."
   ]
  },
  {
   "cell_type": "markdown",
   "metadata": {},
   "source": [
    "### REGRESIÓN LOGÍSTICA\n",
    "Pasos a seguir:\n",
    "- Separar y (columna a predecir) y X (resto de columnas) en el conjunto de entrenamiento\n",
    "- Separar y (columna a predecir) y X (resto de columnas) en el conjunto de test\n",
    "- Crear el modelo (modelo = LogisticRegression())\n",
    "- Entrenar el modelo\n",
    "- Calcular la precisión para el conjunto de entrenamiento (usa accuracy_score)\n",
    "- Calcular la precisión para el conjunto de test "
   ]
  },
  {
   "cell_type": "code",
   "execution_count": null,
   "metadata": {
    "trusted": false
   },
   "outputs": [
    {
     "name": "stdout",
     "output_type": "stream",
     "text": [
      "Precisión en el conjunto de entrenamiento: 0.81\n",
      "Precisión en el conjunto de prueba: 0.77\n"
     ]
    }
   ],
   "source": [
    "# Separar X (características) y y (columna objetivo)\n",
    "df = df_titanic.copy()\n",
    "X = df.drop('survived', axis=1)\n",
    "y = df['survived']\n",
    "\n",
    "# Preprocesar las características\n",
    "X_processed = preprocessing.fit_transform(X)\n",
    "\n",
    "# Dividir el conjunto en entrenamiento y prueba\n",
    "X_train, X_test, y_train, y_test = train_test_split(X_processed, y, test_size=0.2, random_state=3)\n",
    "\n",
    "# Crear el modelo de regresión logística\n",
    "modelo = LogisticRegression()\n",
    "\n",
    "# Entrenar el modelo\n",
    "modelo.fit(X_train, y_train)\n",
    "\n",
    "# Predecir en el conjunto de entrenamiento\n",
    "y_train_pred = modelo.predict(X_train)\n",
    "\n",
    "# Predecir en el conjunto de prueba\n",
    "y_test_pred = modelo.predict(X_test)\n",
    "\n",
    "# Calcular la precisión\n",
    "train_accuracy_reg = accuracy_score(y_train, y_train_pred)\n",
    "test_accuracy_reg = accuracy_score(y_test, y_test_pred)\n",
    "\n",
    "# Mostrar resultados\n",
    "print(f'Precisión en el conjunto de entrenamiento: {train_accuracy_reg:.2f}')\n",
    "print(f'Precisión en el conjunto de prueba: {test_accuracy_reg:.2f}')\n"
   ]
  },
  {
   "cell_type": "markdown",
   "metadata": {},
   "source": [
    "### RANDOM FOREST\n",
    "Hacemos lo mismo pero ahora usando el algoritmo Random Forest (RandomForestClassifier(n_estimators=100))"
   ]
  },
  {
   "cell_type": "code",
   "execution_count": null,
   "metadata": {
    "trusted": false
   },
   "outputs": [
    {
     "name": "stdout",
     "output_type": "stream",
     "text": [
      "Precisión en el conjunto de entrenamiento: 0.94\n",
      "Precisión en el conjunto de prueba: 0.79\n"
     ]
    }
   ],
   "source": [
    "# Separar X (características) y y (columna objetivo)\n",
    "df = df_titanic.copy()\n",
    "X = df.drop('survived', axis=1)\n",
    "y = df['survived']\n",
    "\n",
    "# Preprocesar las características\n",
    "X_processed = preprocessing.fit_transform(X)\n",
    "\n",
    "# Dividir el conjunto en entrenamiento y prueba\n",
    "X_train, X_test, y_train, y_test = train_test_split(X_processed, y, test_size=0.2, random_state=3)\n",
    "\n",
    "# Crear el modelo de random forest\n",
    "modelo = RandomForestClassifier(n_estimators=100)\n",
    "\n",
    "# Entrenar el modelo\n",
    "modelo.fit(X_train, y_train)\n",
    "\n",
    "# Predecir en el conjunto de entrenamiento\n",
    "y_train_pred = modelo.predict(X_train)\n",
    "\n",
    "# Predecir en el conjunto de prueba\n",
    "y_test_pred = modelo.predict(X_test)\n",
    "\n",
    "# Calcular la precisión\n",
    "train_accuracy_rand = accuracy_score(y_train, y_train_pred)\n",
    "test_accuracy_rand = accuracy_score(y_test, y_test_pred)\n",
    "\n",
    "# Mostrar resultados\n",
    "print(f'Precisión en el conjunto de entrenamiento: {train_accuracy_rand:.2f}')\n",
    "print(f'Precisión en el conjunto de prueba: {test_accuracy_rand:.2f}')"
   ]
  },
  {
   "cell_type": "markdown",
   "metadata": {},
   "source": [
    "### K - NEAREST NEIGHBORS\n",
    "Hacemos lo mismo pero ahora usando el algoritmo K - Nearest Neighbours (KNeighborsClassifier(n_neighbors=3))"
   ]
  },
  {
   "cell_type": "code",
   "execution_count": null,
   "metadata": {
    "trusted": false
   },
   "outputs": [
    {
     "name": "stdout",
     "output_type": "stream",
     "text": [
      "Precisión en el conjunto de entrenamiento: 0.88\n",
      "Precisión en el conjunto de prueba: 0.74\n"
     ]
    }
   ],
   "source": [
    "# Separar X (características) y y (columna objetivo)\n",
    "df = df_titanic.copy()\n",
    "X = df.drop('survived', axis=1)\n",
    "y = df['survived']\n",
    "\n",
    "# Preprocesar las características\n",
    "X_processed = preprocessing.fit_transform(X)\n",
    "\n",
    "# Dividir el conjunto en entrenamiento y prueba\n",
    "X_train, X_test, y_train, y_test = train_test_split(X_processed, y, test_size=0.2, random_state=3)\n",
    "\n",
    "# Crear el modelo de KNN\n",
    "modelo = KNeighborsClassifier(n_neighbors=3)\n",
    "\n",
    "# Entrenar el modelo\n",
    "modelo.fit(X_train, y_train)\n",
    "\n",
    "# Predecir en el conjunto de entrenamiento\n",
    "y_train_pred = modelo.predict(X_train)\n",
    "\n",
    "# Predecir en el conjunto de prueba\n",
    "y_test_pred = modelo.predict(X_test)\n",
    "\n",
    "# Calcular la precisión\n",
    "train_accuracy_k = accuracy_score(y_train, y_train_pred)\n",
    "test_accuracy_k = accuracy_score(y_test, y_test_pred)\n",
    "\n",
    "# Mostrar resultados\n",
    "print(f'Precisión en el conjunto de entrenamiento: {train_accuracy_k:.2f}')\n",
    "print(f'Precisión en el conjunto de prueba: {test_accuracy_k:.2f}')"
   ]
  },
  {
   "cell_type": "markdown",
   "metadata": {},
   "source": [
    "### COMPARACIÓN"
   ]
  },
  {
   "cell_type": "markdown",
   "metadata": {},
   "source": [
    "Muestra una tablas con los resultado obtenidos\n",
    "\n",
    "\n",
    "| Modelo                 |Precisión entrenamiento   | Precisión test  |\n",
    "|------------------------|--------------------------|-----------------|\n",
    "| LogisticRegression     |                          |                 |\n",
    "| RandomForestClassifier |                          |                 |\n",
    "| KNeighborsClassifier   |                          |                 |"
   ]
  },
  {
   "cell_type": "code",
   "execution_count": null,
   "metadata": {
    "trusted": false
   },
   "outputs": [
    {
     "name": "stdout",
     "output_type": "stream",
     "text": [
      "                   Modelo  Precisión entrenamiento  Precisión test\n",
      "0      LogisticRegression                 0.808989        0.765363\n",
      "1  RandomForestClassifier                 0.943820        0.787709\n",
      "2    KNeighborsClassifier                 0.880618        0.737430\n"
     ]
    }
   ],
   "source": [
    "# Crear un DataFrame vacío con los nombres de los modelos\n",
    "results = pd.DataFrame({\n",
    "    \"Modelo\": [\"LogisticRegression\", \"RandomForestClassifier\", \"KNeighborsClassifier\"],\n",
    "    \"Precisión entrenamiento\": [train_accuracy_reg, train_accuracy_rand, train_accuracy_k],\n",
    "    \"Precisión test\": [test_accuracy_reg, test_accuracy_rand, test_accuracy_k]\n",
    "})\n",
    "\n",
    "# Mostrar la tabla\n",
    "print(results)"
   ]
  },
  {
   "cell_type": "markdown",
   "metadata": {},
   "source": [
    "A la vista de los resultados con ¿cual te quedas para trabajarlo con validación cruzada y luego optimizarlo?"
   ]
  },
  {
   "cell_type": "code",
   "execution_count": null,
   "metadata": {
    "trusted": false
   },
   "outputs": [],
   "source": [
    "# Con randomforest"
   ]
  },
  {
   "cell_type": "markdown",
   "metadata": {},
   "source": [
    "Vamos a usar RandomForestClassifier con validación cruzada"
   ]
  },
  {
   "cell_type": "code",
   "execution_count": null,
   "metadata": {},
   "outputs": [
    {
     "name": "stdout",
     "output_type": "stream",
     "text": [
      "RMSE promedio a través de validación cruzada: 0.46\n"
     ]
    }
   ],
   "source": [
    "from sklearn.metrics import make_scorer, mean_squared_error\n",
    "\n",
    "# Crear un scorer para RMSE\n",
    "rmse_scorer = make_scorer(mean_squared_error, squared=False)\n",
    "\n",
    "# Calcular el RMSE usando validación cruzada\n",
    "tree_rmses = -cross_val_score(modelo, X_processed, y, scoring=\"neg_root_mean_squared_error\", cv=10)\n",
    "\n",
    "# Mostrar el RMSE promedio\n",
    "print(f'RMSE promedio a través de validación cruzada: {np.mean(tree_rmses):.2f}')\n"
   ]
  },
  {
   "cell_type": "markdown",
   "metadata": {},
   "source": [
    "## OPTIMIZACIÓN DEL MODELO"
   ]
  },
  {
   "cell_type": "markdown",
   "metadata": {},
   "source": [
    "Vamos a optimizar el modelo usando busqueda aleatorio para optimizar los hiperparametros, en concreto vamos a mejorar los siguientes hiperparametros\n",
    "``````\n",
    "param_dist = {\n",
    "    'randomforestclassifier__n_estimators': randint(10, 200),\n",
    "    'randomforestclassifier__max_features': ['sqrt', 'log2', None]\n",
    "}\n",
    "``````"
   ]
  },
  {
   "cell_type": "code",
   "execution_count": null,
   "metadata": {
    "trusted": false
   },
   "outputs": [
    {
     "name": "stdout",
     "output_type": "stream",
     "text": [
      "Mejores parámetros: {'random_forest__max_features': 6, 'random_forest__n_estimators': 200}\n",
      "Mejor puntuación (RMSE negativo): 0.3927008473679256\n"
     ]
    }
   ],
   "source": [
    "from sklearn.model_selection import GridSearchCV\n",
    "from sklearn.ensemble import RandomForestRegressor\n",
    "\n",
    "full_pipeline = Pipeline([\n",
    "    (\"preprocessing\", preprocessing),\n",
    "    (\"random_forest\", RandomForestRegressor(random_state=3)),\n",
    "])\n",
    "param_grid = [\n",
    "    {\n",
    "        \"random_forest__n_estimators\": [50, 100, 200],\n",
    "        \"random_forest__max_features\": [4, 6, 8, 10],\n",
    "    }\n",
    "]\n",
    "\n",
    "grid_search = GridSearchCV(full_pipeline, param_grid, cv=3, scoring='neg_root_mean_squared_error')\n",
    "grid_search.fit(X, y)\n",
    "print(\"Mejores parámetros:\", grid_search.best_params_)\n",
    "print(\"Mejor puntuación (RMSE negativo):\", -grid_search.best_score_)\n"
   ]
  },
  {
   "cell_type": "markdown",
   "metadata": {},
   "source": [
    "### EVALUACIÓN EN EL CONJUNTO DE PRUEBA"
   ]
  },
  {
   "cell_type": "markdown",
   "metadata": {},
   "source": [
    "EvaluaR el modelo usando accuracy_score y el conjunto de datos de test"
   ]
  },
  {
   "cell_type": "code",
   "execution_count": null,
   "metadata": {
    "trusted": false
   },
   "outputs": [
    {
     "name": "stdout",
     "output_type": "stream",
     "text": [
      "Precisión en el conjunto de prueba: 0.79\n"
     ]
    }
   ],
   "source": [
    "df = df_titanic.copy()\n",
    "X = df.drop('survived', axis=1) # Características\n",
    "y = df['survived'] # Columna a predecir\n",
    "\n",
    "# Dividir el conjunto en entrenamiento y prueba\n",
    "X_train, X_test, y_train, y_test = train_test_split(X, y, test_size=0.2, random_state=3)\n",
    "\n",
    "# Crear el pipeline con preprocesamiento y modelo\n",
    "pipeline = Pipeline([\n",
    "    ('preprocessing', preprocessing),\n",
    "    ('random_forest', RandomForestClassifier(n_estimators=200, max_features=6, random_state=3))\n",
    "])\n",
    "\n",
    "# Entrenar el modelo usando el pipeline\n",
    "modelo = pipeline.fit(X_train, y_train)\n",
    "\n",
    "# Predecir en el conjunto de prueba usando el pipeline\n",
    "y_test_pred = pipeline.predict(X_test)\n",
    "\n",
    "# Calcular la precisión\n",
    "test_accuracy = accuracy_score(y_test, y_test_pred)\n",
    "\n",
    "# Mostrar la precisión\n",
    "print(f'Precisión en el conjunto de prueba: {test_accuracy:.2f}')\n"
   ]
  },
  {
   "cell_type": "markdown",
   "metadata": {},
   "source": [
    "## PRESENTACIÓN DE LA SOLUCIÓN"
   ]
  },
  {
   "cell_type": "markdown",
   "metadata": {},
   "source": [
    "Ahora tienes que crear un archivo .py con todo lo necesario para que ejecute el modelo que acabamos de crear, en concreto el script tiene que ejecutar lo siguiente:\n",
    "- Pedir un csv para predecir los datos (suponemos que los datos en el csv están bien)\n",
    "- Cargamos los datos del csv en un dataframe.\n",
    "- Aplicamos nuestro modelo al dataframe.\n",
    "- Informamos al usuario de las predicciones."
   ]
  },
  {
   "cell_type": "code",
   "execution_count": null,
   "metadata": {
    "trusted": false
   },
   "outputs": [
    {
     "name": "stdout",
     "output_type": "stream",
     "text": [
      "Precisión en el conjunto de prueba: 0.79\n"
     ]
    },
    {
     "data": {
      "text/plain": [
       "['modelo_random_forest.joblib']"
      ]
     },
     "execution_count": 373,
     "metadata": {},
     "output_type": "execute_result"
    }
   ],
   "source": [
    "from joblib import dump\n",
    "import pandas as pd\n",
    "import numpy as np\n",
    "import matplotlib.pyplot as plt\n",
    "import seaborn as sns\n",
    "from sklearn.model_selection import train_test_split, cross_val_score, RandomizedSearchCV\n",
    "from sklearn.impute import SimpleImputer\n",
    "from sklearn.preprocessing import OneHotEncoder,  StandardScaler, FunctionTransformer\n",
    "from sklearn.pipeline import make_pipeline\n",
    "from sklearn import set_config\n",
    "from sklearn.compose import ColumnTransformer\n",
    "from sklearn.linear_model import LogisticRegression\n",
    "from sklearn.neighbors import KNeighborsClassifier\n",
    "from sklearn.ensemble import RandomForestClassifier\n",
    "from scipy.stats import randint\n",
    "from sklearn.metrics import accuracy_score\n",
    "import joblib\n",
    "import warnings\n",
    "\n",
    "df_titanic = sns.load_dataset('titanic')\n",
    "df_titanic.drop(columns=[\"class\",\"who\",\"adult_male\",\"deck\",\"embark_town\",\"alive\",\"alone\"], inplace=True)\n",
    "\n",
    "# Clase para codificar el sexo\n",
    "class SexEncoder(BaseEstimator, TransformerMixin):\n",
    "    def fit(self, X, y=None):\n",
    "        self.le = LabelEncoder()\n",
    "        self.le.fit(X.to_numpy().ravel())  # Necesario array 1D\n",
    "        return self\n",
    "\n",
    "    def transform(self, X):\n",
    "        return self.le.transform(X.values.ravel()).reshape(-1, 1)\n",
    "    \n",
    "    def get_feature_names_out(self, input_features=None):\n",
    "        return np.array(['sex_encoded'])  # Devuelve nombre columna\n",
    "\n",
    "# Clase para procesar la edad\n",
    "class AgeEncoder(BaseEstimator, TransformerMixin):\n",
    "    def fit(self, X, y=None):\n",
    "        self.imputer = SimpleImputer(strategy='most_frequent')  # Rellenar valores faltantes con la moda\n",
    "        self.imputer.fit(X)  # Ajustar el imputador\n",
    "        return self\n",
    "\n",
    "    def transform(self, X):\n",
    "        X_imputed = self.imputer.transform(X)\n",
    "        # Categorizamos las edades en grupos\n",
    "        age_bins = [0, 16, 32, 48, 64, np.inf]  # Definir los límites de los grupos\n",
    "        age_labels = [1, 2, 3, 4, 5]  # Etiquetas para los grupos\n",
    "        return pd.cut(X_imputed.flatten(), bins=age_bins, labels=age_labels).to_numpy().reshape(-1, 1)\n",
    "    \n",
    "    def get_feature_names_out(self, input_features=None):\n",
    "        return np.array(['age_encoded'])\n",
    "\n",
    "# Clase para crear la columna 'family'\n",
    "class FamilySizeTransformer(BaseEstimator, TransformerMixin):\n",
    "    def fit(self, X, y=None):\n",
    "        self.imputer = SimpleImputer(strategy='most_frequent')  # Rellenar valores faltantes con la moda\n",
    "        self.imputer.fit(X)  # Ajustar el imputador\n",
    "        return self\n",
    "\n",
    "    def transform(self, X):\n",
    "        return (X['sibsp'] + X['parch']).to_numpy().reshape(-1, 1)\n",
    "\n",
    "    def get_feature_names_out(self, input_features=None):\n",
    "        return np.array(['family_transformed'])  # Nombre de la nueva columna\n",
    "\n",
    "# Clase para procesar el puerto de embarque\n",
    "class EmbarkedTransformer(BaseEstimator, TransformerMixin):\n",
    "    def __init__(self):\n",
    "        self.imputer = SimpleImputer(strategy='most_frequent')  # Rellenar valores faltantes con la moda\n",
    "        self.encoder = OneHotEncoder(sparse_output=False)  # Configuración para obtener un array denso\n",
    "\n",
    "    def fit(self, X, y=None):\n",
    "        # Ajustar el imputador a los datos\n",
    "        self.imputer.fit(X)\n",
    "        # Ajustar el codificador a los datos imputados\n",
    "        X_imputed = self.imputer.transform(X)\n",
    "        self.encoder.fit(X_imputed)\n",
    "        return self\n",
    "\n",
    "    def transform(self, X):\n",
    "        # Rellenar valores faltantes primero\n",
    "        X_imputed = self.imputer.transform(X)\n",
    "        # Transformar los datos\n",
    "        transformed_data = self.encoder.transform(X_imputed)\n",
    "        # Obtener los nombres de las columnas codificadas\n",
    "        column_names = self.encoder.get_feature_names_out(input_features=X.columns)\n",
    "        return pd.DataFrame(transformed_data, columns=column_names, index=X.index)\n",
    "\n",
    "    def get_feature_names_out(self, input_features=None):\n",
    "        return self.encoder.get_feature_names_out()  # Obtener los nombres de las columnas codificadas\n",
    "    \n",
    "# Pipeline para procesar la tarifa\n",
    "fare_pipeline = make_pipeline(\n",
    "    SimpleImputer(strategy=\"mean\"),  # Rellenar con la media\n",
    "    FunctionTransformer(np.sqrt, feature_names_out=\"one-to-one\"),  # Aplicar la raíz cuadrada\n",
    "    StandardScaler()  # Estandarizar\n",
    ")\n",
    "\n",
    "# Combinación de transformadores\n",
    "preprocessing = ColumnTransformer([\n",
    "        (\"pclass\", SimpleImputer(strategy='most_frequent'), [\"pclass\"]),  # llena pclass con la moda\n",
    "        (\"sex\", SexEncoder(), [\"sex\"]),  # transforma male = 0 y female = 1\n",
    "        (\"age\", AgeEncoder(), [\"age\"]),  # categoriza age\n",
    "        (\"family\", FamilySizeTransformer(), [\"sibsp\", \"parch\"]),  # junta en family a sibsp y parch\n",
    "        (\"fare\", fare_pipeline, [\"fare\"]),  # hacer cambios a fare\n",
    "        (\"embarked\", EmbarkedTransformer(), [\"embarked\"]),  # hacer cambios a fare\n",
    "    ],\n",
    "    remainder='passthrough')\n",
    "\n",
    "df = df_titanic.copy()\n",
    "X = df.drop('survived', axis=1)  # Características\n",
    "y = df['survived']                # Etiqueta (columna a predecir)\n",
    "\n",
    "# Dividir el conjunto en entrenamiento y prueba\n",
    "X_train, X_test, y_train, y_test = train_test_split(X, y, test_size=0.2, random_state=3)\n",
    "\n",
    "# Crear el pipeline con preprocesamiento y modelo\n",
    "pipeline = Pipeline([\n",
    "    ('preprocessing', preprocessing),  # Aquí va tu preprocesador\n",
    "    ('random_forest', RandomForestClassifier(n_estimators=200, max_features=6, random_state=42))\n",
    "])\n",
    "\n",
    "# Entrenar el modelo usando el pipeline\n",
    "modelo = pipeline.fit(X_train, y_train)\n",
    "\n",
    "# Predecir en el conjunto de prueba usando el pipeline\n",
    "y_test_pred = pipeline.predict(X_test)\n",
    "\n",
    "# Calcular la precisión\n",
    "test_accuracy = accuracy_score(y_test, y_test_pred)\n",
    "\n",
    "# Mostrar la precisión\n",
    "print(f'Precisión en el conjunto de prueba: {test_accuracy:.2f}')\n",
    "dump(modelo, 'modelo_random_forest.joblib')\n",
    "# Usar script prueba_modelo.py"
   ]
  }
 ],
 "metadata": {
  "kernelspec": {
   "display_name": "Python 3",
   "language": "python",
   "name": "python3"
  },
  "language_info": {
   "codemirror_mode": {
    "name": "ipython",
    "version": 3
   },
   "file_extension": ".py",
   "mimetype": "text/x-python",
   "name": "python",
   "nbconvert_exporter": "python",
   "pygments_lexer": "ipython3",
   "version": "3.11.10"
  },
  "nav_menu": {
   "height": "279px",
   "width": "309px"
  },
  "toc": {
   "nav_menu": {},
   "number_sections": true,
   "sideBar": true,
   "skip_h1_title": false,
   "toc_cell": false,
   "toc_position": {},
   "toc_section_display": "block",
   "toc_window_display": false
  }
 },
 "nbformat": 4,
 "nbformat_minor": 4
}
