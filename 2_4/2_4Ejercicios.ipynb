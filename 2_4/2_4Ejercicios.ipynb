{
 "cells": [
  {
   "cell_type": "markdown",
   "metadata": {},
   "source": [
    "# EJERCICIO"
   ]
  },
  {
   "cell_type": "code",
   "execution_count": 73,
   "metadata": {},
   "outputs": [],
   "source": [
    "import pandas as pd\n",
    "import numpy as np\n",
    "import matplotlib.pyplot as plt\n",
    "import seaborn as sns\n",
    "from sklearn.model_selection import train_test_split, cross_val_score, RandomizedSearchCV\n",
    "from sklearn.impute import SimpleImputer\n",
    "from sklearn.preprocessing import OneHotEncoder,  StandardScaler, FunctionTransformer\n",
    "from sklearn.pipeline import make_pipeline\n",
    "from sklearn import set_config\n",
    "from sklearn.compose import ColumnTransformer\n",
    "from sklearn.linear_model import LogisticRegression\n",
    "from sklearn.neighbors import KNeighborsClassifier\n",
    "from sklearn.ensemble import RandomForestClassifier\n",
    "from scipy.stats import randint\n",
    "from sklearn.metrics import accuracy_score\n",
    "import joblib\n",
    "import warnings"
   ]
  },
  {
   "cell_type": "code",
   "execution_count": 74,
   "metadata": {},
   "outputs": [],
   "source": [
    "warnings.filterwarnings(\"ignore\", category=FutureWarning)\n",
    "set_config(display=\"diagram\")"
   ]
  },
  {
   "cell_type": "markdown",
   "metadata": {},
   "source": [
    "## DEFINICIÓN DEL PROBLEMA"
   ]
  },
  {
   "cell_type": "markdown",
   "metadata": {},
   "source": [
    "**Vamos a trabajar con un dataframe sobre los datos del titanic que viene en la librería seaborn para intentar predecir si una persona sobrevivió o no a partir del resto de atributos.**\n",
    "\n",
    "**Como criterio de evaluación vamos a usar la exactitud (accuracy), que mide la proporción de predicciones correctas realizadas por el modelo.**"
   ]
  },
  {
   "cell_type": "markdown",
   "metadata": {},
   "source": [
    "## RECOPILACIÓN Y PREPARACIÓN DE LOS DATOS"
   ]
  },
  {
   "cell_type": "markdown",
   "metadata": {},
   "source": [
    "### OBTENER LOS DATOS"
   ]
  },
  {
   "cell_type": "code",
   "execution_count": 75,
   "metadata": {
    "trusted": false
   },
   "outputs": [],
   "source": [
    "df_titanic = sns.load_dataset('titanic')"
   ]
  },
  {
   "cell_type": "markdown",
   "metadata": {},
   "source": [
    "En el conjunto de datos Titanic, cada columna proporciona información específica sobre los pasajeros del Titanic.\n",
    "\n",
    "1. `survived`: Esta columna indica si un pasajero sobrevivió o no al naufragio del Titanic. Tiene dos valores posibles: 0 (no sobrevivió) y 1 (sobrevivió).\n",
    "\n",
    "2. `pclass`: Representa la clase de pasaje del pasajero en el Titanic. Tiene tres valores posibles: 1 (primera clase), 2 (segunda clase) y 3 (tercera clase).\n",
    "\n",
    "3. `sex`: Indica el género del pasajero, ya sea masculino o femenino.\n",
    "\n",
    "4. `age`: Representa la edad del pasajero en años.\n",
    "\n",
    "5. `sibsp`: Indica el número de hermanos o cónyuges que el pasajero tenía a bordo del Titanic.\n",
    "\n",
    "6. `parch`: Representa el número de padres o hijos que el pasajero tenía a bordo del Titanic.\n",
    "\n",
    "7. `fare`: Indica la tarifa que el pasajero pagó por su pasaje.\n",
    "\n",
    "8. `embarked`: Representa el puerto de embarque del pasajero. Tiene tres valores posibles: \"C\" (Cherbourg), \"Q\" (Queenstown) y \"S\" (Southampton).\n",
    "\n",
    "9. `class`: Similar a `pclass`, pero se expresa en palabras en lugar de números.\n",
    "\n",
    "10. `who`: Indica si el pasajero es un niño (child), hombre (man) o mujer (woman).\n",
    "\n",
    "11. `adult_male`: Indica si el pasajero es adulto y masculino.\n",
    "\n",
    "12. `deck`: Representa la cubierta en la que se encontraba la cabina del pasajero (si es que se encontraba en cubierta).\n",
    "\n",
    "13. `embark_town`: El nombre de la ciudad o localidad correspondiente al puerto de embarque.\n",
    "\n",
    "14. `alive`: Indica si el pasajero está vivo o muerto. Similar a `survived`, pero se expresa como \"yes\" (sí) o \"no\" (no).\n",
    "\n",
    "15. `alone`: Indica si el pasajero viajaba solo (True) o con compañía (False)."
   ]
  },
  {
   "cell_type": "markdown",
   "metadata": {},
   "source": [
    "### EXPLORAR LOS DATOS"
   ]
  },
  {
   "cell_type": "markdown",
   "metadata": {},
   "source": [
    "Muestra las primeras líneas del dataframe"
   ]
  },
  {
   "cell_type": "code",
   "execution_count": 76,
   "metadata": {
    "trusted": false
   },
   "outputs": [
    {
     "data": {
      "text/html": [
       "<div>\n",
       "<style scoped>\n",
       "    .dataframe tbody tr th:only-of-type {\n",
       "        vertical-align: middle;\n",
       "    }\n",
       "\n",
       "    .dataframe tbody tr th {\n",
       "        vertical-align: top;\n",
       "    }\n",
       "\n",
       "    .dataframe thead th {\n",
       "        text-align: right;\n",
       "    }\n",
       "</style>\n",
       "<table border=\"1\" class=\"dataframe\">\n",
       "  <thead>\n",
       "    <tr style=\"text-align: right;\">\n",
       "      <th></th>\n",
       "      <th>survived</th>\n",
       "      <th>pclass</th>\n",
       "      <th>sex</th>\n",
       "      <th>age</th>\n",
       "      <th>sibsp</th>\n",
       "      <th>parch</th>\n",
       "      <th>fare</th>\n",
       "      <th>embarked</th>\n",
       "      <th>class</th>\n",
       "      <th>who</th>\n",
       "      <th>adult_male</th>\n",
       "      <th>deck</th>\n",
       "      <th>embark_town</th>\n",
       "      <th>alive</th>\n",
       "      <th>alone</th>\n",
       "    </tr>\n",
       "  </thead>\n",
       "  <tbody>\n",
       "    <tr>\n",
       "      <th>0</th>\n",
       "      <td>0</td>\n",
       "      <td>3</td>\n",
       "      <td>male</td>\n",
       "      <td>22.0</td>\n",
       "      <td>1</td>\n",
       "      <td>0</td>\n",
       "      <td>7.2500</td>\n",
       "      <td>S</td>\n",
       "      <td>Third</td>\n",
       "      <td>man</td>\n",
       "      <td>True</td>\n",
       "      <td>NaN</td>\n",
       "      <td>Southampton</td>\n",
       "      <td>no</td>\n",
       "      <td>False</td>\n",
       "    </tr>\n",
       "    <tr>\n",
       "      <th>1</th>\n",
       "      <td>1</td>\n",
       "      <td>1</td>\n",
       "      <td>female</td>\n",
       "      <td>38.0</td>\n",
       "      <td>1</td>\n",
       "      <td>0</td>\n",
       "      <td>71.2833</td>\n",
       "      <td>C</td>\n",
       "      <td>First</td>\n",
       "      <td>woman</td>\n",
       "      <td>False</td>\n",
       "      <td>C</td>\n",
       "      <td>Cherbourg</td>\n",
       "      <td>yes</td>\n",
       "      <td>False</td>\n",
       "    </tr>\n",
       "    <tr>\n",
       "      <th>2</th>\n",
       "      <td>1</td>\n",
       "      <td>3</td>\n",
       "      <td>female</td>\n",
       "      <td>26.0</td>\n",
       "      <td>0</td>\n",
       "      <td>0</td>\n",
       "      <td>7.9250</td>\n",
       "      <td>S</td>\n",
       "      <td>Third</td>\n",
       "      <td>woman</td>\n",
       "      <td>False</td>\n",
       "      <td>NaN</td>\n",
       "      <td>Southampton</td>\n",
       "      <td>yes</td>\n",
       "      <td>True</td>\n",
       "    </tr>\n",
       "    <tr>\n",
       "      <th>3</th>\n",
       "      <td>1</td>\n",
       "      <td>1</td>\n",
       "      <td>female</td>\n",
       "      <td>35.0</td>\n",
       "      <td>1</td>\n",
       "      <td>0</td>\n",
       "      <td>53.1000</td>\n",
       "      <td>S</td>\n",
       "      <td>First</td>\n",
       "      <td>woman</td>\n",
       "      <td>False</td>\n",
       "      <td>C</td>\n",
       "      <td>Southampton</td>\n",
       "      <td>yes</td>\n",
       "      <td>False</td>\n",
       "    </tr>\n",
       "    <tr>\n",
       "      <th>4</th>\n",
       "      <td>0</td>\n",
       "      <td>3</td>\n",
       "      <td>male</td>\n",
       "      <td>35.0</td>\n",
       "      <td>0</td>\n",
       "      <td>0</td>\n",
       "      <td>8.0500</td>\n",
       "      <td>S</td>\n",
       "      <td>Third</td>\n",
       "      <td>man</td>\n",
       "      <td>True</td>\n",
       "      <td>NaN</td>\n",
       "      <td>Southampton</td>\n",
       "      <td>no</td>\n",
       "      <td>True</td>\n",
       "    </tr>\n",
       "  </tbody>\n",
       "</table>\n",
       "</div>"
      ],
      "text/plain": [
       "   survived  pclass     sex   age  sibsp  parch     fare embarked  class  \\\n",
       "0         0       3    male  22.0      1      0   7.2500        S  Third   \n",
       "1         1       1  female  38.0      1      0  71.2833        C  First   \n",
       "2         1       3  female  26.0      0      0   7.9250        S  Third   \n",
       "3         1       1  female  35.0      1      0  53.1000        S  First   \n",
       "4         0       3    male  35.0      0      0   8.0500        S  Third   \n",
       "\n",
       "     who  adult_male deck  embark_town alive  alone  \n",
       "0    man        True  NaN  Southampton    no  False  \n",
       "1  woman       False    C    Cherbourg   yes  False  \n",
       "2  woman       False  NaN  Southampton   yes   True  \n",
       "3  woman       False    C  Southampton   yes  False  \n",
       "4    man        True  NaN  Southampton    no   True  "
      ]
     },
     "execution_count": 76,
     "metadata": {},
     "output_type": "execute_result"
    }
   ],
   "source": [
    "df_titanic.head()"
   ]
  },
  {
   "cell_type": "markdown",
   "metadata": {},
   "source": [
    "¿Cuántas columnas hay? ¿De que tipo? ¿Cuántos valores no nulos tiene cada columna?"
   ]
  },
  {
   "cell_type": "code",
   "execution_count": 77,
   "metadata": {
    "trusted": false
   },
   "outputs": [
    {
     "name": "stdout",
     "output_type": "stream",
     "text": [
      "<class 'pandas.core.frame.DataFrame'>\n",
      "RangeIndex: 891 entries, 0 to 890\n",
      "Data columns (total 15 columns):\n",
      " #   Column       Non-Null Count  Dtype   \n",
      "---  ------       --------------  -----   \n",
      " 0   survived     891 non-null    int64   \n",
      " 1   pclass       891 non-null    int64   \n",
      " 2   sex          891 non-null    object  \n",
      " 3   age          714 non-null    float64 \n",
      " 4   sibsp        891 non-null    int64   \n",
      " 5   parch        891 non-null    int64   \n",
      " 6   fare         891 non-null    float64 \n",
      " 7   embarked     889 non-null    object  \n",
      " 8   class        891 non-null    category\n",
      " 9   who          891 non-null    object  \n",
      " 10  adult_male   891 non-null    bool    \n",
      " 11  deck         203 non-null    category\n",
      " 12  embark_town  889 non-null    object  \n",
      " 13  alive        891 non-null    object  \n",
      " 14  alone        891 non-null    bool    \n",
      "dtypes: bool(2), category(2), float64(2), int64(4), object(5)\n",
      "memory usage: 80.7+ KB\n"
     ]
    }
   ],
   "source": [
    "df_titanic.info()"
   ]
  },
  {
   "cell_type": "markdown",
   "metadata": {},
   "source": [
    "Elimina las columnas innecesarias:\n",
    "- `class`: la información está también en pclass\n",
    "- `who`: con sex y age se obtiene la información\n",
    "- `adult_male`: con sex y age se obiene la información\n",
    "- `deck`: tiene muchos valores nulos y es díficil decidir que valor dar a los valores ausentes\n",
    "- `embark_town`: la información está también en embarked\n",
    "- `alive`: la información está también en survived\n",
    "- `alone`: con sibsp y parch se obtiene la información"
   ]
  },
  {
   "cell_type": "code",
   "execution_count": 78,
   "metadata": {
    "trusted": false
   },
   "outputs": [
    {
     "name": "stdout",
     "output_type": "stream",
     "text": [
      "['survived', 'pclass', 'sex', 'age', 'sibsp', 'parch', 'fare', 'embarked']\n"
     ]
    }
   ],
   "source": [
    "columnas = ['class', 'who', 'adult_male', 'deck', 'embark_town', 'alive', 'alone']\n",
    "df_titanic = df_titanic.drop(columns=columnas, axis=1)\n",
    "print(df_titanic.columns.tolist())"
   ]
  },
  {
   "cell_type": "markdown",
   "metadata": {},
   "source": [
    "Muestra las estadísticas básicas de los atributos numéricos"
   ]
  },
  {
   "cell_type": "code",
   "execution_count": 79,
   "metadata": {
    "trusted": false
   },
   "outputs": [
    {
     "name": "stdout",
     "output_type": "stream",
     "text": [
      "         survived      pclass         age       sibsp       parch        fare\n",
      "count  891.000000  891.000000  714.000000  891.000000  891.000000  891.000000\n",
      "mean     0.383838    2.308642   29.699118    0.523008    0.381594   32.204208\n",
      "std      0.486592    0.836071   14.526497    1.102743    0.806057   49.693429\n",
      "min      0.000000    1.000000    0.420000    0.000000    0.000000    0.000000\n",
      "25%      0.000000    2.000000   20.125000    0.000000    0.000000    7.910400\n",
      "50%      0.000000    3.000000   28.000000    0.000000    0.000000   14.454200\n",
      "75%      1.000000    3.000000   38.000000    1.000000    0.000000   31.000000\n",
      "max      1.000000    3.000000   80.000000    8.000000    6.000000  512.329200\n"
     ]
    }
   ],
   "source": [
    "import pandas as pd\n",
    "\n",
    "\n",
    "columnas_numericas = df_titanic.select_dtypes(include=['int64', 'float64']).columns\n",
    "\n",
    "print(df_titanic[columnas_numericas].describe())"
   ]
  },
  {
   "cell_type": "markdown",
   "metadata": {},
   "source": [
    "Muestra las estadísticas descriptivas de los atributos categóricos (con el parametro include)"
   ]
  },
  {
   "cell_type": "code",
   "execution_count": 80,
   "metadata": {
    "trusted": false
   },
   "outputs": [
    {
     "name": "stdout",
     "output_type": "stream",
     "text": [
      "         sex embarked\n",
      "count    891      889\n",
      "unique     2        3\n",
      "top     male        S\n",
      "freq     577      644\n"
     ]
    }
   ],
   "source": [
    "import pandas as pd\n",
    "\n",
    "\n",
    "columnas_categoricas = df_titanic.select_dtypes(include=['object', 'category']).columns\n",
    "\n",
    "print(df_titanic[columnas_categoricas].describe())"
   ]
  },
  {
   "cell_type": "markdown",
   "metadata": {},
   "source": [
    "Respresenta los atributos en un histograma o diagrama de barras para ver sus distribuciones: \n",
    "- usa seaborn\n",
    "- dibuja los ochos en un mismo grafico con 8 subgrafos (4x2)\n",
    "- usa counplot de seaborn para las variables categoricas o discretas\n",
    "- usa histplot de seaborn para las variables continuas"
   ]
  },
  {
   "cell_type": "code",
   "execution_count": 81,
   "metadata": {
    "trusted": false
   },
   "outputs": [
    {
     "data": {
      "image/png": "[encoded data removed]",
      "text/plain": [
       "<Figure size 2000x1200 with 6 Axes>"
      ]
     },
     "metadata": {},
     "output_type": "display_data"
    },
    {
     "data": {
      "image/png": "[encoded data removed]",
      "text/plain": [
       "<Figure size 2000x1200 with 2 Axes>"
      ]
     },
     "metadata": {},
     "output_type": "display_data"
    }
   ],
   "source": [
    "categoricas = ['pclass', 'sex', 'embarked', 'survived','sibsp','parch']  \n",
    "continuas = ['fare','age']  \n",
    "\n",
    "# Gráfico de barras para variables categóricas\n",
    "plt.figure(figsize=(20, 12))\n",
    "for i, var in enumerate(categoricas):\n",
    "    plt.subplot(4, 2, i+1)\n",
    "    sns.countplot(x=var, data=df_titanic)\n",
    "    plt.title(f'{var}')\n",
    "    plt.xticks(rotation=45)\n",
    "\n",
    "plt.tight_layout()\n",
    "plt.show()\n",
    "\n",
    "# Gráfico de histograma para variables continuas\n",
    "plt.figure(figsize=(20, 12))\n",
    "for i, var in enumerate(continuas):\n",
    "    plt.subplot(4, 2, i+1)\n",
    "    sns.histplot(df_titanic[var], kde=True)\n",
    "    plt.title(f'{var}')\n",
    "    plt.xlabel(var)\n",
    "    plt.ylabel('Frecuencia')\n",
    "\n",
    "plt.tight_layout()\n",
    "plt.show()"
   ]
  },
  {
   "cell_type": "markdown",
   "metadata": {},
   "source": [
    "¿A la vista de los datos que conclusiones puedes sacar?"
   ]
  },
  {
   "cell_type": "markdown",
   "metadata": {},
   "source": [
    "Conclusiones 🤔: A la vista de los datos, podemos afirmar que hay claramente más hombres que mujeres en el dataset, casi el doble, seguramente la mayoría de mujeres iban acompañadas de un hombre, la mayoría embarcaron en Southhampton, y los que menos en Queenstown. En el gráfico pclass podemos ver las tres clases, como es de esperar, en 3a clase es donde van la mayoría de pasajeros, esto se complementa con el gráfico de fare, ya que se ve que la mayoría de pasajeros pagan menos. Con el gráfico de edad podemos concluir que la franja que más habia es de 20 a 35 años. La mayoría de pasajeros viajaban solos y sin hijos. Finalmente vemos que murío bastante más gente de la que sobrevivió."
   ]
  },
  {
   "cell_type": "markdown",
   "metadata": {},
   "source": [
    "Muestra la media de supervivientes según el la clase de billete ordenada de forma descendente según el valor de dicha media (en forma de dataframe) y saca alguna conclusión."
   ]
  },
  {
   "cell_type": "code",
   "execution_count": 82,
   "metadata": {
    "trusted": false
   },
   "outputs": [
    {
     "name": "stdout",
     "output_type": "stream",
     "text": [
      "   pclass  Media supervivencia\n",
      "0       1             0.629630\n",
      "1       2             0.472826\n",
      "2       3             0.242363\n"
     ]
    }
   ],
   "source": [
    "# Convertir la columna 'survived' a int\n",
    "df_titanic['survived'] = df_titanic['survived'].astype(int)\n",
    "\n",
    "# Agrupar por pclass y calcular media de supervivencia\n",
    "media = df_titanic.groupby('pclass')['survived'].mean().reset_index()\n",
    "\n",
    "# Crear un nuevo DataFrame con el resultado\n",
    "resultado_df = pd.DataFrame({\n",
    "    'pclass': media['pclass'],\n",
    "    'Media supervivencia': media['survived']\n",
    "})\n",
    "\n",
    "# Ordenar de manera descendente\n",
    "resultado_df = resultado_df.sort_values('Media supervivencia', ascending=False).reset_index(drop=True)\n",
    "\n",
    "print(resultado_df)"
   ]
  },
  {
   "cell_type": "markdown",
   "metadata": {},
   "source": [
    "Conclusiones 🤔: Con estos datos podemos afirmar que a mayor la clase, mayor es la probabilidad de supervivencia. Se puede intuir una correlación entre la clase y la supervivencia."
   ]
  },
  {
   "cell_type": "markdown",
   "metadata": {},
   "source": [
    "Muestra la media de supervivientes según el sexo ordenada de forma descendente según el valor de dicha media (en forma de dataframe) y saca alguna conclusión."
   ]
  },
  {
   "cell_type": "code",
   "execution_count": 83,
   "metadata": {
    "trusted": false
   },
   "outputs": [
    {
     "name": "stdout",
     "output_type": "stream",
     "text": [
      "      sex  Media supervivencia\n",
      "0  female             0.742038\n",
      "1    male             0.188908\n"
     ]
    }
   ],
   "source": [
    "# Convertir la columna 'survived' a int\n",
    "df_titanic['survived'] = df_titanic['survived'].astype(int)\n",
    "\n",
    "# Calcular la media de supervivencia por sexo\n",
    "media_por_sexo = df_titanic.groupby('sex')['survived'].mean().reset_index()\n",
    "\n",
    "# Renombrar la columna 'survived' como 'Media supervivencia'\n",
    "media_por_sexo = media_por_sexo.rename(columns={'survived': 'Media supervivencia'})\n",
    "\n",
    "# Ordenar de manera descendente\n",
    "media_por_sexo = media_por_sexo.sort_values('Media supervivencia', ascending=False).reset_index(drop=True)\n",
    "\n",
    "print(media_por_sexo)\n"
   ]
  },
  {
   "cell_type": "markdown",
   "metadata": {},
   "source": [
    "Conclusiones 🤔: La mayoría de supervivientes son mujeres, lo que es lógico sabiendo que las mujeres y los niños fueron los primeros en ser evacuados."
   ]
  },
  {
   "cell_type": "markdown",
   "metadata": {},
   "source": [
    "Muestra la media de supervivientes según el número de hermanos y coyúnges ordenada de forma descendente según el valor de dicha media (en forma de dataframe) y saca alguna conclusión."
   ]
  },
  {
   "cell_type": "code",
   "execution_count": 84,
   "metadata": {
    "trusted": false
   },
   "outputs": [
    {
     "name": "stdout",
     "output_type": "stream",
     "text": [
      "   Número de familiares  Media supervivencia\n",
      "0                     1             0.535885\n",
      "1                     2             0.464286\n",
      "2                     0             0.345395\n",
      "3                     3             0.250000\n",
      "4                     4             0.166667\n",
      "5                     5             0.000000\n",
      "6                     8             0.000000\n"
     ]
    }
   ],
   "source": [
    "# Convertir la columna 'survived' a int\n",
    "df_titanic['survived'] = df_titanic['survived'].astype(int)\n",
    "\n",
    "# Calcular la media de supervivencia por número familiares\n",
    "media_por_hermanos_coyunges = df_titanic.groupby(['sibsp'])['survived'].mean().reset_index()\n",
    "\n",
    "# Renombrar las columnas\n",
    "media_por_hermanos_coyunges.columns = ['Número de familiares', 'Media supervivencia']\n",
    "\n",
    "# Ordenar de manera descendente\n",
    "media_por_hermanos_coyunges = media_por_hermanos_coyunges.sort_values('Media supervivencia', ascending=False).reset_index(drop=True)\n",
    "\n",
    "print(media_por_hermanos_coyunges)\n"
   ]
  },
  {
   "cell_type": "markdown",
   "metadata": {},
   "source": [
    "Conclusiones 🤔: La probabilidad de supervivencia es mayor cuantos menos familiares tengas abordo."
   ]
  },
  {
   "cell_type": "markdown",
   "metadata": {},
   "source": [
    "Muestra la media de supervivientes según el número de padres e hijos ordenada de forma descendente según el valor de dicha media (en forma de dataframe) y saca alguna conclusión."
   ]
  },
  {
   "cell_type": "code",
   "execution_count": 85,
   "metadata": {
    "trusted": false
   },
   "outputs": [
    {
     "name": "stdout",
     "output_type": "stream",
     "text": [
      "   Número de padres e hijos  Media supervivencia\n",
      "0                         3             0.600000\n",
      "1                         1             0.550847\n",
      "2                         2             0.500000\n",
      "3                         0             0.343658\n",
      "4                         5             0.200000\n",
      "5                         4             0.000000\n",
      "6                         6             0.000000\n"
     ]
    }
   ],
   "source": [
    "\n",
    "# Convertir la columna 'survived' a int\n",
    "df_titanic['survived'] = df_titanic['survived'].astype(int)\n",
    "\n",
    "# Calcular la media de supervivencia por número de padres e hijos (parch)\n",
    "media_por_padres_hijos = df_titanic.groupby(['parch'])['survived'].mean().reset_index()\n",
    "\n",
    "# Renombrar las columnas\n",
    "media_por_padres_hijos.columns = ['Número de padres e hijos', 'Media supervivencia']\n",
    "\n",
    "# Ordenar de manera descendente\n",
    "media_por_padres_hijos = media_por_padres_hijos.sort_values('Media supervivencia', ascending=False).reset_index(drop=True)\n",
    "\n",
    "print(media_por_padres_hijos)\n"
   ]
  },
  {
   "cell_type": "markdown",
   "metadata": {},
   "source": [
    "Conclusiones 🤔: Pasa lo mismo que en la anterior, cuantos menos padres e hijos más probabilidad de sobrevivir"
   ]
  },
  {
   "cell_type": "markdown",
   "metadata": {},
   "source": [
    "Halla las correlaciones de los datos numéricos y muestra el coeficiente de correlacion de las diferentes variables respecto a la variable survived"
   ]
  },
  {
   "cell_type": "code",
   "execution_count": 86,
   "metadata": {
    "trusted": false
   },
   "outputs": [
    {
     "data": {
      "text/plain": [
       "survived    1.000000\n",
       "fare        0.257307\n",
       "parch       0.081629\n",
       "sibsp      -0.035322\n",
       "age        -0.077221\n",
       "pclass     -0.338481\n",
       "Name: survived, dtype: float64"
      ]
     },
     "execution_count": 86,
     "metadata": {},
     "output_type": "execute_result"
    }
   ],
   "source": [
    "# Solo con los numericos\n",
    "correlaciones = df_titanic.corr(numeric_only=True)\n",
    "\n",
    "correlaciones[\"survived\"].sort_values(ascending=False)\n"
   ]
  },
  {
   "cell_type": "markdown",
   "metadata": {},
   "source": [
    "Representa la matriz de correlaciones (representa directamente la matriz usando el stilo background_gradient)"
   ]
  },
  {
   "cell_type": "code",
   "execution_count": 87,
   "metadata": {
    "trusted": false
   },
   "outputs": [
    {
     "data": {
      "text/html": [
       "<style type=\"text/css\">\n",
       "#T_8c036_row0_col0, #T_8c036_row1_col1, #T_8c036_row2_col2, #T_8c036_row3_col3, #T_8c036_row4_col4, #T_8c036_row5_col5 {\n",
       "  background-color: #023858;\n",
       "  color: #f1f1f1;\n",
       "}\n",
       "#T_8c036_row0_col1 {\n",
       "  background-color: #eae6f1;\n",
       "  color: #000000;\n",
       "}\n",
       "#T_8c036_row0_col2, #T_8c036_row0_col3 {\n",
       "  background-color: #d9d8ea;\n",
       "  color: #000000;\n",
       "}\n",
       "#T_8c036_row0_col4 {\n",
       "  background-color: #d5d5e8;\n",
       "  color: #000000;\n",
       "}\n",
       "#T_8c036_row0_col5 {\n",
       "  background-color: #69a5cc;\n",
       "  color: #f1f1f1;\n",
       "}\n",
       "#T_8c036_row1_col0, #T_8c036_row1_col2, #T_8c036_row1_col5, #T_8c036_row2_col3, #T_8c036_row2_col4, #T_8c036_row5_col1 {\n",
       "  background-color: #fff7fb;\n",
       "  color: #000000;\n",
       "}\n",
       "#T_8c036_row1_col3 {\n",
       "  background-color: #c0c9e2;\n",
       "  color: #000000;\n",
       "}\n",
       "#T_8c036_row1_col4 {\n",
       "  background-color: #e1dfed;\n",
       "  color: #000000;\n",
       "}\n",
       "#T_8c036_row2_col0 {\n",
       "  background-color: #dddbec;\n",
       "  color: #000000;\n",
       "}\n",
       "#T_8c036_row2_col1 {\n",
       "  background-color: #eee8f3;\n",
       "  color: #000000;\n",
       "}\n",
       "#T_8c036_row2_col5 {\n",
       "  background-color: #96b6d7;\n",
       "  color: #000000;\n",
       "}\n",
       "#T_8c036_row3_col0 {\n",
       "  background-color: #d6d6e9;\n",
       "  color: #000000;\n",
       "}\n",
       "#T_8c036_row3_col1 {\n",
       "  background-color: #99b8d8;\n",
       "  color: #000000;\n",
       "}\n",
       "#T_8c036_row3_col2 {\n",
       "  background-color: #f8f1f8;\n",
       "  color: #000000;\n",
       "}\n",
       "#T_8c036_row3_col4 {\n",
       "  background-color: #6fa7ce;\n",
       "  color: #f1f1f1;\n",
       "}\n",
       "#T_8c036_row3_col5 {\n",
       "  background-color: #84b0d3;\n",
       "  color: #f1f1f1;\n",
       "}\n",
       "#T_8c036_row4_col0 {\n",
       "  background-color: #bbc7e0;\n",
       "  color: #000000;\n",
       "}\n",
       "#T_8c036_row4_col1 {\n",
       "  background-color: #a9bfdc;\n",
       "  color: #000000;\n",
       "}\n",
       "#T_8c036_row4_col2 {\n",
       "  background-color: #ebe6f2;\n",
       "  color: #000000;\n",
       "}\n",
       "#T_8c036_row4_col3 {\n",
       "  background-color: #5a9ec9;\n",
       "  color: #f1f1f1;\n",
       "}\n",
       "#T_8c036_row4_col5 {\n",
       "  background-color: #76aad0;\n",
       "  color: #f1f1f1;\n",
       "}\n",
       "#T_8c036_row5_col0 {\n",
       "  background-color: #8bb2d4;\n",
       "  color: #000000;\n",
       "}\n",
       "#T_8c036_row5_col2 {\n",
       "  background-color: #b3c3de;\n",
       "  color: #000000;\n",
       "}\n",
       "#T_8c036_row5_col3 {\n",
       "  background-color: #acc0dd;\n",
       "  color: #000000;\n",
       "}\n",
       "#T_8c036_row5_col4 {\n",
       "  background-color: #b1c2de;\n",
       "  color: #000000;\n",
       "}\n",
       "</style>\n",
       "<table id=\"T_8c036\">\n",
       "  <thead>\n",
       "    <tr>\n",
       "      <th class=\"blank level0\" >&nbsp;</th>\n",
       "      <th id=\"T_8c036_level0_col0\" class=\"col_heading level0 col0\" >survived</th>\n",
       "      <th id=\"T_8c036_level0_col1\" class=\"col_heading level0 col1\" >pclass</th>\n",
       "      <th id=\"T_8c036_level0_col2\" class=\"col_heading level0 col2\" >age</th>\n",
       "      <th id=\"T_8c036_level0_col3\" class=\"col_heading level0 col3\" >sibsp</th>\n",
       "      <th id=\"T_8c036_level0_col4\" class=\"col_heading level0 col4\" >parch</th>\n",
       "      <th id=\"T_8c036_level0_col5\" class=\"col_heading level0 col5\" >fare</th>\n",
       "    </tr>\n",
       "  </thead>\n",
       "  <tbody>\n",
       "    <tr>\n",
       "      <th id=\"T_8c036_level0_row0\" class=\"row_heading level0 row0\" >survived</th>\n",
       "      <td id=\"T_8c036_row0_col0\" class=\"data row0 col0\" >1.000000</td>\n",
       "      <td id=\"T_8c036_row0_col1\" class=\"data row0 col1\" >-0.338481</td>\n",
       "      <td id=\"T_8c036_row0_col2\" class=\"data row0 col2\" >-0.077221</td>\n",
       "      <td id=\"T_8c036_row0_col3\" class=\"data row0 col3\" >-0.035322</td>\n",
       "      <td id=\"T_8c036_row0_col4\" class=\"data row0 col4\" >0.081629</td>\n",
       "      <td id=\"T_8c036_row0_col5\" class=\"data row0 col5\" >0.257307</td>\n",
       "    </tr>\n",
       "    <tr>\n",
       "      <th id=\"T_8c036_level0_row1\" class=\"row_heading level0 row1\" >pclass</th>\n",
       "      <td id=\"T_8c036_row1_col0\" class=\"data row1 col0\" >-0.338481</td>\n",
       "      <td id=\"T_8c036_row1_col1\" class=\"data row1 col1\" >1.000000</td>\n",
       "      <td id=\"T_8c036_row1_col2\" class=\"data row1 col2\" >-0.369226</td>\n",
       "      <td id=\"T_8c036_row1_col3\" class=\"data row1 col3\" >0.083081</td>\n",
       "      <td id=\"T_8c036_row1_col4\" class=\"data row1 col4\" >0.018443</td>\n",
       "      <td id=\"T_8c036_row1_col5\" class=\"data row1 col5\" >-0.549500</td>\n",
       "    </tr>\n",
       "    <tr>\n",
       "      <th id=\"T_8c036_level0_row2\" class=\"row_heading level0 row2\" >age</th>\n",
       "      <td id=\"T_8c036_row2_col0\" class=\"data row2 col0\" >-0.077221</td>\n",
       "      <td id=\"T_8c036_row2_col1\" class=\"data row2 col1\" >-0.369226</td>\n",
       "      <td id=\"T_8c036_row2_col2\" class=\"data row2 col2\" >1.000000</td>\n",
       "      <td id=\"T_8c036_row2_col3\" class=\"data row2 col3\" >-0.308247</td>\n",
       "      <td id=\"T_8c036_row2_col4\" class=\"data row2 col4\" >-0.189119</td>\n",
       "      <td id=\"T_8c036_row2_col5\" class=\"data row2 col5\" >0.096067</td>\n",
       "    </tr>\n",
       "    <tr>\n",
       "      <th id=\"T_8c036_level0_row3\" class=\"row_heading level0 row3\" >sibsp</th>\n",
       "      <td id=\"T_8c036_row3_col0\" class=\"data row3 col0\" >-0.035322</td>\n",
       "      <td id=\"T_8c036_row3_col1\" class=\"data row3 col1\" >0.083081</td>\n",
       "      <td id=\"T_8c036_row3_col2\" class=\"data row3 col2\" >-0.308247</td>\n",
       "      <td id=\"T_8c036_row3_col3\" class=\"data row3 col3\" >1.000000</td>\n",
       "      <td id=\"T_8c036_row3_col4\" class=\"data row3 col4\" >0.414838</td>\n",
       "      <td id=\"T_8c036_row3_col5\" class=\"data row3 col5\" >0.159651</td>\n",
       "    </tr>\n",
       "    <tr>\n",
       "      <th id=\"T_8c036_level0_row4\" class=\"row_heading level0 row4\" >parch</th>\n",
       "      <td id=\"T_8c036_row4_col0\" class=\"data row4 col0\" >0.081629</td>\n",
       "      <td id=\"T_8c036_row4_col1\" class=\"data row4 col1\" >0.018443</td>\n",
       "      <td id=\"T_8c036_row4_col2\" class=\"data row4 col2\" >-0.189119</td>\n",
       "      <td id=\"T_8c036_row4_col3\" class=\"data row4 col3\" >0.414838</td>\n",
       "      <td id=\"T_8c036_row4_col4\" class=\"data row4 col4\" >1.000000</td>\n",
       "      <td id=\"T_8c036_row4_col5\" class=\"data row4 col5\" >0.216225</td>\n",
       "    </tr>\n",
       "    <tr>\n",
       "      <th id=\"T_8c036_level0_row5\" class=\"row_heading level0 row5\" >fare</th>\n",
       "      <td id=\"T_8c036_row5_col0\" class=\"data row5 col0\" >0.257307</td>\n",
       "      <td id=\"T_8c036_row5_col1\" class=\"data row5 col1\" >-0.549500</td>\n",
       "      <td id=\"T_8c036_row5_col2\" class=\"data row5 col2\" >0.096067</td>\n",
       "      <td id=\"T_8c036_row5_col3\" class=\"data row5 col3\" >0.159651</td>\n",
       "      <td id=\"T_8c036_row5_col4\" class=\"data row5 col4\" >0.216225</td>\n",
       "      <td id=\"T_8c036_row5_col5\" class=\"data row5 col5\" >1.000000</td>\n",
       "    </tr>\n",
       "  </tbody>\n",
       "</table>\n"
      ],
      "text/plain": [
       "<pandas.io.formats.style.Styler at 0x17b28486bd0>"
      ]
     },
     "execution_count": 87,
     "metadata": {},
     "output_type": "execute_result"
    }
   ],
   "source": [
    "correlaciones.style.background_gradient()"
   ]
  },
  {
   "cell_type": "markdown",
   "metadata": {},
   "source": [
    "¿Qué conclusiones sacas de la matriz de correlaciones?"
   ]
  },
  {
   "cell_type": "markdown",
   "metadata": {},
   "source": [
    "Conclusiones 🤔: Las variables más correlacionadas con survived son pclass y fare, siendo pclass la más correlacionada. Tiene sentido que esté relacionada la clase del billete con la supervivencia"
   ]
  },
  {
   "cell_type": "markdown",
   "metadata": {},
   "source": [
    "Vamos a seguir explorando los datos haciendo algún gráfico más:"
   ]
  },
  {
   "cell_type": "markdown",
   "metadata": {},
   "source": [
    "- Grafico de barras para representar el número de supervivientes según la clase de billete y por sexos"
   ]
  },
  {
   "cell_type": "code",
   "execution_count": 88,
   "metadata": {
    "trusted": false
   },
   "outputs": [
    {
     "data": {
      "image/png": "[encoded data removed]",
      "text/plain": [
       "<Figure size 1000x600 with 1 Axes>"
      ]
     },
     "metadata": {},
     "output_type": "display_data"
    }
   ],
   "source": [
    "\n",
    "plt.figure(figsize=(10, 6))\n",
    "sns.barplot(data=df_titanic, x='pclass', y='survived', hue='sex')\n",
    "\n",
    "# Añadir títulos y etiquetas\n",
    "plt.title('Grafico de barras para representar el número de supervivientes según la clase de billete y por sexos')\n",
    "plt.xlabel('Clase')\n",
    "plt.ylabel('Número de Supervivientes')\n",
    "plt.legend(title='Sexo')\n",
    "\n",
    "# Mostrar el gráfico\n",
    "plt.show()\n"
   ]
  },
  {
   "cell_type": "markdown",
   "metadata": {},
   "source": [
    "- Usando FaceGird de seaborn representa los supervivientes según la clase de billete y el puerto de embarque"
   ]
  },
  {
   "cell_type": "code",
   "execution_count": 89,
   "metadata": {
    "trusted": false
   },
   "outputs": [
    {
     "data": {
      "image/png": "[encoded data removed]",
      "text/plain": [
       "<Figure size 900x900 with 9 Axes>"
      ]
     },
     "metadata": {},
     "output_type": "display_data"
    }
   ],
   "source": [
    "g = sns.FacetGrid(df_titanic, col=\"pclass\", row=\"embarked\")\n",
    "g.map(sns.countplot, \"survived\", order=[0, 1])\n",
    "\n",
    "plt.show()"
   ]
  },
  {
   "cell_type": "markdown",
   "metadata": {},
   "source": [
    "### DIVIDIR LOS DATOS"
   ]
  },
  {
   "cell_type": "markdown",
   "metadata": {},
   "source": [
    "Es hora de separar el conjunto de entrenamiento del conjunto de prueba (85% para el entrenamiento y haciendo un muestreo estratificado según la clase del billete, que parece que es una de las más correlacionada con la carracteristica survived y hay bastante más pasajeros de clase 3 que de clase 1 y2)."
   ]
  },
  {
   "cell_type": "markdown",
   "metadata": {},
   "source": [
    "Haz una copia del conjunto de entrenamiento para trabajar con él."
   ]
  },
  {
   "cell_type": "code",
   "execution_count": 90,
   "metadata": {
    "trusted": false
   },
   "outputs": [],
   "source": [
    "df_entrenamiento, df_testing = train_test_split(df_titanic, test_size=0.15, stratify=df_titanic[\"pclass\"], random_state=3)\n",
    "df_entrenamiento_copia = df_entrenamiento.copy()\n"
   ]
  },
  {
   "cell_type": "markdown",
   "metadata": {},
   "source": [
    "### PREPARAR LOS DATOS"
   ]
  },
  {
   "cell_type": "markdown",
   "metadata": {},
   "source": [
    "Hay que crear un pipeline de transformación que haga los siguientes cambios:\n",
    "- pclass: \n",
    "  - rellenar datos faltantes con la moda\n",
    "- sex:\n",
    "  - rellenar datos faltantes con la moda\n",
    "  - convertir male a 0 y female a 1\n",
    "- age:\n",
    "  - rellenar datos faltantes con la media\n",
    "  - convertirla en variable categórica:\n",
    "      - 1 - <=16\n",
    "      - 2 - (16,32]\n",
    "      - 3 - (32,48]\n",
    "      - 4 - (48,64]\n",
    "      - 5 - >64)\n",
    "- family = sibsp + parch\n",
    "  - rellenar datos faltantes con la moda\n",
    "  - sumar las dos columnas\n",
    "- fare\n",
    "  - rellenar datos faltantes con la media\n",
    "  - aplicar raiz cuadrada\n",
    "  - estandarizar\n",
    "- embarked\n",
    "  - rellenar datos faltantes con la moda\n",
    "  - aplicar one-hot\n",
    "\n",
    "Pero vamos a empezar poco a poco"
   ]
  },
  {
   "cell_type": "markdown",
   "metadata": {},
   "source": [
    "Crea el atributo familia como suma de sibsp y parch y luego borra sibsp y parch"
   ]
  },
  {
   "cell_type": "code",
   "execution_count": null,
   "metadata": {
    "trusted": false
   },
   "outputs": [],
   "source": [
    "# Nuevo atributo familia\n",
    "df_entrenamiento_copia['familia'] = df_entrenamiento_copia['sibsp'] + df_entrenamiento_copia['parch']\n",
    "\n",
    "# Eliminar las columnas\n",
    "df_entrenamiento_copia.drop(columns=['sibsp', 'parch'], inplace=True)"
   ]
  },
  {
   "cell_type": "markdown",
   "metadata": {},
   "source": [
    "Rellenamos los datos ausentes en el dataframe (lo hacemos para todas las columnas aunque ahora la mayoría no tiene datos ausentes, pero no sabemos como serán los datos si tenemos que volver a entrenar el modelo)"
   ]
  },
  {
   "cell_type": "code",
   "execution_count": 92,
   "metadata": {
    "trusted": false
   },
   "outputs": [],
   "source": [
    "columnas_categoricas = ['pclass', 'sex', 'familia', 'embarked']\n",
    "columnas_numericas = ['age', 'fare']\n",
    "\n",
    "llenar_categorico = SimpleImputer(strategy='most_frequent')\n",
    "df_entrenamiento_copia[columnas_categoricas] = llenar_categorico.fit_transform(df_entrenamiento_copia[columnas_categoricas])\n",
    "\n",
    "llenar_numerico = SimpleImputer(strategy='mean')\n",
    "df_entrenamiento_copia[columnas_numericas] = llenar_numerico.fit_transform(df_entrenamiento_copia[columnas_numericas])\n"
   ]
  },
  {
   "cell_type": "markdown",
   "metadata": {},
   "source": [
    "En el columna sex sustituir male por 0 y female por 1"
   ]
  },
  {
   "cell_type": "code",
   "execution_count": null,
   "metadata": {
    "trusted": false
   },
   "outputs": [],
   "source": [
    "df_entrenamiento_copia['sex'] = df_entrenamiento_copia['sex'].replace({'male': 0, 'female': 1})\n"
   ]
  },
  {
   "cell_type": "markdown",
   "metadata": {},
   "source": [
    "Aplicar One-Hot a la columna embarked"
   ]
  },
  {
   "cell_type": "code",
   "execution_count": null,
   "metadata": {
    "trusted": false
   },
   "outputs": [],
   "source": [
    "# Inicializar el encoder\n",
    "encoder = OneHotEncoder( sparse_output=False)\n",
    "\n",
    "# Aplicar el encoder y crear un DataFrame con los resultados\n",
    "encoded_columns = encoder.fit_transform(df_entrenamiento_copia[['embarked']])\n",
    "encoded_df = pd.DataFrame(encoded_columns, columns=encoder.get_feature_names_out(['embarked']))\n",
    "\n",
    "# Concatenar el DataFrame codificado con el DataFrame original y eliminar la columna original\n",
    "df_entrenamiento_copia = pd.concat([df_entrenamiento_copia.drop(columns=['embarked']), encoded_df], axis=1)"
   ]
  },
  {
   "cell_type": "markdown",
   "metadata": {},
   "source": [
    "Convertir la variable age en una variable categórica: \n",
    "- 1 - <=16\n",
    "- 2 - (16,32]\n",
    "- 3 - (32,48]\n",
    "- 4 - (48,64]\n",
    "- 5 - >64)"
   ]
  },
  {
   "cell_type": "code",
   "execution_count": null,
   "metadata": {
    "trusted": false
   },
   "outputs": [],
   "source": [
    "df_entrenamiento_copia['age'] = pd.cut(df_entrenamiento_copia['age'], bins=[-np.inf, 16, 32, 48, 64, np.inf], labels=[1, 2, 3, 4, 5])"
   ]
  },
  {
   "cell_type": "markdown",
   "metadata": {},
   "source": [
    "Como la columna fare tiene una cola larga por la derecha y tiene valores que son cero aplica la raiz cuadrada a la variable"
   ]
  },
  {
   "cell_type": "code",
   "execution_count": null,
   "metadata": {
    "trusted": false
   },
   "outputs": [],
   "source": [
    "df_entrenamiento_copia['fare'] = np.sqrt(df_entrenamiento_copia['fare'])"
   ]
  },
  {
   "cell_type": "markdown",
   "metadata": {},
   "source": [
    "Estandarizar la variable fare"
   ]
  },
  {
   "cell_type": "code",
   "execution_count": 97,
   "metadata": {
    "trusted": false
   },
   "outputs": [],
   "source": [
    "scaler = StandardScaler()\n",
    "df_entrenamiento_copia[['fare']] = scaler.fit_transform(df_entrenamiento_copia[['fare']])"
   ]
  },
  {
   "cell_type": "markdown",
   "metadata": {},
   "source": [
    "Ya esta el dataframe con los datos de entrenamiento preparados, pero los cambios hechos también hay que hacerlos en los datps de prueba a y en un futuro en otros dataframe bien para entrenar de nuevo el modelo, bien para predecir datos. Por lo tanto, hay que crear una pipeline a la que le pasamos el dataframe y haga todos los cambios."
   ]
  },
  {
   "cell_type": "code",
   "execution_count": null,
   "metadata": {
    "trusted": false
   },
   "outputs": [
    {
     "name": "stdout",
     "output_type": "stream",
     "text": [
      "   pclass  sex  age  familia      fare  embarked_C  embarked_Q  embarked_S  \\\n",
      "0     1.0  1.0  4.0      2.0  1.649346         0.0         0.0         1.0   \n",
      "1     1.0  0.0  2.0      1.0  1.911360         1.0         0.0         0.0   \n",
      "2     1.0  0.0  3.0      0.0  0.104286         0.0         0.0         1.0   \n",
      "3     3.0  1.0  2.0      0.0 -0.705992         0.0         1.0         0.0   \n",
      "4     3.0  0.0  2.0      2.0 -0.322639         1.0         0.0         0.0   \n",
      "\n",
      "   survived  \n",
      "0       1.0  \n",
      "1       0.0  \n",
      "2       1.0  \n",
      "3       1.0  \n",
      "4       1.0  \n"
     ]
    }
   ],
   "source": [
    "# Creo nombres para poder llamar a feature names\n",
    "def familia_name(function_transformer, feature_names_in):\n",
    "     return ['familia']\n",
    "# juntar parch y sibsp para familia\n",
    "def crearFamilia(X):\n",
    "     X=pd.DataFrame(X,columns=['parch','sibsp'])\n",
    "     X['familia'] = X['sibsp'] + X['parch'] \n",
    "     return X['familia'].values.reshape(-1,1)\n",
    "\n",
    "def age_name(function_transformer, feature_names_in):\n",
    "     return ['age']\n",
    "def separar_age(X):\n",
    "     X=pd.DataFrame(X,columns=['age'])\n",
    "     X['age'] = pd.cut(X['age'], bins=[-1,16,32,48,64,np.inf], labels=[1,2,3,4,5]).to_numpy().reshape(-1,1)  \n",
    "     return X\n",
    "\n",
    "def formatearSex(function_transformer, feature_names_in):\n",
    "     return ['sex']\n",
    "#male 0 female 1\n",
    "def sexNumeros(X):\n",
    "     return np.where(X == 'female',1,0)\n",
    "\n",
    "pclass_pipeline = make_pipeline(\n",
    "    SimpleImputer(strategy='most_frequent')  \n",
    ")\n",
    "\n",
    "familia_pipeline = make_pipeline(\n",
    "     SimpleImputer(strategy='most_frequent'),\n",
    "     FunctionTransformer(crearFamilia,feature_names_out=familia_name,validate=False)\n",
    ")\n",
    "age_pipeline=make_pipeline(\n",
    "     SimpleImputer(strategy='mean'),\n",
    "     FunctionTransformer(separar_age,feature_names_out=age_name)\n",
    ")\n",
    "\n",
    "sex_pipeline=make_pipeline(\n",
    "     SimpleImputer(strategy=\"most_frequent\"), \n",
    "     FunctionTransformer(sexNumeros,feature_names_out=formatearSex)\n",
    ")\n",
    "\n",
    "embarked_pipeline = make_pipeline(\n",
    "     SimpleImputer(strategy=\"most_frequent\"), \n",
    "     OneHotEncoder(handle_unknown=\"ignore\")\n",
    ")\n",
    "\n",
    "fare_pipeline = make_pipeline(\n",
    "     SimpleImputer(strategy=\"mean\"),\n",
    "     FunctionTransformer(np.sqrt, feature_names_out=\"one-to-one\"),\n",
    "     StandardScaler()\n",
    ")\n",
    "\n",
    "pipeline_titanic = ColumnTransformer([\n",
    "     ('pclass', pclass_pipeline, ['pclass']), \n",
    "     ('sex', sex_pipeline, ['sex']),\n",
    "     ('age', age_pipeline, ['age']), \n",
    "     ('familia', familia_pipeline,['sibsp', 'parch']), \n",
    "     ('fare',fare_pipeline, ['fare']), \n",
    "     ('embarked', embarked_pipeline, ['embarked']) \n",
    " ],\n",
    " remainder='passthrough',verbose_feature_names_out=False\n",
    " )\n",
    "\n",
    "transformado = pipeline_titanic.fit_transform(df_entrenamiento)\n",
    "\n",
    "# Obtener nombres de las características finales\n",
    "feature_names = pipeline_titanic.get_feature_names_out()\n",
    "\n",
    "# Crear el DataFrame final\n",
    "df_final = pd.DataFrame(transformado, columns=feature_names)\n",
    "\n",
    "# Mostrar el resultado\n",
    "print(df_final.head())\n"
   ]
  },
  {
   "cell_type": "markdown",
   "metadata": {},
   "source": [
    "## ENTRENAMIENTO Y EVALUACIÓN DEL MODELO"
   ]
  },
  {
   "cell_type": "markdown",
   "metadata": {},
   "source": [
    "Vamos a probar varios algoritmos para ver cual es el que mejor va, para ello primero vamos a evaluarlos manualmente y luego ya utilizaremos validación cruzada.\n",
    "\n",
    "En concreto vamos a probar:\n",
    "- Regresión logística\n",
    "- Random Forest\n",
    "- KNN (K - Nearest Neighbors)\n",
    "\n",
    "Cuanto más se acerque a 1 la exactitud (accuracy), mejor será el modelo."
   ]
  },
  {
   "cell_type": "markdown",
   "metadata": {},
   "source": [
    "### REGRESIÓN LOGÍSTICA\n",
    "Pasos a seguir:\n",
    "- Separar y (columna a predecir) y X (resto de columnas) en el conjunto de entrenamiento\n",
    "- Separar y (columna a predecir) y X (resto de columnas) en el conjunto de test\n",
    "- Crear el modelo (modelo = LogisticRegression())\n",
    "- Entrenar el modelo\n",
    "- Calcular la precisión para el conjunto de entrenamiento (usa accuracy_score)\n",
    "- Calcular la precisión para el conjunto de test "
   ]
  },
  {
   "cell_type": "code",
   "execution_count": 99,
   "metadata": {
    "trusted": false
   },
   "outputs": [
    {
     "name": "stdout",
     "output_type": "stream",
     "text": [
      "Precisión en el conjunto de entrenamiento: 0.81\n",
      "Precisión en el conjunto de prueba: 0.78\n"
     ]
    }
   ],
   "source": [
    "# En la X las caracteristicas y en la Y lo que quiero testear\n",
    "x_entrenamiento = df_entrenamiento.drop('survived', axis=1)\n",
    "y_entrenamiento = df_entrenamiento['survived']\n",
    "\n",
    "# Lo mismo para test\n",
    "x_test = df_testing.drop('survived', axis=1)\n",
    "y_test = df_testing['survived']\n",
    "\n",
    "modelo_reg = make_pipeline(pipeline_titanic,LogisticRegression())\n",
    "modelo_reg.fit(x_entrenamiento, y_entrenamiento)\n",
    "y_entrenamiento_prueba = modelo_reg.predict(x_entrenamiento)\n",
    "y_test_prueba = modelo_reg.predict(x_test)\n",
    "\n",
    "aciertos_entrenamiento_rl = accuracy_score(y_entrenamiento, y_entrenamiento_prueba)\n",
    "aciertos_test_rl = accuracy_score(y_test, y_test_prueba)\n",
    "\n",
    "print(f'Precisión en el conjunto de entrenamiento: {aciertos_entrenamiento_rl:.2f}')\n",
    "print(f'Precisión en el conjunto de prueba: {aciertos_test_rl:.2f}')"
   ]
  },
  {
   "cell_type": "markdown",
   "metadata": {},
   "source": [
    "### RANDOM FOREST\n",
    "Hacemos lo mismo pero ahora usando el algoritmo Random Forest (RandomForestClassifier(n_estimators=100))"
   ]
  },
  {
   "cell_type": "code",
   "execution_count": 100,
   "metadata": {
    "trusted": false
   },
   "outputs": [
    {
     "name": "stdout",
     "output_type": "stream",
     "text": [
      "Precisión en el conjunto de entrenamiento: 0.95\n",
      "Precisión en el conjunto de prueba: 0.81\n"
     ]
    }
   ],
   "source": [
    "\n",
    "modelo_rand = make_pipeline(pipeline_titanic,RandomForestClassifier(n_estimators=100))\n",
    "modelo_rand.fit(x_entrenamiento, y_entrenamiento)\n",
    "y_entrenamiento_prueba = modelo_rand.predict(x_entrenamiento)\n",
    "y_test_prueba = modelo_rand.predict(x_test)\n",
    "\n",
    "aciertos_entrenamiento_r = accuracy_score(y_entrenamiento, y_entrenamiento_prueba)\n",
    "aciertos_test_r = accuracy_score(y_test, y_test_prueba)\n",
    "\n",
    "print(f'Precisión en el conjunto de entrenamiento: {aciertos_entrenamiento_r:.2f}')\n",
    "print(f'Precisión en el conjunto de prueba: {aciertos_test_r:.2f}')"
   ]
  },
  {
   "cell_type": "markdown",
   "metadata": {},
   "source": [
    "### K - NEAREST NEIGHBORS\n",
    "Hacemos lo mismo pero ahora usando el algoritmo K - Nearest Neighbours (KNeighborsClassifier(n_neighbors=3))"
   ]
  },
  {
   "cell_type": "code",
   "execution_count": 101,
   "metadata": {
    "trusted": false
   },
   "outputs": [
    {
     "name": "stdout",
     "output_type": "stream",
     "text": [
      "Precisión en el conjunto de entrenamiento: 0.88\n",
      "Precisión en el conjunto de prueba: 0.79\n"
     ]
    }
   ],
   "source": [
    "\n",
    "modelo_k = make_pipeline(pipeline_titanic,KNeighborsClassifier(n_neighbors=3))\n",
    "modelo_k.fit(x_entrenamiento, y_entrenamiento)\n",
    "y_entrenamiento_prueba = modelo_k.predict(x_entrenamiento)\n",
    "y_test_prueba = modelo_k.predict(x_test)\n",
    "\n",
    "aciertos_entrenamiento_k = accuracy_score(y_entrenamiento, y_entrenamiento_prueba)\n",
    "aciertos_test_k = accuracy_score(y_test, y_test_prueba)\n",
    "\n",
    "print(f'Precisión en el conjunto de entrenamiento: {aciertos_entrenamiento_k:.2f}')\n",
    "print(f'Precisión en el conjunto de prueba: {aciertos_test_k:.2f}')"
   ]
  },
  {
   "cell_type": "markdown",
   "metadata": {},
   "source": [
    "### COMPARACIÓN"
   ]
  },
  {
   "cell_type": "markdown",
   "metadata": {},
   "source": [
    "Muestra una tablas con los resultado obtenidos\n",
    "\n",
    "\n",
    "| Modelo                 |Precisión entrenamiento   | Precisión test  |\n",
    "|------------------------|--------------------------|-----------------|\n",
    "| LogisticRegression     |                          |                 |\n",
    "| RandomForestClassifier |                          |                 |\n",
    "| KNeighborsClassifier   |                          |                 |"
   ]
  },
  {
   "cell_type": "code",
   "execution_count": 102,
   "metadata": {
    "trusted": false
   },
   "outputs": [
    {
     "name": "stdout",
     "output_type": "stream",
     "text": [
      "                   Modelo  Precisión entrenamiento  Precisión test\n",
      "0      LogisticRegression                 0.807133        0.776119\n",
      "1  RandomForestClassifier                 0.945839        0.805970\n",
      "2    KNeighborsClassifier                 0.878468        0.791045\n"
     ]
    }
   ],
   "source": [
    "resultados = pd.DataFrame({\n",
    "    \"Modelo\": [\"LogisticRegression\", \"RandomForestClassifier\", \"KNeighborsClassifier\"],\n",
    "    \"Precisión entrenamiento\": [aciertos_entrenamiento_rl, aciertos_entrenamiento_r, aciertos_entrenamiento_k],\n",
    "    \"Precisión test\": [aciertos_test_rl, aciertos_test_r, aciertos_test_k]\n",
    "})\n",
    "print(resultados)"
   ]
  },
  {
   "cell_type": "markdown",
   "metadata": {},
   "source": [
    "A la vista de los resultados con ¿cual te quedas para trabajarlo con validación cruzada y luego optimizarlo?"
   ]
  },
  {
   "cell_type": "markdown",
   "metadata": {},
   "source": [
    "Conclusiones 🤔: Me quedo con Random forest, que es la que mejor resultado me da."
   ]
  },
  {
   "cell_type": "markdown",
   "metadata": {},
   "source": [
    "Vamos a usar RandomForestClassifier con validación cruzada"
   ]
  },
  {
   "cell_type": "code",
   "execution_count": 103,
   "metadata": {
    "trusted": false
   },
   "outputs": [
    {
     "name": "stdout",
     "output_type": "stream",
     "text": [
      "RMSE con validación cruzada 0.81\n"
     ]
    }
   ],
   "source": [
    "random_forest_cruzada = cross_val_score(modelo_rand, x_entrenamiento, y_entrenamiento, cv=5, scoring='accuracy')\n",
    "print(f\"RMSE con validación cruzada {np.mean(random_forest_cruzada):.2f}\")"
   ]
  },
  {
   "cell_type": "markdown",
   "metadata": {},
   "source": [
    "## OPTIMIZACIÓN DEL MODELO"
   ]
  },
  {
   "cell_type": "markdown",
   "metadata": {},
   "source": [
    "Vamos a optimizar el modelo usando busqueda aleatorio para optimizar los hiperparametros, en concreto vamos a mejorar los siguientes hiperparametros\n",
    "``````\n",
    "param_dist = {\n",
    "    'randomforestclassifier__n_estimators': randint(10, 200),\n",
    "    'randomforestclassifier__max_features': ['sqrt', 'log2', None]\n",
    "}\n",
    "``````"
   ]
  },
  {
   "cell_type": "code",
   "execution_count": 104,
   "metadata": {
    "trusted": false
   },
   "outputs": [
    {
     "name": "stdout",
     "output_type": "stream",
     "text": [
      "Mejores hiperparámetros encontrados: {'randomforestclassifier__max_features': 'log2', 'randomforestclassifier__n_estimators': 153}\n"
     ]
    }
   ],
   "source": [
    "# Crear un pipeline con make_pipeline\n",
    "pipeline = make_pipeline(pipeline_titanic,RandomForestClassifier())\n",
    "\n",
    "param_dist = {\n",
    "    'randomforestclassifier__n_estimators': randint(10, 200),\n",
    "    'randomforestclassifier__max_features': ['sqrt', 'log2', None]\n",
    "}\n",
    "\n",
    "# Crear el objeto de búsqueda aleatoria\n",
    "random_search = RandomizedSearchCV(estimator=pipeline, param_distributions=param_dist, scoring='accuracy', cv=5)\n",
    "\n",
    "# Ajustar el modelo a los datos de entrenamiento\n",
    "random_search.fit(x_entrenamiento, y_entrenamiento)\n",
    "\n",
    "# Mejor estimador encontrado\n",
    "print(\"Mejores hiperparámetros encontrados:\", random_search.best_params_)\n"
   ]
  },
  {
   "cell_type": "markdown",
   "metadata": {},
   "source": [
    "### EVALUACIÓN EN EL CONJUNTO DE PRUEBA"
   ]
  },
  {
   "cell_type": "markdown",
   "metadata": {},
   "source": [
    "EvaluaR el modelo usando accuracy_score y el conjunto de datos de test"
   ]
  },
  {
   "cell_type": "code",
   "execution_count": 105,
   "metadata": {
    "trusted": false
   },
   "outputs": [
    {
     "name": "stdout",
     "output_type": "stream",
     "text": [
      "Aciertos con datos de entrenamiento: 0.95\n",
      "Aciertos con datos de prueba: 0.81\n"
     ]
    }
   ],
   "source": [
    "# con la nueva pipeline\n",
    "# Crear y entrenar modelo\n",
    "modelo = pipeline.fit(x_entrenamiento, y_entrenamiento)\n",
    "\n",
    "# Calcular aciertos con datos de entrenamiento\n",
    "aciertos_entrenamiento = accuracy_score(y_entrenamiento, modelo.predict(x_entrenamiento))\n",
    "print(f\"Aciertos con datos de entrenamiento: {aciertos_entrenamiento:.2f}\")\n",
    "\n",
    "# Calcular aciertos con datos de prueba\n",
    "aciertos_pruebas = accuracy_score(y_test, modelo.predict(x_test))\n",
    "print(f\"Aciertos con datos de prueba: {aciertos_pruebas:.2f}\")"
   ]
  },
  {
   "cell_type": "markdown",
   "metadata": {},
   "source": [
    "## PRESENTACIÓN DE LA SOLUCIÓN"
   ]
  },
  {
   "cell_type": "markdown",
   "metadata": {},
   "source": [
    "Ahora tienes que crear un archivo .py con todo lo necesario para que ejecute el modelo que acabamos de crear, en concreto el script tiene que ejecutar lo siguiente:\n",
    "- Pedir un csv para predecir los datos (suponemos que los datos en el csv están bien)\n",
    "- Cargamos los datos del csv en un dataframe.\n",
    "- Aplicamos nuestro modelo al dataframe.\n",
    "- Informamos al usuario de las predicciones."
   ]
  },
  {
   "cell_type": "code",
   "execution_count": 106,
   "metadata": {
    "trusted": false
   },
   "outputs": [
    {
     "data": {
      "text/plain": [
       "['./modelo.pkl']"
      ]
     },
     "execution_count": 106,
     "metadata": {},
     "output_type": "execute_result"
    }
   ],
   "source": [
    "joblib.dump(modelo, \"./modelo.pkl\")"
   ]
  }
 ],
 "metadata": {
  "kernelspec": {
   "display_name": "Python 3",
   "language": "python",
   "name": "python3"
  },
  "language_info": {
   "codemirror_mode": {
    "name": "ipython",
    "version": 3
   },
   "file_extension": ".py",
   "mimetype": "text/x-python",
   "name": "python",
   "nbconvert_exporter": "python",
   "pygments_lexer": "ipython3",
   "version": "3.11.10"
  },
  "nav_menu": {
   "height": "279px",
   "width": "309px"
  },
  "toc": {
   "nav_menu": {},
   "number_sections": true,
   "sideBar": true,
   "skip_h1_title": false,
   "toc_cell": false,
   "toc_position": {},
   "toc_section_display": "block",
   "toc_window_display": false
  }
 },
 "nbformat": 4,
 "nbformat_minor": 4
}
