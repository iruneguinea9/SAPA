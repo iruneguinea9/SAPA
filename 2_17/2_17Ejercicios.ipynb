{
 "cells": [
  {
   "cell_type": "markdown",
   "metadata": {
    "tags": []
   },
   "source": [
    "# EJERCICIOS"
   ]
  },
  {
   "cell_type": "code",
   "execution_count": 7,
   "metadata": {},
   "outputs": [],
   "source": [
    "import numpy as np\n",
    "from sklearn.datasets import fetch_openml\n",
    "from sklearn.ensemble import RandomForestClassifier\n",
    "from sklearn.metrics import accuracy_score\n",
    "from sklearn.decomposition import PCA\n",
    "from sklearn.linear_model import SGDClassifier\n",
    "from matplotlib import pyplot as plt\n",
    "from sklearn.manifold import LocallyLinearEmbedding, MDS, TSNE\n",
    "from sklearn.pipeline import make_pipeline\n",
    "import time\n"
   ]
  },
  {
   "cell_type": "markdown",
   "metadata": {},
   "source": [
    "## EJERCICIO 1"
   ]
  },
  {
   "cell_type": "markdown",
   "metadata": {},
   "source": [
    "Carga el conjunto de datos MNIST y divídelo en un conjunto de entrenamiento y un conjunto de prueba (coge las 60.000 primeras instancias para el entrenamiento y las 10.000 restantes para la prueba). \n",
    "Entrena un clasificador random forest en el conjunto de datos y cronometra cuánto tarda (puedes usar la anotación %time de jupyter notebook); luego, evalúa el modelo resultante en el conjunto de prueba. \n",
    "\n",
    "A continuación, utiliza PCA para reducir la dimensionalidad del conjunto de datos, con un ratio de varianza explicada del 95%. Entrena un nuevo clasificador random forest en el conjunto de datos reducido y comprueba cuánto tarda. ¿Ha sido el entrenamiento mucho más rápido? A continuación, evalúa el clasificador en el conjunto de prueba. ¿Qué tal lo hace en comparación con el clasificador anterior? \n",
    "\n",
    "Prueba otra vez con un SGDClassifier, ¿cuánto ayuda ahora el PCA?"
   ]
  },
  {
   "cell_type": "code",
   "execution_count": 8,
   "metadata": {},
   "outputs": [
    {
     "name": "stdout",
     "output_type": "stream",
     "text": [
      "Entrenando RandomForestClassifier sin PCA...\n"
     ]
    }
   ],
   "source": [
    "# Cargar el conjunto de datos MNIST\n",
    "mnist = fetch_openml('mnist_784', version=1)\n",
    "X, y = mnist.data, mnist.target.astype(np.int32)  # Convertir etiquetas a enteros\n",
    "\n",
    "# Dividir el conjunto de datos\n",
    "X_train, X_test = X[:60000], X[60000:]\n",
    "y_train, y_test = y[:60000], y[60000:]\n",
    "\n",
    "# Entrenar RandomForestClassifier sin PCA\n",
    "print(\"Entrenando RandomForestClassifier sin PCA...\")\n"
   ]
  },
  {
   "cell_type": "code",
   "execution_count": 9,
   "metadata": {},
   "outputs": [
    {
     "name": "stdout",
     "output_type": "stream",
     "text": [
      "Tiempo de entrenamiento sin PCA: 43.37 segundos\n"
     ]
    }
   ],
   "source": [
    "rf_clf = RandomForestClassifier(random_state=42)\n",
    "\n",
    "# Cronometrar el tiempo de entrenamiento\n",
    "start = time.time()\n",
    "rf_clf.fit(X_train, y_train)\n",
    "end = time.time()\n",
    "\n",
    "print(f\"Tiempo de entrenamiento sin PCA: {end - start:.2f} segundos\")\n",
    "\n"
   ]
  },
  {
   "cell_type": "code",
   "execution_count": 10,
   "metadata": {},
   "outputs": [
    {
     "name": "stdout",
     "output_type": "stream",
     "text": [
      "Precisión de RandomForestClassifier sin PCA: 0.9705\n"
     ]
    }
   ],
   "source": [
    "\n",
    "# Evaluar en el conjunto de prueba\n",
    "y_pred_rf = rf_clf.predict(X_test)\n",
    "accuracy_rf = accuracy_score(y_test, y_pred_rf)\n",
    "print(f\"Precisión de RandomForestClassifier sin PCA: {accuracy_rf:.4f}\")\n",
    "\n"
   ]
  },
  {
   "cell_type": "code",
   "execution_count": 11,
   "metadata": {},
   "outputs": [
    {
     "name": "stdout",
     "output_type": "stream",
     "text": [
      "Dimensionalidad reducida a: 154 componentes principales\n"
     ]
    }
   ],
   "source": [
    "\n",
    "# Reducir dimensionalidad con PCA\n",
    "pca = PCA(n_components=0.95)\n",
    "X_train_pca = pca.fit_transform(X_train)\n",
    "X_test_pca = pca.transform(X_test)\n",
    "\n",
    "print(f\"Dimensionalidad reducida a: {X_train_pca.shape[1]} componentes principales\")\n"
   ]
  },
  {
   "cell_type": "code",
   "execution_count": 12,
   "metadata": {},
   "outputs": [
    {
     "name": "stdout",
     "output_type": "stream",
     "text": [
      "Entrenando RandomForestClassifier con PCA...\n",
      "Tiempo de entrenamiento con PCA: 122.01 segundos\n"
     ]
    }
   ],
   "source": [
    "\n",
    "# Entrenar RandomForestClassifier con PCA\n",
    "print(\"Entrenando RandomForestClassifier con PCA...\")\n",
    "rf_clf_pca = RandomForestClassifier(random_state=42)\n",
    "\n",
    "start = time.time()\n",
    "rf_clf_pca.fit(X_train_pca, y_train)\n",
    "end = time.time()\n",
    "\n",
    "print(f\"Tiempo de entrenamiento con PCA: {end - start:.2f} segundos\")"
   ]
  },
  {
   "cell_type": "code",
   "execution_count": 13,
   "metadata": {},
   "outputs": [
    {
     "name": "stdout",
     "output_type": "stream",
     "text": [
      "Precisión de RandomForestClassifier con PCA: 0.9488\n"
     ]
    }
   ],
   "source": [
    "\n",
    "# Evaluar en el conjunto de prueba\n",
    "y_pred_rf_pca = rf_clf_pca.predict(X_test_pca)\n",
    "accuracy_rf_pca = accuracy_score(y_test, y_pred_rf_pca)\n",
    "print(f\"Precisión de RandomForestClassifier con PCA: {accuracy_rf_pca:.4f}\")\n",
    "\n"
   ]
  },
  {
   "cell_type": "code",
   "execution_count": 14,
   "metadata": {},
   "outputs": [
    {
     "name": "stdout",
     "output_type": "stream",
     "text": [
      "\n",
      "Entrenando SGDClassifier sin PCA...\n",
      "Tiempo de entrenamiento sin PCA: 123.50 segundos\n"
     ]
    }
   ],
   "source": [
    "\n",
    "# Entrenar SGDClassifier sin PCA\n",
    "print(\"\\nEntrenando SGDClassifier sin PCA...\")\n",
    "sgd_clf = SGDClassifier(random_state=42)\n",
    "\n",
    "start = time.time()\n",
    "sgd_clf.fit(X_train, y_train)\n",
    "end = time.time()\n",
    "\n",
    "print(f\"Tiempo de entrenamiento sin PCA: {end - start:.2f} segundos\")"
   ]
  },
  {
   "cell_type": "code",
   "execution_count": 15,
   "metadata": {},
   "outputs": [
    {
     "name": "stdout",
     "output_type": "stream",
     "text": [
      "Precisión de SGDClassifier sin PCA: 0.8740\n"
     ]
    }
   ],
   "source": [
    "\n",
    "# Evaluar en el conjunto de prueba\n",
    "y_pred_sgd = sgd_clf.predict(X_test)\n",
    "accuracy_sgd = accuracy_score(y_test, y_pred_sgd)\n",
    "print(f\"Precisión de SGDClassifier sin PCA: {accuracy_sgd:.4f}\")\n"
   ]
  },
  {
   "cell_type": "code",
   "execution_count": 16,
   "metadata": {},
   "outputs": [
    {
     "name": "stdout",
     "output_type": "stream",
     "text": [
      "Entrenando SGDClassifier con PCA...\n",
      "Tiempo de entrenamiento con PCA: 26.56 segundos\n"
     ]
    }
   ],
   "source": [
    "\n",
    "# Entrenar SGDClassifier con PCA\n",
    "print(\"Entrenando SGDClassifier con PCA...\")\n",
    "sgd_clf_pca = SGDClassifier(random_state=42)\n",
    "\n",
    "start = time.time()\n",
    "sgd_clf_pca.fit(X_train_pca, y_train)\n",
    "end = time.time()\n",
    "\n",
    "print(f\"Tiempo de entrenamiento con PCA: {end - start:.2f} segundos\")\n",
    "\n"
   ]
  },
  {
   "cell_type": "code",
   "execution_count": 17,
   "metadata": {},
   "outputs": [
    {
     "name": "stdout",
     "output_type": "stream",
     "text": [
      "Precisión de SGDClassifier con PCA: 0.8959\n"
     ]
    }
   ],
   "source": [
    "\n",
    "# Evaluar en el conjunto de prueba\n",
    "y_pred_sgd_pca = sgd_clf_pca.predict(X_test_pca)\n",
    "accuracy_sgd_pca = accuracy_score(y_test, y_pred_sgd_pca)\n",
    "print(f\"Precisión de SGDClassifier con PCA: {accuracy_sgd_pca:.4f}\")"
   ]
  },
  {
   "cell_type": "markdown",
   "metadata": {},
   "source": [
    "En este caso PCA hace que el tiempo de entrenamiento aumente, pero solo mejora la precisión con SGDClassifier, empeora un poco con Random Forest. "
   ]
  },
  {
   "cell_type": "markdown",
   "metadata": {},
   "source": [
    "## EJERCICIO 2 (OPCIONAL)"
   ]
  },
  {
   "cell_type": "markdown",
   "metadata": {},
   "source": [
    "Utiliza t-SNE para reducir las primeras 5.000 imágenes del conjunto de datos MNIST a dos dimensiones (2 columas) "
   ]
  },
  {
   "cell_type": "code",
   "execution_count": null,
   "metadata": {},
   "outputs": [],
   "source": []
  },
  {
   "cell_type": "markdown",
   "metadata": {},
   "source": [
    "Representa el resultado utilizando un gráfico de dispersión con 10 colores diferentes para representar la clase objetivo de cada imagen. "
   ]
  },
  {
   "cell_type": "code",
   "execution_count": null,
   "metadata": {},
   "outputs": [],
   "source": []
  },
  {
   "cell_type": "markdown",
   "metadata": {},
   "source": [
    " Prueba a utilizar otros algoritmos de reducción de dimensionalidad como PCA, LLE o MDS y compara las visualizaciones resultantes (la opción de MDS puede que tarde un rato)."
   ]
  },
  {
   "cell_type": "code",
   "execution_count": null,
   "metadata": {},
   "outputs": [],
   "source": []
  },
  {
   "cell_type": "markdown",
   "metadata": {},
   "source": [
    " Prueba ahora creando un pipeline que primero aplique PCA y luego MDS (lanzalo con tiempo)."
   ]
  },
  {
   "cell_type": "code",
   "execution_count": null,
   "metadata": {},
   "outputs": [],
   "source": []
  }
 ],
 "metadata": {
  "kernelspec": {
   "display_name": "Python 3",
   "language": "python",
   "name": "python3"
  },
  "language_info": {
   "codemirror_mode": {
    "name": "ipython",
    "version": 3
   },
   "file_extension": ".py",
   "mimetype": "text/x-python",
   "name": "python",
   "nbconvert_exporter": "python",
   "pygments_lexer": "ipython3",
   "version": "3.11.10"
  }
 },
 "nbformat": 4,
 "nbformat_minor": 4
}
