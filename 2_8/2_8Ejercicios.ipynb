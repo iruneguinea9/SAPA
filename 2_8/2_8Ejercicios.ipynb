{
 "cells": [
  {
   "cell_type": "markdown",
   "metadata": {},
   "source": [
    "# EJERCICIOS"
   ]
  },
  {
   "cell_type": "code",
   "execution_count": 33,
   "metadata": {},
   "outputs": [],
   "source": [
    "import matplotlib.pyplot as plt\n",
    "import numpy as np\n",
    "import pandas as pd\n",
    "import joblib\n",
    "from sklearn.datasets import load_digits\n",
    "from sklearn.neighbors import KNeighborsClassifier\n",
    "from sklearn.model_selection import GridSearchCV, train_test_split, RandomizedSearchCV\n",
    "from sklearn.preprocessing import StandardScaler, OneHotEncoder, MultiLabelBinarizer\n",
    "from sklearn.compose import ColumnTransformer\n",
    "from sklearn.pipeline import Pipeline, make_pipeline\n",
    "from sklearn.linear_model import LogisticRegression, SGDClassifier\n",
    "from sklearn.ensemble import RandomForestClassifier\n",
    "from sklearn.metrics import roc_curve,confusion_matrix\n",
    "from sklearn.svm import SVC \n",
    "from sklearn.impute import SimpleImputer\n",
    "from sklearn.model_selection import cross_val_predict\n",
    "from sklearn.metrics import confusion_matrix, precision_score, recall_score, f1_score, roc_curve, auc, accuracy_score\n",
    "from scipy.stats import reciprocal\n",
    "from sklearn.pipeline import FunctionTransformer\n",
    "from sklearn.feature_extraction.text import TfidfVectorizer\n",
    "import seaborn as sns\n"
   ]
  },
  {
   "cell_type": "markdown",
   "metadata": {},
   "source": [
    "## EJERCICIO 1"
   ]
  },
  {
   "cell_type": "markdown",
   "metadata": {},
   "source": [
    "Vamos a trabajar con el siguiente conjunto de datos: https://www.datacamp.com/es/datalab/datasets/dataset-python-loans\n",
    "\n",
    "| Variable      \t| Explicación                                                                                                             |\n",
    "|-------------------|-------------------------------------------------------------------------------------------------------------------------|\n",
    "| credit_policy\t    | 1 si el cliente cumple con los criterios de suscripción de crédito; 0 en caso contrario.                                |\n",
    "| purpose\t        | El propósito del préstamo.                                                                                              |\n",
    "| int_rate\t        | La tasa de interés del préstamo (a los prestatarios más riesgosos se les asignan tasas más altas).                      |\n",
    "| installment\t    | Las cuotas mensuales del prestamo                                                                                       |\n",
    "| log_annual_inc    | El logaritmo natural del ingreso anual declarado por el prestatario.                                                    |\n",
    "| dti\t            | La relación deuda-ingreso del prestatario (monto de deuda dividido por ingresos anuales).                               |\n",
    "| fico\t            | El puntaje de crédito FICO del prestatario.                                                                             |\n",
    "| days_with_cr_line\t| El número de días que el prestatario ha tenido una línea de crédito.                                                    |\n",
    "| revol_bal\t        | El saldo rotativo del prestatario (monto no pagado al final del ciclo de facturación de la tarjeta).                    |\n",
    "| revol_util        | La tasa de utilización de la línea de crédito del prestatario (monto de crédito utilizado respecto al total disponible).|\n",
    "| inq_last_6mths\t| El número de consultas de los acreedores al prestatario en los últimos 6 meses.                                         |\n",
    "| delinq_2yrs\t    | El número de veces que el prestatario ha estado más de 30 días en mora en un pago en los últimos 2 años.                |\n",
    "| pub_rec\t        | El número de registros públicos despectivos del prestatario.                                                            |\n",
    "| not_fully_paid    | 1 si el préstamo se pagó totalmente; 0 en caso contrario.                                                        |\n",
    "\n",
    "El csv lo tienes disponible en Moodle\n",
    "\n",
    "Este conjunto de datos consta de más de 9500 préstamos con información sobre los datos del préstamo y si el préstamo fue pagado en su totalidad o no. Estos datos fueron extraídos de LendingClub.com\n",
    "Crea un clasificador para predecir si un prestamo va a ser pagado o no."
   ]
  },
  {
   "cell_type": "markdown",
   "metadata": {},
   "source": [
    "### RECOPILACIÓN Y PREPARACIÓN DE LOS DATOS"
   ]
  },
  {
   "cell_type": "markdown",
   "metadata": {},
   "source": [
    "#### OBTENER LOS DATOS"
   ]
  },
  {
   "cell_type": "code",
   "execution_count": 34,
   "metadata": {},
   "outputs": [],
   "source": [
    "loan_data = pd.read_csv(\"loan_data.csv\")"
   ]
  },
  {
   "cell_type": "markdown",
   "metadata": {},
   "source": [
    "#### EXPLORAR LOS DATOS"
   ]
  },
  {
   "cell_type": "markdown",
   "metadata": {},
   "source": [
    "Entre otras cosas: estadísticas, matriz de correlaciones y borrar columnas innecesarias."
   ]
  },
  {
   "cell_type": "code",
   "execution_count": 35,
   "metadata": {},
   "outputs": [
    {
     "data": {
      "text/html": [
       "<div>\n",
       "<style scoped>\n",
       "    .dataframe tbody tr th:only-of-type {\n",
       "        vertical-align: middle;\n",
       "    }\n",
       "\n",
       "    .dataframe tbody tr th {\n",
       "        vertical-align: top;\n",
       "    }\n",
       "\n",
       "    .dataframe thead th {\n",
       "        text-align: right;\n",
       "    }\n",
       "</style>\n",
       "<table border=\"1\" class=\"dataframe\">\n",
       "  <thead>\n",
       "    <tr style=\"text-align: right;\">\n",
       "      <th></th>\n",
       "      <th>credit.policy</th>\n",
       "      <th>purpose</th>\n",
       "      <th>int.rate</th>\n",
       "      <th>installment</th>\n",
       "      <th>log.annual.inc</th>\n",
       "      <th>dti</th>\n",
       "      <th>fico</th>\n",
       "      <th>days.with.cr.line</th>\n",
       "      <th>revol.bal</th>\n",
       "      <th>revol.util</th>\n",
       "      <th>inq.last.6mths</th>\n",
       "      <th>delinq.2yrs</th>\n",
       "      <th>pub.rec</th>\n",
       "      <th>not.fully.paid</th>\n",
       "    </tr>\n",
       "  </thead>\n",
       "  <tbody>\n",
       "    <tr>\n",
       "      <th>0</th>\n",
       "      <td>1</td>\n",
       "      <td>debt_consolidation</td>\n",
       "      <td>0.1189</td>\n",
       "      <td>829.10</td>\n",
       "      <td>11.350407</td>\n",
       "      <td>19.48</td>\n",
       "      <td>737</td>\n",
       "      <td>5639.958333</td>\n",
       "      <td>28854</td>\n",
       "      <td>52.1</td>\n",
       "      <td>0</td>\n",
       "      <td>0</td>\n",
       "      <td>0</td>\n",
       "      <td>0</td>\n",
       "    </tr>\n",
       "    <tr>\n",
       "      <th>1</th>\n",
       "      <td>1</td>\n",
       "      <td>credit_card</td>\n",
       "      <td>0.1071</td>\n",
       "      <td>228.22</td>\n",
       "      <td>11.082143</td>\n",
       "      <td>14.29</td>\n",
       "      <td>707</td>\n",
       "      <td>2760.000000</td>\n",
       "      <td>33623</td>\n",
       "      <td>76.7</td>\n",
       "      <td>0</td>\n",
       "      <td>0</td>\n",
       "      <td>0</td>\n",
       "      <td>0</td>\n",
       "    </tr>\n",
       "    <tr>\n",
       "      <th>2</th>\n",
       "      <td>1</td>\n",
       "      <td>debt_consolidation</td>\n",
       "      <td>0.1357</td>\n",
       "      <td>366.86</td>\n",
       "      <td>10.373491</td>\n",
       "      <td>11.63</td>\n",
       "      <td>682</td>\n",
       "      <td>4710.000000</td>\n",
       "      <td>3511</td>\n",
       "      <td>25.6</td>\n",
       "      <td>1</td>\n",
       "      <td>0</td>\n",
       "      <td>0</td>\n",
       "      <td>0</td>\n",
       "    </tr>\n",
       "    <tr>\n",
       "      <th>3</th>\n",
       "      <td>1</td>\n",
       "      <td>debt_consolidation</td>\n",
       "      <td>0.1008</td>\n",
       "      <td>162.34</td>\n",
       "      <td>11.350407</td>\n",
       "      <td>8.10</td>\n",
       "      <td>712</td>\n",
       "      <td>2699.958333</td>\n",
       "      <td>33667</td>\n",
       "      <td>73.2</td>\n",
       "      <td>1</td>\n",
       "      <td>0</td>\n",
       "      <td>0</td>\n",
       "      <td>0</td>\n",
       "    </tr>\n",
       "    <tr>\n",
       "      <th>4</th>\n",
       "      <td>1</td>\n",
       "      <td>credit_card</td>\n",
       "      <td>0.1426</td>\n",
       "      <td>102.92</td>\n",
       "      <td>11.299732</td>\n",
       "      <td>14.97</td>\n",
       "      <td>667</td>\n",
       "      <td>4066.000000</td>\n",
       "      <td>4740</td>\n",
       "      <td>39.5</td>\n",
       "      <td>0</td>\n",
       "      <td>1</td>\n",
       "      <td>0</td>\n",
       "      <td>0</td>\n",
       "    </tr>\n",
       "  </tbody>\n",
       "</table>\n",
       "</div>"
      ],
      "text/plain": [
       "   credit.policy             purpose  int.rate  installment  log.annual.inc  \\\n",
       "0              1  debt_consolidation    0.1189       829.10       11.350407   \n",
       "1              1         credit_card    0.1071       228.22       11.082143   \n",
       "2              1  debt_consolidation    0.1357       366.86       10.373491   \n",
       "3              1  debt_consolidation    0.1008       162.34       11.350407   \n",
       "4              1         credit_card    0.1426       102.92       11.299732   \n",
       "\n",
       "     dti  fico  days.with.cr.line  revol.bal  revol.util  inq.last.6mths  \\\n",
       "0  19.48   737        5639.958333      28854        52.1               0   \n",
       "1  14.29   707        2760.000000      33623        76.7               0   \n",
       "2  11.63   682        4710.000000       3511        25.6               1   \n",
       "3   8.10   712        2699.958333      33667        73.2               1   \n",
       "4  14.97   667        4066.000000       4740        39.5               0   \n",
       "\n",
       "   delinq.2yrs  pub.rec  not.fully.paid  \n",
       "0            0        0               0  \n",
       "1            0        0               0  \n",
       "2            0        0               0  \n",
       "3            0        0               0  \n",
       "4            1        0               0  "
      ]
     },
     "execution_count": 35,
     "metadata": {},
     "output_type": "execute_result"
    }
   ],
   "source": [
    "loan_data.head()\n"
   ]
  },
  {
   "cell_type": "code",
   "execution_count": 36,
   "metadata": {},
   "outputs": [
    {
     "data": {
      "text/html": [
       "<div>\n",
       "<style scoped>\n",
       "    .dataframe tbody tr th:only-of-type {\n",
       "        vertical-align: middle;\n",
       "    }\n",
       "\n",
       "    .dataframe tbody tr th {\n",
       "        vertical-align: top;\n",
       "    }\n",
       "\n",
       "    .dataframe thead th {\n",
       "        text-align: right;\n",
       "    }\n",
       "</style>\n",
       "<table border=\"1\" class=\"dataframe\">\n",
       "  <thead>\n",
       "    <tr style=\"text-align: right;\">\n",
       "      <th></th>\n",
       "      <th>credit.policy</th>\n",
       "      <th>int.rate</th>\n",
       "      <th>installment</th>\n",
       "      <th>log.annual.inc</th>\n",
       "      <th>dti</th>\n",
       "      <th>fico</th>\n",
       "      <th>days.with.cr.line</th>\n",
       "      <th>revol.bal</th>\n",
       "      <th>revol.util</th>\n",
       "      <th>inq.last.6mths</th>\n",
       "      <th>delinq.2yrs</th>\n",
       "      <th>pub.rec</th>\n",
       "      <th>not.fully.paid</th>\n",
       "    </tr>\n",
       "  </thead>\n",
       "  <tbody>\n",
       "    <tr>\n",
       "      <th>count</th>\n",
       "      <td>9578.000000</td>\n",
       "      <td>9578.000000</td>\n",
       "      <td>9578.000000</td>\n",
       "      <td>9578.000000</td>\n",
       "      <td>9578.000000</td>\n",
       "      <td>9578.000000</td>\n",
       "      <td>9578.000000</td>\n",
       "      <td>9.578000e+03</td>\n",
       "      <td>9578.000000</td>\n",
       "      <td>9578.000000</td>\n",
       "      <td>9578.000000</td>\n",
       "      <td>9578.000000</td>\n",
       "      <td>9578.000000</td>\n",
       "    </tr>\n",
       "    <tr>\n",
       "      <th>mean</th>\n",
       "      <td>0.804970</td>\n",
       "      <td>0.122640</td>\n",
       "      <td>319.089413</td>\n",
       "      <td>10.932117</td>\n",
       "      <td>12.606679</td>\n",
       "      <td>710.846314</td>\n",
       "      <td>4560.767197</td>\n",
       "      <td>1.691396e+04</td>\n",
       "      <td>46.799236</td>\n",
       "      <td>1.577469</td>\n",
       "      <td>0.163708</td>\n",
       "      <td>0.062122</td>\n",
       "      <td>0.160054</td>\n",
       "    </tr>\n",
       "    <tr>\n",
       "      <th>std</th>\n",
       "      <td>0.396245</td>\n",
       "      <td>0.026847</td>\n",
       "      <td>207.071301</td>\n",
       "      <td>0.614813</td>\n",
       "      <td>6.883970</td>\n",
       "      <td>37.970537</td>\n",
       "      <td>2496.930377</td>\n",
       "      <td>3.375619e+04</td>\n",
       "      <td>29.014417</td>\n",
       "      <td>2.200245</td>\n",
       "      <td>0.546215</td>\n",
       "      <td>0.262126</td>\n",
       "      <td>0.366676</td>\n",
       "    </tr>\n",
       "    <tr>\n",
       "      <th>min</th>\n",
       "      <td>0.000000</td>\n",
       "      <td>0.060000</td>\n",
       "      <td>15.670000</td>\n",
       "      <td>7.547502</td>\n",
       "      <td>0.000000</td>\n",
       "      <td>612.000000</td>\n",
       "      <td>178.958333</td>\n",
       "      <td>0.000000e+00</td>\n",
       "      <td>0.000000</td>\n",
       "      <td>0.000000</td>\n",
       "      <td>0.000000</td>\n",
       "      <td>0.000000</td>\n",
       "      <td>0.000000</td>\n",
       "    </tr>\n",
       "    <tr>\n",
       "      <th>25%</th>\n",
       "      <td>1.000000</td>\n",
       "      <td>0.103900</td>\n",
       "      <td>163.770000</td>\n",
       "      <td>10.558414</td>\n",
       "      <td>7.212500</td>\n",
       "      <td>682.000000</td>\n",
       "      <td>2820.000000</td>\n",
       "      <td>3.187000e+03</td>\n",
       "      <td>22.600000</td>\n",
       "      <td>0.000000</td>\n",
       "      <td>0.000000</td>\n",
       "      <td>0.000000</td>\n",
       "      <td>0.000000</td>\n",
       "    </tr>\n",
       "    <tr>\n",
       "      <th>50%</th>\n",
       "      <td>1.000000</td>\n",
       "      <td>0.122100</td>\n",
       "      <td>268.950000</td>\n",
       "      <td>10.928884</td>\n",
       "      <td>12.665000</td>\n",
       "      <td>707.000000</td>\n",
       "      <td>4139.958333</td>\n",
       "      <td>8.596000e+03</td>\n",
       "      <td>46.300000</td>\n",
       "      <td>1.000000</td>\n",
       "      <td>0.000000</td>\n",
       "      <td>0.000000</td>\n",
       "      <td>0.000000</td>\n",
       "    </tr>\n",
       "    <tr>\n",
       "      <th>75%</th>\n",
       "      <td>1.000000</td>\n",
       "      <td>0.140700</td>\n",
       "      <td>432.762500</td>\n",
       "      <td>11.291293</td>\n",
       "      <td>17.950000</td>\n",
       "      <td>737.000000</td>\n",
       "      <td>5730.000000</td>\n",
       "      <td>1.824950e+04</td>\n",
       "      <td>70.900000</td>\n",
       "      <td>2.000000</td>\n",
       "      <td>0.000000</td>\n",
       "      <td>0.000000</td>\n",
       "      <td>0.000000</td>\n",
       "    </tr>\n",
       "    <tr>\n",
       "      <th>max</th>\n",
       "      <td>1.000000</td>\n",
       "      <td>0.216400</td>\n",
       "      <td>940.140000</td>\n",
       "      <td>14.528354</td>\n",
       "      <td>29.960000</td>\n",
       "      <td>827.000000</td>\n",
       "      <td>17639.958330</td>\n",
       "      <td>1.207359e+06</td>\n",
       "      <td>119.000000</td>\n",
       "      <td>33.000000</td>\n",
       "      <td>13.000000</td>\n",
       "      <td>5.000000</td>\n",
       "      <td>1.000000</td>\n",
       "    </tr>\n",
       "  </tbody>\n",
       "</table>\n",
       "</div>"
      ],
      "text/plain": [
       "       credit.policy     int.rate  installment  log.annual.inc          dti  \\\n",
       "count    9578.000000  9578.000000  9578.000000     9578.000000  9578.000000   \n",
       "mean        0.804970     0.122640   319.089413       10.932117    12.606679   \n",
       "std         0.396245     0.026847   207.071301        0.614813     6.883970   \n",
       "min         0.000000     0.060000    15.670000        7.547502     0.000000   \n",
       "25%         1.000000     0.103900   163.770000       10.558414     7.212500   \n",
       "50%         1.000000     0.122100   268.950000       10.928884    12.665000   \n",
       "75%         1.000000     0.140700   432.762500       11.291293    17.950000   \n",
       "max         1.000000     0.216400   940.140000       14.528354    29.960000   \n",
       "\n",
       "              fico  days.with.cr.line     revol.bal   revol.util  \\\n",
       "count  9578.000000        9578.000000  9.578000e+03  9578.000000   \n",
       "mean    710.846314        4560.767197  1.691396e+04    46.799236   \n",
       "std      37.970537        2496.930377  3.375619e+04    29.014417   \n",
       "min     612.000000         178.958333  0.000000e+00     0.000000   \n",
       "25%     682.000000        2820.000000  3.187000e+03    22.600000   \n",
       "50%     707.000000        4139.958333  8.596000e+03    46.300000   \n",
       "75%     737.000000        5730.000000  1.824950e+04    70.900000   \n",
       "max     827.000000       17639.958330  1.207359e+06   119.000000   \n",
       "\n",
       "       inq.last.6mths  delinq.2yrs      pub.rec  not.fully.paid  \n",
       "count     9578.000000  9578.000000  9578.000000     9578.000000  \n",
       "mean         1.577469     0.163708     0.062122        0.160054  \n",
       "std          2.200245     0.546215     0.262126        0.366676  \n",
       "min          0.000000     0.000000     0.000000        0.000000  \n",
       "25%          0.000000     0.000000     0.000000        0.000000  \n",
       "50%          1.000000     0.000000     0.000000        0.000000  \n",
       "75%          2.000000     0.000000     0.000000        0.000000  \n",
       "max         33.000000    13.000000     5.000000        1.000000  "
      ]
     },
     "execution_count": 36,
     "metadata": {},
     "output_type": "execute_result"
    }
   ],
   "source": [
    "loan_data.describe()\n"
   ]
  },
  {
   "cell_type": "code",
   "execution_count": 37,
   "metadata": {},
   "outputs": [
    {
     "name": "stdout",
     "output_type": "stream",
     "text": [
      "<class 'pandas.core.frame.DataFrame'>\n",
      "RangeIndex: 9578 entries, 0 to 9577\n",
      "Data columns (total 14 columns):\n",
      " #   Column             Non-Null Count  Dtype  \n",
      "---  ------             --------------  -----  \n",
      " 0   credit.policy      9578 non-null   int64  \n",
      " 1   purpose            9578 non-null   object \n",
      " 2   int.rate           9578 non-null   float64\n",
      " 3   installment        9578 non-null   float64\n",
      " 4   log.annual.inc     9578 non-null   float64\n",
      " 5   dti                9578 non-null   float64\n",
      " 6   fico               9578 non-null   int64  \n",
      " 7   days.with.cr.line  9578 non-null   float64\n",
      " 8   revol.bal          9578 non-null   int64  \n",
      " 9   revol.util         9578 non-null   float64\n",
      " 10  inq.last.6mths     9578 non-null   int64  \n",
      " 11  delinq.2yrs        9578 non-null   int64  \n",
      " 12  pub.rec            9578 non-null   int64  \n",
      " 13  not.fully.paid     9578 non-null   int64  \n",
      "dtypes: float64(6), int64(7), object(1)\n",
      "memory usage: 1.0+ MB\n"
     ]
    }
   ],
   "source": [
    "loan_data.info()\n"
   ]
  },
  {
   "cell_type": "code",
   "execution_count": 38,
   "metadata": {},
   "outputs": [
    {
     "data": {
      "text/plain": [
       "array(['debt_consolidation', 'credit_card', 'all_other',\n",
       "       'home_improvement', 'small_business', 'major_purchase',\n",
       "       'educational'], dtype=object)"
      ]
     },
     "execution_count": 38,
     "metadata": {},
     "output_type": "execute_result"
    }
   ],
   "source": [
    "loan_data[\"purpose\"].unique()"
   ]
  },
  {
   "cell_type": "code",
   "execution_count": 39,
   "metadata": {},
   "outputs": [
    {
     "name": "stdout",
     "output_type": "stream",
     "text": [
      "not.fully.paid\n",
      "0    8045\n",
      "1    1533\n",
      "Name: count, dtype: int64\n"
     ]
    }
   ],
   "source": [
    "print(loan_data['not.fully.paid'].value_counts())"
   ]
  },
  {
   "cell_type": "code",
   "execution_count": 40,
   "metadata": {},
   "outputs": [
    {
     "data": {
      "image/png": "[encoded data removed]",
      "text/plain": [
       "<Figure size 1600x1000 with 16 Axes>"
      ]
     },
     "metadata": {},
     "output_type": "display_data"
    }
   ],
   "source": [
    "plt.rc('font', size=14)\n",
    "plt.rc('axes', labelsize=14, titlesize=14)\n",
    "plt.rc('legend', fontsize=14)\n",
    "plt.rc('xtick', labelsize=8)\n",
    "plt.rc('ytick', labelsize=10)\n",
    "loan_data.hist(bins=40, figsize=(16, 10))\n",
    "plt.show()"
   ]
  },
  {
   "cell_type": "code",
   "execution_count": 41,
   "metadata": {},
   "outputs": [
    {
     "data": {
      "text/html": [
       "<style type=\"text/css\">\n",
       "#T_6e28c_row0_col0, #T_6e28c_row1_col1, #T_6e28c_row2_col2, #T_6e28c_row3_col3, #T_6e28c_row4_col4, #T_6e28c_row5_col5, #T_6e28c_row6_col6, #T_6e28c_row7_col7, #T_6e28c_row8_col8, #T_6e28c_row9_col9, #T_6e28c_row10_col10, #T_6e28c_row11_col11, #T_6e28c_row12_col12 {\n",
       "  background-color: #023858;\n",
       "  color: #f1f1f1;\n",
       "}\n",
       "#T_6e28c_row0_col1, #T_6e28c_row6_col4, #T_6e28c_row6_col10, #T_6e28c_row12_col0 {\n",
       "  background-color: #d2d2e7;\n",
       "  color: #000000;\n",
       "}\n",
       "#T_6e28c_row0_col2, #T_6e28c_row0_col3, #T_6e28c_row8_col6, #T_6e28c_row12_col6 {\n",
       "  background-color: #f2ecf5;\n",
       "  color: #000000;\n",
       "}\n",
       "#T_6e28c_row0_col4 {\n",
       "  background-color: #ede8f3;\n",
       "  color: #000000;\n",
       "}\n",
       "#T_6e28c_row0_col5 {\n",
       "  background-color: #3991c1;\n",
       "  color: #f1f1f1;\n",
       "}\n",
       "#T_6e28c_row0_col6, #T_6e28c_row9_col10 {\n",
       "  background-color: #dcdaeb;\n",
       "  color: #000000;\n",
       "}\n",
       "#T_6e28c_row0_col7, #T_6e28c_row0_col9, #T_6e28c_row0_col12, #T_6e28c_row1_col5, #T_6e28c_row1_col6, #T_6e28c_row4_col3, #T_6e28c_row5_col1, #T_6e28c_row5_col4, #T_6e28c_row5_col8, #T_6e28c_row5_col10, #T_6e28c_row5_col11, #T_6e28c_row9_col0, #T_6e28c_row11_col2 {\n",
       "  background-color: #fff7fb;\n",
       "  color: #000000;\n",
       "}\n",
       "#T_6e28c_row0_col8 {\n",
       "  background-color: #c5cce3;\n",
       "  color: #000000;\n",
       "}\n",
       "#T_6e28c_row0_col10, #T_6e28c_row5_col2 {\n",
       "  background-color: #eee8f3;\n",
       "  color: #000000;\n",
       "}\n",
       "#T_6e28c_row0_col11, #T_6e28c_row4_col2, #T_6e28c_row9_col3, #T_6e28c_row10_col3, #T_6e28c_row12_col2 {\n",
       "  background-color: #f3edf5;\n",
       "  color: #000000;\n",
       "}\n",
       "#T_6e28c_row1_col0, #T_6e28c_row4_col10, #T_6e28c_row5_col3 {\n",
       "  background-color: #e5e1ef;\n",
       "  color: #000000;\n",
       "}\n",
       "#T_6e28c_row1_col2, #T_6e28c_row10_col0 {\n",
       "  background-color: #c0c9e2;\n",
       "  color: #000000;\n",
       "}\n",
       "#T_6e28c_row1_col3, #T_6e28c_row2_col11, #T_6e28c_row7_col11, #T_6e28c_row8_col3, #T_6e28c_row8_col5 {\n",
       "  background-color: #f0eaf4;\n",
       "  color: #000000;\n",
       "}\n",
       "#T_6e28c_row1_col4, #T_6e28c_row3_col0 {\n",
       "  background-color: #a7bddb;\n",
       "  color: #000000;\n",
       "}\n",
       "#T_6e28c_row1_col7, #T_6e28c_row2_col4 {\n",
       "  background-color: #d3d4e7;\n",
       "  color: #000000;\n",
       "}\n",
       "#T_6e28c_row1_col8 {\n",
       "  background-color: #2a88bc;\n",
       "  color: #f1f1f1;\n",
       "}\n",
       "#T_6e28c_row1_col9, #T_6e28c_row3_col5, #T_6e28c_row7_col8 {\n",
       "  background-color: #7bacd1;\n",
       "  color: #f1f1f1;\n",
       "}\n",
       "#T_6e28c_row1_col10 {\n",
       "  background-color: #bdc8e1;\n",
       "  color: #000000;\n",
       "}\n",
       "#T_6e28c_row1_col11, #T_6e28c_row6_col2, #T_6e28c_row8_col12 {\n",
       "  background-color: #d9d8ea;\n",
       "  color: #000000;\n",
       "}\n",
       "#T_6e28c_row1_col12, #T_6e28c_row4_col5 {\n",
       "  background-color: #c8cde4;\n",
       "  color: #000000;\n",
       "}\n",
       "#T_6e28c_row2_col0, #T_6e28c_row3_col8 {\n",
       "  background-color: #a1bbda;\n",
       "  color: #000000;\n",
       "}\n",
       "#T_6e28c_row2_col1, #T_6e28c_row5_col0 {\n",
       "  background-color: #4e9ac6;\n",
       "  color: #f1f1f1;\n",
       "}\n",
       "#T_6e28c_row2_col3, #T_6e28c_row11_col1 {\n",
       "  background-color: #7eadd1;\n",
       "  color: #f1f1f1;\n",
       "}\n",
       "#T_6e28c_row2_col5, #T_6e28c_row3_col2, #T_6e28c_row8_col4 {\n",
       "  background-color: #81aed2;\n",
       "  color: #f1f1f1;\n",
       "}\n",
       "#T_6e28c_row2_col6 {\n",
       "  background-color: #c9cee4;\n",
       "  color: #000000;\n",
       "}\n",
       "#T_6e28c_row2_col7 {\n",
       "  background-color: #adc1dd;\n",
       "  color: #000000;\n",
       "}\n",
       "#T_6e28c_row2_col8, #T_6e28c_row7_col3, #T_6e28c_row12_col8 {\n",
       "  background-color: #9ab8d8;\n",
       "  color: #000000;\n",
       "}\n",
       "#T_6e28c_row2_col9, #T_6e28c_row9_col8 {\n",
       "  background-color: #b1c2de;\n",
       "  color: #000000;\n",
       "}\n",
       "#T_6e28c_row2_col10, #T_6e28c_row11_col6 {\n",
       "  background-color: #e1dfed;\n",
       "  color: #000000;\n",
       "}\n",
       "#T_6e28c_row2_col12, #T_6e28c_row9_col7, #T_6e28c_row10_col4, #T_6e28c_row11_col12 {\n",
       "  background-color: #e0deed;\n",
       "  color: #000000;\n",
       "}\n",
       "#T_6e28c_row3_col1 {\n",
       "  background-color: #88b1d4;\n",
       "  color: #000000;\n",
       "}\n",
       "#T_6e28c_row3_col4, #T_6e28c_row5_col7, #T_6e28c_row7_col10 {\n",
       "  background-color: #e7e3f0;\n",
       "  color: #000000;\n",
       "}\n",
       "#T_6e28c_row3_col6, #T_6e28c_row7_col5 {\n",
       "  background-color: #99b8d8;\n",
       "  color: #000000;\n",
       "}\n",
       "#T_6e28c_row3_col7, #T_6e28c_row7_col1 {\n",
       "  background-color: #80aed2;\n",
       "  color: #f1f1f1;\n",
       "}\n",
       "#T_6e28c_row3_col9, #T_6e28c_row4_col9, #T_6e28c_row6_col3 {\n",
       "  background-color: #a8bedc;\n",
       "  color: #000000;\n",
       "}\n",
       "#T_6e28c_row3_col10, #T_6e28c_row11_col4 {\n",
       "  background-color: #dbdaeb;\n",
       "  color: #000000;\n",
       "}\n",
       "#T_6e28c_row3_col11, #T_6e28c_row8_col10, #T_6e28c_row10_col12 {\n",
       "  background-color: #e8e4f0;\n",
       "  color: #000000;\n",
       "}\n",
       "#T_6e28c_row3_col12 {\n",
       "  background-color: #efe9f3;\n",
       "  color: #000000;\n",
       "}\n",
       "#T_6e28c_row4_col0, #T_6e28c_row10_col5 {\n",
       "  background-color: #c2cbe2;\n",
       "  color: #000000;\n",
       "}\n",
       "#T_6e28c_row4_col1 {\n",
       "  background-color: #5ea0ca;\n",
       "  color: #f1f1f1;\n",
       "}\n",
       "#T_6e28c_row4_col6 {\n",
       "  background-color: #e4e1ef;\n",
       "  color: #000000;\n",
       "}\n",
       "#T_6e28c_row4_col7 {\n",
       "  background-color: #b9c6e0;\n",
       "  color: #000000;\n",
       "}\n",
       "#T_6e28c_row4_col8 {\n",
       "  background-color: #529bc7;\n",
       "  color: #f1f1f1;\n",
       "}\n",
       "#T_6e28c_row4_col11, #T_6e28c_row10_col11 {\n",
       "  background-color: #eae6f1;\n",
       "  color: #000000;\n",
       "}\n",
       "#T_6e28c_row4_col12, #T_6e28c_row12_col11 {\n",
       "  background-color: #e2dfee;\n",
       "  color: #000000;\n",
       "}\n",
       "#T_6e28c_row5_col6, #T_6e28c_row6_col1, #T_6e28c_row7_col4 {\n",
       "  background-color: #b0c2de;\n",
       "  color: #000000;\n",
       "}\n",
       "#T_6e28c_row5_col9, #T_6e28c_row7_col0 {\n",
       "  background-color: #d5d5e8;\n",
       "  color: #000000;\n",
       "}\n",
       "#T_6e28c_row5_col12 {\n",
       "  background-color: #fef6fb;\n",
       "  color: #000000;\n",
       "}\n",
       "#T_6e28c_row6_col0 {\n",
       "  background-color: #97b7d7;\n",
       "  color: #000000;\n",
       "}\n",
       "#T_6e28c_row6_col5 {\n",
       "  background-color: #509ac6;\n",
       "  color: #f1f1f1;\n",
       "}\n",
       "#T_6e28c_row6_col7 {\n",
       "  background-color: #afc1dd;\n",
       "  color: #000000;\n",
       "}\n",
       "#T_6e28c_row6_col8 {\n",
       "  background-color: #b4c4df;\n",
       "  color: #000000;\n",
       "}\n",
       "#T_6e28c_row6_col9, #T_6e28c_row10_col8 {\n",
       "  background-color: #b8c6e0;\n",
       "  color: #000000;\n",
       "}\n",
       "#T_6e28c_row6_col11 {\n",
       "  background-color: #dedcec;\n",
       "  color: #000000;\n",
       "}\n",
       "#T_6e28c_row6_col12, #T_6e28c_row8_col2 {\n",
       "  background-color: #eee9f3;\n",
       "  color: #000000;\n",
       "}\n",
       "#T_6e28c_row7_col2 {\n",
       "  background-color: #cdd0e5;\n",
       "  color: #000000;\n",
       "}\n",
       "#T_6e28c_row7_col6, #T_6e28c_row11_col0 {\n",
       "  background-color: #bbc7e0;\n",
       "  color: #000000;\n",
       "}\n",
       "#T_6e28c_row7_col9 {\n",
       "  background-color: #a9bfdc;\n",
       "  color: #000000;\n",
       "}\n",
       "#T_6e28c_row7_col12, #T_6e28c_row10_col6 {\n",
       "  background-color: #e0dded;\n",
       "  color: #000000;\n",
       "}\n",
       "#T_6e28c_row8_col0 {\n",
       "  background-color: #c6cce3;\n",
       "  color: #000000;\n",
       "}\n",
       "#T_6e28c_row8_col1 {\n",
       "  background-color: #1c7fb8;\n",
       "  color: #f1f1f1;\n",
       "}\n",
       "#T_6e28c_row8_col7, #T_6e28c_row11_col5, #T_6e28c_row12_col5 {\n",
       "  background-color: #b5c4df;\n",
       "  color: #000000;\n",
       "}\n",
       "#T_6e28c_row8_col9 {\n",
       "  background-color: #b3c3de;\n",
       "  color: #000000;\n",
       "}\n",
       "#T_6e28c_row8_col11, #T_6e28c_row11_col10, #T_6e28c_row12_col10 {\n",
       "  background-color: #dfddec;\n",
       "  color: #000000;\n",
       "}\n",
       "#T_6e28c_row9_col1 {\n",
       "  background-color: #63a2cb;\n",
       "  color: #f1f1f1;\n",
       "}\n",
       "#T_6e28c_row9_col2, #T_6e28c_row12_col3 {\n",
       "  background-color: #fcf4fa;\n",
       "  color: #000000;\n",
       "}\n",
       "#T_6e28c_row9_col4 {\n",
       "  background-color: #d8d7e9;\n",
       "  color: #000000;\n",
       "}\n",
       "#T_6e28c_row9_col5 {\n",
       "  background-color: #bcc7e1;\n",
       "  color: #000000;\n",
       "}\n",
       "#T_6e28c_row9_col6 {\n",
       "  background-color: #f4eef6;\n",
       "  color: #000000;\n",
       "}\n",
       "#T_6e28c_row9_col11 {\n",
       "  background-color: #dddbec;\n",
       "  color: #000000;\n",
       "}\n",
       "#T_6e28c_row9_col12 {\n",
       "  background-color: #cccfe5;\n",
       "  color: #000000;\n",
       "}\n",
       "#T_6e28c_row10_col1, #T_6e28c_row12_col1 {\n",
       "  background-color: #6fa7ce;\n",
       "  color: #f1f1f1;\n",
       "}\n",
       "#T_6e28c_row10_col2 {\n",
       "  background-color: #fbf3f9;\n",
       "  color: #000000;\n",
       "}\n",
       "#T_6e28c_row10_col7, #T_6e28c_row11_col7 {\n",
       "  background-color: #ebe6f2;\n",
       "  color: #000000;\n",
       "}\n",
       "#T_6e28c_row10_col9 {\n",
       "  background-color: #abbfdc;\n",
       "  color: #000000;\n",
       "}\n",
       "#T_6e28c_row11_col3 {\n",
       "  background-color: #f5eef6;\n",
       "  color: #000000;\n",
       "}\n",
       "#T_6e28c_row11_col8 {\n",
       "  background-color: #9fbad9;\n",
       "  color: #000000;\n",
       "}\n",
       "#T_6e28c_row11_col9 {\n",
       "  background-color: #9ebad9;\n",
       "  color: #000000;\n",
       "}\n",
       "#T_6e28c_row12_col4 {\n",
       "  background-color: #d6d6e9;\n",
       "  color: #000000;\n",
       "}\n",
       "#T_6e28c_row12_col7 {\n",
       "  background-color: #dad9ea;\n",
       "  color: #000000;\n",
       "}\n",
       "#T_6e28c_row12_col9 {\n",
       "  background-color: #89b1d4;\n",
       "  color: #000000;\n",
       "}\n",
       "</style>\n",
       "<table id=\"T_6e28c\">\n",
       "  <thead>\n",
       "    <tr>\n",
       "      <th class=\"blank level0\" >&nbsp;</th>\n",
       "      <th id=\"T_6e28c_level0_col0\" class=\"col_heading level0 col0\" >credit.policy</th>\n",
       "      <th id=\"T_6e28c_level0_col1\" class=\"col_heading level0 col1\" >int.rate</th>\n",
       "      <th id=\"T_6e28c_level0_col2\" class=\"col_heading level0 col2\" >installment</th>\n",
       "      <th id=\"T_6e28c_level0_col3\" class=\"col_heading level0 col3\" >log.annual.inc</th>\n",
       "      <th id=\"T_6e28c_level0_col4\" class=\"col_heading level0 col4\" >dti</th>\n",
       "      <th id=\"T_6e28c_level0_col5\" class=\"col_heading level0 col5\" >fico</th>\n",
       "      <th id=\"T_6e28c_level0_col6\" class=\"col_heading level0 col6\" >days.with.cr.line</th>\n",
       "      <th id=\"T_6e28c_level0_col7\" class=\"col_heading level0 col7\" >revol.bal</th>\n",
       "      <th id=\"T_6e28c_level0_col8\" class=\"col_heading level0 col8\" >revol.util</th>\n",
       "      <th id=\"T_6e28c_level0_col9\" class=\"col_heading level0 col9\" >inq.last.6mths</th>\n",
       "      <th id=\"T_6e28c_level0_col10\" class=\"col_heading level0 col10\" >delinq.2yrs</th>\n",
       "      <th id=\"T_6e28c_level0_col11\" class=\"col_heading level0 col11\" >pub.rec</th>\n",
       "      <th id=\"T_6e28c_level0_col12\" class=\"col_heading level0 col12\" >not.fully.paid</th>\n",
       "    </tr>\n",
       "  </thead>\n",
       "  <tbody>\n",
       "    <tr>\n",
       "      <th id=\"T_6e28c_level0_row0\" class=\"row_heading level0 row0\" >credit.policy</th>\n",
       "      <td id=\"T_6e28c_row0_col0\" class=\"data row0 col0\" >1.000000</td>\n",
       "      <td id=\"T_6e28c_row0_col1\" class=\"data row0 col1\" >-0.294089</td>\n",
       "      <td id=\"T_6e28c_row0_col2\" class=\"data row0 col2\" >0.058770</td>\n",
       "      <td id=\"T_6e28c_row0_col3\" class=\"data row0 col3\" >0.034906</td>\n",
       "      <td id=\"T_6e28c_row0_col4\" class=\"data row0 col4\" >-0.090901</td>\n",
       "      <td id=\"T_6e28c_row0_col5\" class=\"data row0 col5\" >0.348319</td>\n",
       "      <td id=\"T_6e28c_row0_col6\" class=\"data row0 col6\" >0.099026</td>\n",
       "      <td id=\"T_6e28c_row0_col7\" class=\"data row0 col7\" >-0.187518</td>\n",
       "      <td id=\"T_6e28c_row0_col8\" class=\"data row0 col8\" >-0.104095</td>\n",
       "      <td id=\"T_6e28c_row0_col9\" class=\"data row0 col9\" >-0.535511</td>\n",
       "      <td id=\"T_6e28c_row0_col10\" class=\"data row0 col10\" >-0.076318</td>\n",
       "      <td id=\"T_6e28c_row0_col11\" class=\"data row0 col11\" >-0.054243</td>\n",
       "      <td id=\"T_6e28c_row0_col12\" class=\"data row0 col12\" >-0.158119</td>\n",
       "    </tr>\n",
       "    <tr>\n",
       "      <th id=\"T_6e28c_level0_row1\" class=\"row_heading level0 row1\" >int.rate</th>\n",
       "      <td id=\"T_6e28c_row1_col0\" class=\"data row1 col0\" >-0.294089</td>\n",
       "      <td id=\"T_6e28c_row1_col1\" class=\"data row1 col1\" >1.000000</td>\n",
       "      <td id=\"T_6e28c_row1_col2\" class=\"data row1 col2\" >0.276140</td>\n",
       "      <td id=\"T_6e28c_row1_col3\" class=\"data row1 col3\" >0.056383</td>\n",
       "      <td id=\"T_6e28c_row1_col4\" class=\"data row1 col4\" >0.220006</td>\n",
       "      <td id=\"T_6e28c_row1_col5\" class=\"data row1 col5\" >-0.714821</td>\n",
       "      <td id=\"T_6e28c_row1_col6\" class=\"data row1 col6\" >-0.124022</td>\n",
       "      <td id=\"T_6e28c_row1_col7\" class=\"data row1 col7\" >0.092527</td>\n",
       "      <td id=\"T_6e28c_row1_col8\" class=\"data row1 col8\" >0.464837</td>\n",
       "      <td id=\"T_6e28c_row1_col9\" class=\"data row1 col9\" >0.202780</td>\n",
       "      <td id=\"T_6e28c_row1_col10\" class=\"data row1 col10\" >0.156079</td>\n",
       "      <td id=\"T_6e28c_row1_col11\" class=\"data row1 col11\" >0.098162</td>\n",
       "      <td id=\"T_6e28c_row1_col12\" class=\"data row1 col12\" >0.159552</td>\n",
       "    </tr>\n",
       "    <tr>\n",
       "      <th id=\"T_6e28c_level0_row2\" class=\"row_heading level0 row2\" >installment</th>\n",
       "      <td id=\"T_6e28c_row2_col0\" class=\"data row2 col0\" >0.058770</td>\n",
       "      <td id=\"T_6e28c_row2_col1\" class=\"data row2 col1\" >0.276140</td>\n",
       "      <td id=\"T_6e28c_row2_col2\" class=\"data row2 col2\" >1.000000</td>\n",
       "      <td id=\"T_6e28c_row2_col3\" class=\"data row2 col3\" >0.448102</td>\n",
       "      <td id=\"T_6e28c_row2_col4\" class=\"data row2 col4\" >0.050202</td>\n",
       "      <td id=\"T_6e28c_row2_col5\" class=\"data row2 col5\" >0.086039</td>\n",
       "      <td id=\"T_6e28c_row2_col6\" class=\"data row2 col6\" >0.183297</td>\n",
       "      <td id=\"T_6e28c_row2_col7\" class=\"data row2 col7\" >0.233625</td>\n",
       "      <td id=\"T_6e28c_row2_col8\" class=\"data row2 col8\" >0.081356</td>\n",
       "      <td id=\"T_6e28c_row2_col9\" class=\"data row2 col9\" >-0.010419</td>\n",
       "      <td id=\"T_6e28c_row2_col10\" class=\"data row2 col10\" >-0.004368</td>\n",
       "      <td id=\"T_6e28c_row2_col11\" class=\"data row2 col11\" >-0.032760</td>\n",
       "      <td id=\"T_6e28c_row2_col12\" class=\"data row2 col12\" >0.049955</td>\n",
       "    </tr>\n",
       "    <tr>\n",
       "      <th id=\"T_6e28c_level0_row3\" class=\"row_heading level0 row3\" >log.annual.inc</th>\n",
       "      <td id=\"T_6e28c_row3_col0\" class=\"data row3 col0\" >0.034906</td>\n",
       "      <td id=\"T_6e28c_row3_col1\" class=\"data row3 col1\" >0.056383</td>\n",
       "      <td id=\"T_6e28c_row3_col2\" class=\"data row3 col2\" >0.448102</td>\n",
       "      <td id=\"T_6e28c_row3_col3\" class=\"data row3 col3\" >1.000000</td>\n",
       "      <td id=\"T_6e28c_row3_col4\" class=\"data row3 col4\" >-0.054065</td>\n",
       "      <td id=\"T_6e28c_row3_col5\" class=\"data row3 col5\" >0.114576</td>\n",
       "      <td id=\"T_6e28c_row3_col6\" class=\"data row3 col6\" >0.336896</td>\n",
       "      <td id=\"T_6e28c_row3_col7\" class=\"data row3 col7\" >0.372140</td>\n",
       "      <td id=\"T_6e28c_row3_col8\" class=\"data row3 col8\" >0.054881</td>\n",
       "      <td id=\"T_6e28c_row3_col9\" class=\"data row3 col9\" >0.029171</td>\n",
       "      <td id=\"T_6e28c_row3_col10\" class=\"data row3 col10\" >0.029203</td>\n",
       "      <td id=\"T_6e28c_row3_col11\" class=\"data row3 col11\" >0.016506</td>\n",
       "      <td id=\"T_6e28c_row3_col12\" class=\"data row3 col12\" >-0.033439</td>\n",
       "    </tr>\n",
       "    <tr>\n",
       "      <th id=\"T_6e28c_level0_row4\" class=\"row_heading level0 row4\" >dti</th>\n",
       "      <td id=\"T_6e28c_row4_col0\" class=\"data row4 col0\" >-0.090901</td>\n",
       "      <td id=\"T_6e28c_row4_col1\" class=\"data row4 col1\" >0.220006</td>\n",
       "      <td id=\"T_6e28c_row4_col2\" class=\"data row4 col2\" >0.050202</td>\n",
       "      <td id=\"T_6e28c_row4_col3\" class=\"data row4 col3\" >-0.054065</td>\n",
       "      <td id=\"T_6e28c_row4_col4\" class=\"data row4 col4\" >1.000000</td>\n",
       "      <td id=\"T_6e28c_row4_col5\" class=\"data row4 col5\" >-0.241191</td>\n",
       "      <td id=\"T_6e28c_row4_col6\" class=\"data row4 col6\" >0.060101</td>\n",
       "      <td id=\"T_6e28c_row4_col7\" class=\"data row4 col7\" >0.188748</td>\n",
       "      <td id=\"T_6e28c_row4_col8\" class=\"data row4 col8\" >0.337109</td>\n",
       "      <td id=\"T_6e28c_row4_col9\" class=\"data row4 col9\" >0.029189</td>\n",
       "      <td id=\"T_6e28c_row4_col10\" class=\"data row4 col10\" >-0.021792</td>\n",
       "      <td id=\"T_6e28c_row4_col11\" class=\"data row4 col11\" >0.006209</td>\n",
       "      <td id=\"T_6e28c_row4_col12\" class=\"data row4 col12\" >0.037362</td>\n",
       "    </tr>\n",
       "    <tr>\n",
       "      <th id=\"T_6e28c_level0_row5\" class=\"row_heading level0 row5\" >fico</th>\n",
       "      <td id=\"T_6e28c_row5_col0\" class=\"data row5 col0\" >0.348319</td>\n",
       "      <td id=\"T_6e28c_row5_col1\" class=\"data row5 col1\" >-0.714821</td>\n",
       "      <td id=\"T_6e28c_row5_col2\" class=\"data row5 col2\" >0.086039</td>\n",
       "      <td id=\"T_6e28c_row5_col3\" class=\"data row5 col3\" >0.114576</td>\n",
       "      <td id=\"T_6e28c_row5_col4\" class=\"data row5 col4\" >-0.241191</td>\n",
       "      <td id=\"T_6e28c_row5_col5\" class=\"data row5 col5\" >1.000000</td>\n",
       "      <td id=\"T_6e28c_row5_col6\" class=\"data row5 col6\" >0.263880</td>\n",
       "      <td id=\"T_6e28c_row5_col7\" class=\"data row5 col7\" >-0.015553</td>\n",
       "      <td id=\"T_6e28c_row5_col8\" class=\"data row5 col8\" >-0.541289</td>\n",
       "      <td id=\"T_6e28c_row5_col9\" class=\"data row5 col9\" >-0.185293</td>\n",
       "      <td id=\"T_6e28c_row5_col10\" class=\"data row5 col10\" >-0.216340</td>\n",
       "      <td id=\"T_6e28c_row5_col11\" class=\"data row5 col11\" >-0.147592</td>\n",
       "      <td id=\"T_6e28c_row5_col12\" class=\"data row5 col12\" >-0.149666</td>\n",
       "    </tr>\n",
       "    <tr>\n",
       "      <th id=\"T_6e28c_level0_row6\" class=\"row_heading level0 row6\" >days.with.cr.line</th>\n",
       "      <td id=\"T_6e28c_row6_col0\" class=\"data row6 col0\" >0.099026</td>\n",
       "      <td id=\"T_6e28c_row6_col1\" class=\"data row6 col1\" >-0.124022</td>\n",
       "      <td id=\"T_6e28c_row6_col2\" class=\"data row6 col2\" >0.183297</td>\n",
       "      <td id=\"T_6e28c_row6_col3\" class=\"data row6 col3\" >0.336896</td>\n",
       "      <td id=\"T_6e28c_row6_col4\" class=\"data row6 col4\" >0.060101</td>\n",
       "      <td id=\"T_6e28c_row6_col5\" class=\"data row6 col5\" >0.263880</td>\n",
       "      <td id=\"T_6e28c_row6_col6\" class=\"data row6 col6\" >1.000000</td>\n",
       "      <td id=\"T_6e28c_row6_col7\" class=\"data row6 col7\" >0.229344</td>\n",
       "      <td id=\"T_6e28c_row6_col8\" class=\"data row6 col8\" >-0.024239</td>\n",
       "      <td id=\"T_6e28c_row6_col9\" class=\"data row6 col9\" >-0.041736</td>\n",
       "      <td id=\"T_6e28c_row6_col10\" class=\"data row6 col10\" >0.081374</td>\n",
       "      <td id=\"T_6e28c_row6_col11\" class=\"data row6 col11\" >0.071826</td>\n",
       "      <td id=\"T_6e28c_row6_col12\" class=\"data row6 col12\" >-0.029237</td>\n",
       "    </tr>\n",
       "    <tr>\n",
       "      <th id=\"T_6e28c_level0_row7\" class=\"row_heading level0 row7\" >revol.bal</th>\n",
       "      <td id=\"T_6e28c_row7_col0\" class=\"data row7 col0\" >-0.187518</td>\n",
       "      <td id=\"T_6e28c_row7_col1\" class=\"data row7 col1\" >0.092527</td>\n",
       "      <td id=\"T_6e28c_row7_col2\" class=\"data row7 col2\" >0.233625</td>\n",
       "      <td id=\"T_6e28c_row7_col3\" class=\"data row7 col3\" >0.372140</td>\n",
       "      <td id=\"T_6e28c_row7_col4\" class=\"data row7 col4\" >0.188748</td>\n",
       "      <td id=\"T_6e28c_row7_col5\" class=\"data row7 col5\" >-0.015553</td>\n",
       "      <td id=\"T_6e28c_row7_col6\" class=\"data row7 col6\" >0.229344</td>\n",
       "      <td id=\"T_6e28c_row7_col7\" class=\"data row7 col7\" >1.000000</td>\n",
       "      <td id=\"T_6e28c_row7_col8\" class=\"data row7 col8\" >0.203779</td>\n",
       "      <td id=\"T_6e28c_row7_col9\" class=\"data row7 col9\" >0.022394</td>\n",
       "      <td id=\"T_6e28c_row7_col10\" class=\"data row7 col10\" >-0.033243</td>\n",
       "      <td id=\"T_6e28c_row7_col11\" class=\"data row7 col11\" >-0.031010</td>\n",
       "      <td id=\"T_6e28c_row7_col12\" class=\"data row7 col12\" >0.053699</td>\n",
       "    </tr>\n",
       "    <tr>\n",
       "      <th id=\"T_6e28c_level0_row8\" class=\"row_heading level0 row8\" >revol.util</th>\n",
       "      <td id=\"T_6e28c_row8_col0\" class=\"data row8 col0\" >-0.104095</td>\n",
       "      <td id=\"T_6e28c_row8_col1\" class=\"data row8 col1\" >0.464837</td>\n",
       "      <td id=\"T_6e28c_row8_col2\" class=\"data row8 col2\" >0.081356</td>\n",
       "      <td id=\"T_6e28c_row8_col3\" class=\"data row8 col3\" >0.054881</td>\n",
       "      <td id=\"T_6e28c_row8_col4\" class=\"data row8 col4\" >0.337109</td>\n",
       "      <td id=\"T_6e28c_row8_col5\" class=\"data row8 col5\" >-0.541289</td>\n",
       "      <td id=\"T_6e28c_row8_col6\" class=\"data row8 col6\" >-0.024239</td>\n",
       "      <td id=\"T_6e28c_row8_col7\" class=\"data row8 col7\" >0.203779</td>\n",
       "      <td id=\"T_6e28c_row8_col8\" class=\"data row8 col8\" >1.000000</td>\n",
       "      <td id=\"T_6e28c_row8_col9\" class=\"data row8 col9\" >-0.013880</td>\n",
       "      <td id=\"T_6e28c_row8_col10\" class=\"data row8 col10\" >-0.042740</td>\n",
       "      <td id=\"T_6e28c_row8_col11\" class=\"data row8 col11\" >0.066717</td>\n",
       "      <td id=\"T_6e28c_row8_col12\" class=\"data row8 col12\" >0.082088</td>\n",
       "    </tr>\n",
       "    <tr>\n",
       "      <th id=\"T_6e28c_level0_row9\" class=\"row_heading level0 row9\" >inq.last.6mths</th>\n",
       "      <td id=\"T_6e28c_row9_col0\" class=\"data row9 col0\" >-0.535511</td>\n",
       "      <td id=\"T_6e28c_row9_col1\" class=\"data row9 col1\" >0.202780</td>\n",
       "      <td id=\"T_6e28c_row9_col2\" class=\"data row9 col2\" >-0.010419</td>\n",
       "      <td id=\"T_6e28c_row9_col3\" class=\"data row9 col3\" >0.029171</td>\n",
       "      <td id=\"T_6e28c_row9_col4\" class=\"data row9 col4\" >0.029189</td>\n",
       "      <td id=\"T_6e28c_row9_col5\" class=\"data row9 col5\" >-0.185293</td>\n",
       "      <td id=\"T_6e28c_row9_col6\" class=\"data row9 col6\" >-0.041736</td>\n",
       "      <td id=\"T_6e28c_row9_col7\" class=\"data row9 col7\" >0.022394</td>\n",
       "      <td id=\"T_6e28c_row9_col8\" class=\"data row9 col8\" >-0.013880</td>\n",
       "      <td id=\"T_6e28c_row9_col9\" class=\"data row9 col9\" >1.000000</td>\n",
       "      <td id=\"T_6e28c_row9_col10\" class=\"data row9 col10\" >0.021245</td>\n",
       "      <td id=\"T_6e28c_row9_col11\" class=\"data row9 col11\" >0.072673</td>\n",
       "      <td id=\"T_6e28c_row9_col12\" class=\"data row9 col12\" >0.149452</td>\n",
       "    </tr>\n",
       "    <tr>\n",
       "      <th id=\"T_6e28c_level0_row10\" class=\"row_heading level0 row10\" >delinq.2yrs</th>\n",
       "      <td id=\"T_6e28c_row10_col0\" class=\"data row10 col0\" >-0.076318</td>\n",
       "      <td id=\"T_6e28c_row10_col1\" class=\"data row10 col1\" >0.156079</td>\n",
       "      <td id=\"T_6e28c_row10_col2\" class=\"data row10 col2\" >-0.004368</td>\n",
       "      <td id=\"T_6e28c_row10_col3\" class=\"data row10 col3\" >0.029203</td>\n",
       "      <td id=\"T_6e28c_row10_col4\" class=\"data row10 col4\" >-0.021792</td>\n",
       "      <td id=\"T_6e28c_row10_col5\" class=\"data row10 col5\" >-0.216340</td>\n",
       "      <td id=\"T_6e28c_row10_col6\" class=\"data row10 col6\" >0.081374</td>\n",
       "      <td id=\"T_6e28c_row10_col7\" class=\"data row10 col7\" >-0.033243</td>\n",
       "      <td id=\"T_6e28c_row10_col8\" class=\"data row10 col8\" >-0.042740</td>\n",
       "      <td id=\"T_6e28c_row10_col9\" class=\"data row10 col9\" >0.021245</td>\n",
       "      <td id=\"T_6e28c_row10_col10\" class=\"data row10 col10\" >1.000000</td>\n",
       "      <td id=\"T_6e28c_row10_col11\" class=\"data row10 col11\" >0.009184</td>\n",
       "      <td id=\"T_6e28c_row10_col12\" class=\"data row10 col12\" >0.008881</td>\n",
       "    </tr>\n",
       "    <tr>\n",
       "      <th id=\"T_6e28c_level0_row11\" class=\"row_heading level0 row11\" >pub.rec</th>\n",
       "      <td id=\"T_6e28c_row11_col0\" class=\"data row11 col0\" >-0.054243</td>\n",
       "      <td id=\"T_6e28c_row11_col1\" class=\"data row11 col1\" >0.098162</td>\n",
       "      <td id=\"T_6e28c_row11_col2\" class=\"data row11 col2\" >-0.032760</td>\n",
       "      <td id=\"T_6e28c_row11_col3\" class=\"data row11 col3\" >0.016506</td>\n",
       "      <td id=\"T_6e28c_row11_col4\" class=\"data row11 col4\" >0.006209</td>\n",
       "      <td id=\"T_6e28c_row11_col5\" class=\"data row11 col5\" >-0.147592</td>\n",
       "      <td id=\"T_6e28c_row11_col6\" class=\"data row11 col6\" >0.071826</td>\n",
       "      <td id=\"T_6e28c_row11_col7\" class=\"data row11 col7\" >-0.031010</td>\n",
       "      <td id=\"T_6e28c_row11_col8\" class=\"data row11 col8\" >0.066717</td>\n",
       "      <td id=\"T_6e28c_row11_col9\" class=\"data row11 col9\" >0.072673</td>\n",
       "      <td id=\"T_6e28c_row11_col10\" class=\"data row11 col10\" >0.009184</td>\n",
       "      <td id=\"T_6e28c_row11_col11\" class=\"data row11 col11\" >1.000000</td>\n",
       "      <td id=\"T_6e28c_row11_col12\" class=\"data row11 col12\" >0.048634</td>\n",
       "    </tr>\n",
       "    <tr>\n",
       "      <th id=\"T_6e28c_level0_row12\" class=\"row_heading level0 row12\" >not.fully.paid</th>\n",
       "      <td id=\"T_6e28c_row12_col0\" class=\"data row12 col0\" >-0.158119</td>\n",
       "      <td id=\"T_6e28c_row12_col1\" class=\"data row12 col1\" >0.159552</td>\n",
       "      <td id=\"T_6e28c_row12_col2\" class=\"data row12 col2\" >0.049955</td>\n",
       "      <td id=\"T_6e28c_row12_col3\" class=\"data row12 col3\" >-0.033439</td>\n",
       "      <td id=\"T_6e28c_row12_col4\" class=\"data row12 col4\" >0.037362</td>\n",
       "      <td id=\"T_6e28c_row12_col5\" class=\"data row12 col5\" >-0.149666</td>\n",
       "      <td id=\"T_6e28c_row12_col6\" class=\"data row12 col6\" >-0.029237</td>\n",
       "      <td id=\"T_6e28c_row12_col7\" class=\"data row12 col7\" >0.053699</td>\n",
       "      <td id=\"T_6e28c_row12_col8\" class=\"data row12 col8\" >0.082088</td>\n",
       "      <td id=\"T_6e28c_row12_col9\" class=\"data row12 col9\" >0.149452</td>\n",
       "      <td id=\"T_6e28c_row12_col10\" class=\"data row12 col10\" >0.008881</td>\n",
       "      <td id=\"T_6e28c_row12_col11\" class=\"data row12 col11\" >0.048634</td>\n",
       "      <td id=\"T_6e28c_row12_col12\" class=\"data row12 col12\" >1.000000</td>\n",
       "    </tr>\n",
       "  </tbody>\n",
       "</table>\n"
      ],
      "text/plain": [
       "<pandas.io.formats.style.Styler at 0x7ff57b920f10>"
      ]
     },
     "execution_count": 41,
     "metadata": {},
     "output_type": "execute_result"
    }
   ],
   "source": [
    "matriz_correlacion = loan_data.corr(numeric_only=True)\n",
    "matriz_correlacion.style.background_gradient()"
   ]
  },
  {
   "cell_type": "code",
   "execution_count": 42,
   "metadata": {},
   "outputs": [
    {
     "name": "stdout",
     "output_type": "stream",
     "text": [
      "<class 'pandas.core.frame.DataFrame'>\n",
      "RangeIndex: 9578 entries, 0 to 9577\n",
      "Data columns (total 7 columns):\n",
      " #   Column          Non-Null Count  Dtype  \n",
      "---  ------          --------------  -----  \n",
      " 0   credit.policy   9578 non-null   int64  \n",
      " 1   purpose         9578 non-null   object \n",
      " 2   int.rate        9578 non-null   float64\n",
      " 3   fico            9578 non-null   int64  \n",
      " 4   revol.util      9578 non-null   float64\n",
      " 5   inq.last.6mths  9578 non-null   int64  \n",
      " 6   not.fully.paid  9578 non-null   int64  \n",
      "dtypes: float64(2), int64(4), object(1)\n",
      "memory usage: 523.9+ KB\n"
     ]
    }
   ],
   "source": [
    "# Hay gráficos vacios y que me dan poca información, ya que me interesa not fully paid, voy a eliminar los que menos correlación tienen con esta columna\n",
    "loan_data_min = loan_data.drop(columns=[\"installment\",\"pub.rec\",\"dti\",\"delinq.2yrs\",\"days.with.cr.line\",\"log.annual.inc\",\"revol.bal\"])\n",
    "loan_data_min.info()"
   ]
  },
  {
   "cell_type": "code",
   "execution_count": 43,
   "metadata": {},
   "outputs": [
    {
     "data": {
      "text/html": [
       "<style type=\"text/css\">\n",
       "#T_b158d_row0_col0, #T_b158d_row1_col1, #T_b158d_row2_col2, #T_b158d_row3_col3, #T_b158d_row4_col4, #T_b158d_row5_col5 {\n",
       "  background-color: #023858;\n",
       "  color: #f1f1f1;\n",
       "}\n",
       "#T_b158d_row0_col1, #T_b158d_row5_col0 {\n",
       "  background-color: #d2d2e7;\n",
       "  color: #000000;\n",
       "}\n",
       "#T_b158d_row0_col2 {\n",
       "  background-color: #3991c1;\n",
       "  color: #f1f1f1;\n",
       "}\n",
       "#T_b158d_row0_col3 {\n",
       "  background-color: #c5cce3;\n",
       "  color: #000000;\n",
       "}\n",
       "#T_b158d_row0_col4, #T_b158d_row0_col5, #T_b158d_row1_col2, #T_b158d_row2_col1, #T_b158d_row2_col3, #T_b158d_row4_col0 {\n",
       "  background-color: #fff7fb;\n",
       "  color: #000000;\n",
       "}\n",
       "#T_b158d_row1_col0 {\n",
       "  background-color: #e5e1ef;\n",
       "  color: #000000;\n",
       "}\n",
       "#T_b158d_row1_col3 {\n",
       "  background-color: #2a88bc;\n",
       "  color: #f1f1f1;\n",
       "}\n",
       "#T_b158d_row1_col4 {\n",
       "  background-color: #7bacd1;\n",
       "  color: #f1f1f1;\n",
       "}\n",
       "#T_b158d_row1_col5 {\n",
       "  background-color: #c8cde4;\n",
       "  color: #000000;\n",
       "}\n",
       "#T_b158d_row2_col0 {\n",
       "  background-color: #4e9ac6;\n",
       "  color: #f1f1f1;\n",
       "}\n",
       "#T_b158d_row2_col4 {\n",
       "  background-color: #d5d5e8;\n",
       "  color: #000000;\n",
       "}\n",
       "#T_b158d_row2_col5 {\n",
       "  background-color: #fef6fb;\n",
       "  color: #000000;\n",
       "}\n",
       "#T_b158d_row3_col0 {\n",
       "  background-color: #c6cce3;\n",
       "  color: #000000;\n",
       "}\n",
       "#T_b158d_row3_col1 {\n",
       "  background-color: #1c7fb8;\n",
       "  color: #f1f1f1;\n",
       "}\n",
       "#T_b158d_row3_col2 {\n",
       "  background-color: #f0eaf4;\n",
       "  color: #000000;\n",
       "}\n",
       "#T_b158d_row3_col4 {\n",
       "  background-color: #b3c3de;\n",
       "  color: #000000;\n",
       "}\n",
       "#T_b158d_row3_col5 {\n",
       "  background-color: #d9d8ea;\n",
       "  color: #000000;\n",
       "}\n",
       "#T_b158d_row4_col1 {\n",
       "  background-color: #63a2cb;\n",
       "  color: #f1f1f1;\n",
       "}\n",
       "#T_b158d_row4_col2 {\n",
       "  background-color: #bcc7e1;\n",
       "  color: #000000;\n",
       "}\n",
       "#T_b158d_row4_col3 {\n",
       "  background-color: #b1c2de;\n",
       "  color: #000000;\n",
       "}\n",
       "#T_b158d_row4_col5 {\n",
       "  background-color: #cccfe5;\n",
       "  color: #000000;\n",
       "}\n",
       "#T_b158d_row5_col1 {\n",
       "  background-color: #6fa7ce;\n",
       "  color: #f1f1f1;\n",
       "}\n",
       "#T_b158d_row5_col2 {\n",
       "  background-color: #b5c4df;\n",
       "  color: #000000;\n",
       "}\n",
       "#T_b158d_row5_col3 {\n",
       "  background-color: #9ab8d8;\n",
       "  color: #000000;\n",
       "}\n",
       "#T_b158d_row5_col4 {\n",
       "  background-color: #89b1d4;\n",
       "  color: #000000;\n",
       "}\n",
       "</style>\n",
       "<table id=\"T_b158d\">\n",
       "  <thead>\n",
       "    <tr>\n",
       "      <th class=\"blank level0\" >&nbsp;</th>\n",
       "      <th id=\"T_b158d_level0_col0\" class=\"col_heading level0 col0\" >credit.policy</th>\n",
       "      <th id=\"T_b158d_level0_col1\" class=\"col_heading level0 col1\" >int.rate</th>\n",
       "      <th id=\"T_b158d_level0_col2\" class=\"col_heading level0 col2\" >fico</th>\n",
       "      <th id=\"T_b158d_level0_col3\" class=\"col_heading level0 col3\" >revol.util</th>\n",
       "      <th id=\"T_b158d_level0_col4\" class=\"col_heading level0 col4\" >inq.last.6mths</th>\n",
       "      <th id=\"T_b158d_level0_col5\" class=\"col_heading level0 col5\" >not.fully.paid</th>\n",
       "    </tr>\n",
       "  </thead>\n",
       "  <tbody>\n",
       "    <tr>\n",
       "      <th id=\"T_b158d_level0_row0\" class=\"row_heading level0 row0\" >credit.policy</th>\n",
       "      <td id=\"T_b158d_row0_col0\" class=\"data row0 col0\" >1.000000</td>\n",
       "      <td id=\"T_b158d_row0_col1\" class=\"data row0 col1\" >-0.294089</td>\n",
       "      <td id=\"T_b158d_row0_col2\" class=\"data row0 col2\" >0.348319</td>\n",
       "      <td id=\"T_b158d_row0_col3\" class=\"data row0 col3\" >-0.104095</td>\n",
       "      <td id=\"T_b158d_row0_col4\" class=\"data row0 col4\" >-0.535511</td>\n",
       "      <td id=\"T_b158d_row0_col5\" class=\"data row0 col5\" >-0.158119</td>\n",
       "    </tr>\n",
       "    <tr>\n",
       "      <th id=\"T_b158d_level0_row1\" class=\"row_heading level0 row1\" >int.rate</th>\n",
       "      <td id=\"T_b158d_row1_col0\" class=\"data row1 col0\" >-0.294089</td>\n",
       "      <td id=\"T_b158d_row1_col1\" class=\"data row1 col1\" >1.000000</td>\n",
       "      <td id=\"T_b158d_row1_col2\" class=\"data row1 col2\" >-0.714821</td>\n",
       "      <td id=\"T_b158d_row1_col3\" class=\"data row1 col3\" >0.464837</td>\n",
       "      <td id=\"T_b158d_row1_col4\" class=\"data row1 col4\" >0.202780</td>\n",
       "      <td id=\"T_b158d_row1_col5\" class=\"data row1 col5\" >0.159552</td>\n",
       "    </tr>\n",
       "    <tr>\n",
       "      <th id=\"T_b158d_level0_row2\" class=\"row_heading level0 row2\" >fico</th>\n",
       "      <td id=\"T_b158d_row2_col0\" class=\"data row2 col0\" >0.348319</td>\n",
       "      <td id=\"T_b158d_row2_col1\" class=\"data row2 col1\" >-0.714821</td>\n",
       "      <td id=\"T_b158d_row2_col2\" class=\"data row2 col2\" >1.000000</td>\n",
       "      <td id=\"T_b158d_row2_col3\" class=\"data row2 col3\" >-0.541289</td>\n",
       "      <td id=\"T_b158d_row2_col4\" class=\"data row2 col4\" >-0.185293</td>\n",
       "      <td id=\"T_b158d_row2_col5\" class=\"data row2 col5\" >-0.149666</td>\n",
       "    </tr>\n",
       "    <tr>\n",
       "      <th id=\"T_b158d_level0_row3\" class=\"row_heading level0 row3\" >revol.util</th>\n",
       "      <td id=\"T_b158d_row3_col0\" class=\"data row3 col0\" >-0.104095</td>\n",
       "      <td id=\"T_b158d_row3_col1\" class=\"data row3 col1\" >0.464837</td>\n",
       "      <td id=\"T_b158d_row3_col2\" class=\"data row3 col2\" >-0.541289</td>\n",
       "      <td id=\"T_b158d_row3_col3\" class=\"data row3 col3\" >1.000000</td>\n",
       "      <td id=\"T_b158d_row3_col4\" class=\"data row3 col4\" >-0.013880</td>\n",
       "      <td id=\"T_b158d_row3_col5\" class=\"data row3 col5\" >0.082088</td>\n",
       "    </tr>\n",
       "    <tr>\n",
       "      <th id=\"T_b158d_level0_row4\" class=\"row_heading level0 row4\" >inq.last.6mths</th>\n",
       "      <td id=\"T_b158d_row4_col0\" class=\"data row4 col0\" >-0.535511</td>\n",
       "      <td id=\"T_b158d_row4_col1\" class=\"data row4 col1\" >0.202780</td>\n",
       "      <td id=\"T_b158d_row4_col2\" class=\"data row4 col2\" >-0.185293</td>\n",
       "      <td id=\"T_b158d_row4_col3\" class=\"data row4 col3\" >-0.013880</td>\n",
       "      <td id=\"T_b158d_row4_col4\" class=\"data row4 col4\" >1.000000</td>\n",
       "      <td id=\"T_b158d_row4_col5\" class=\"data row4 col5\" >0.149452</td>\n",
       "    </tr>\n",
       "    <tr>\n",
       "      <th id=\"T_b158d_level0_row5\" class=\"row_heading level0 row5\" >not.fully.paid</th>\n",
       "      <td id=\"T_b158d_row5_col0\" class=\"data row5 col0\" >-0.158119</td>\n",
       "      <td id=\"T_b158d_row5_col1\" class=\"data row5 col1\" >0.159552</td>\n",
       "      <td id=\"T_b158d_row5_col2\" class=\"data row5 col2\" >-0.149666</td>\n",
       "      <td id=\"T_b158d_row5_col3\" class=\"data row5 col3\" >0.082088</td>\n",
       "      <td id=\"T_b158d_row5_col4\" class=\"data row5 col4\" >0.149452</td>\n",
       "      <td id=\"T_b158d_row5_col5\" class=\"data row5 col5\" >1.000000</td>\n",
       "    </tr>\n",
       "  </tbody>\n",
       "</table>\n"
      ],
      "text/plain": [
       "<pandas.io.formats.style.Styler at 0x7ff57bca82d0>"
      ]
     },
     "execution_count": 43,
     "metadata": {},
     "output_type": "execute_result"
    }
   ],
   "source": [
    "matriz_correlacion = loan_data_min.corr(numeric_only=True)\n",
    "matriz_correlacion.style.background_gradient()"
   ]
  },
  {
   "cell_type": "code",
   "execution_count": 44,
   "metadata": {},
   "outputs": [
    {
     "data": {
      "image/png": "[encoded data removed]",
      "text/plain": [
       "<Figure size 1600x1000 with 6 Axes>"
      ]
     },
     "metadata": {},
     "output_type": "display_data"
    }
   ],
   "source": [
    "plt.rc('font', size=14)\n",
    "plt.rc('axes', labelsize=14, titlesize=14)\n",
    "plt.rc('legend', fontsize=14)\n",
    "plt.rc('xtick', labelsize=8)\n",
    "plt.rc('ytick', labelsize=10)\n",
    "loan_data_min.hist(bins=40, figsize=(16, 10))\n",
    "plt.show()"
   ]
  },
  {
   "cell_type": "markdown",
   "metadata": {},
   "source": [
    "#### DIVIDIR LOS DATOS"
   ]
  },
  {
   "cell_type": "code",
   "execution_count": 45,
   "metadata": {},
   "outputs": [],
   "source": [
    "# VLa variable a por la que voy es not fully paid\n",
    "X = loan_data_min.drop('not.fully.paid', axis=1)\n",
    "\n",
    "y = loan_data_min['not.fully.paid']\n",
    "\n",
    "X_train, X_test, y_train, y_test = train_test_split(X, y, test_size=0.2, random_state=3, stratify=y)\n"
   ]
  },
  {
   "cell_type": "markdown",
   "metadata": {},
   "source": [
    "#### PREPARAR LOS DATOS"
   ]
  },
  {
   "cell_type": "code",
   "execution_count": null,
   "metadata": {},
   "outputs": [
    {
     "ename": "KeyError",
     "evalue": "'[9, 15, 16, 34, 37, 41, 46, 49, 51, 53, 54, 55, 56, 58, 63, 67, 70, 71, 72, 73, 74, 83, 89, 94, 99, 100, 106, 110, 114, 116, 124, 125, 128, 134, 140, 148, 150, 151, 152, 155, 158, 167, 169, 186, 189, 196, 200, 204, 206, 216, 227, 234, 259, 263, 265, 268, 272, 279, 282, 286, 291, 303, 314, 315, 318, 331, 332, 335, 336, 354, 358, 360, 364, 370, 371, 372, 374, 378, 380, 390, 398, 410, 418, 420, 426, 430, 437, 442, 443, 452, 456, 465, 466, 472, 478, 489, 501, 504, 511, 515, 517, 518, 524, 531, 533, 537, 539, 542, 543, 553, 569, 573, 577, 578, 581, 582, 587, 595, 597, 603, 616, 618, 625, 634, 635, 637, 638, 643, 656, 660, 662, 663, 668, 671, 675, 692, 702, 704, 705, 710, 718, 724, 748, 750, 766, 768, 773, 774, 775, 777, 781, 782, 784, 786, 787, 789, 791, 795, 799, 804, 808, 809, 811, 814, 819, 820, 822, 829, 834, 845, 847, 848, 851, 857, 865, 866, 867, 868, 873, 874, 879, 880, 884, 892, 896, 906, 909, 922, 923, 934, 943, 946, 949, 953, 955, 959, 969, 971, 978, 979, 984, 987, 995, 996, 1001, 1004, 1005, 1015, 1021, 1033, 1035, 1040, 1041, 1050, 1056, 1060, 1066, 1067, 1069, 1074, 1091, 1101, 1102, 1106, 1110, 1119, 1120, 1127, 1131, 1136, 1137, 1140, 1141, 1145, 1159, 1160, 1161, 1165, 1180, 1182, 1183, 1184, 1185, 1193, 1195, 1201, 1214, 1219, 1220, 1221, 1225, 1226, 1228, 1234, 1238, 1244, 1250, 1264, 1268, 1282, 1290, 1297, 1317, 1322, 1330, 1335, 1336, 1341, 1359, 1363, 1369, 1371, 1372, 1376, 1383, 1386, 1387, 1388, 1401, 1411, 1415, 1418, 1420, 1424, 1432, 1436, 1438, 1443, 1452, 1457, 1458, 1463, 1465, 1467, 1472, 1476, 1480, 1486, 1487, 1489, 1491, 1493, 1509, 1510, 1511, 1513, 1524, 1535, 1553, 1554, 1560, 1570, 1578, 1580, 1586, 1588, 1590, 1594, 1595, 1599, 1602, 1611, 1617, 1620, 1627, 1631, 1634, 1648, 1659, 1662, 1673, 1675, 1677, 1690, 1692, 1701, 1705, 1709, 1713, 1720, 1721, 1722, 1744, 1748, 1754, 1762, 1768, 1769, 1770, 1772, 1786, 1808, 1809, 1815, 1818, 1819, 1825, 1828, 1846, 1849, 1852, 1859, 1860, 1864, 1875, 1876, 1882, 1884, 1889, 1894, 1899, 1900, 1903, 1906, 1913, 1915, 1921, 1937, 1941, 1952, 1953, 1964, 1966, 1974, 1979, 1980, 1990, 1996, 1999, 2004, 2006, 2009, 2012, 2015, 2018, 2021, 2024, 2028, 2031, 2033, 2037, 2038, 2063, 2070, 2078, 2079, 2080, 2082, 2087, 2090, 2095, 2106, 2112, 2113, 2118, 2134, 2141, 2143, 2146, 2154, 2158, 2165, 2168, 2169, 2172, 2181, 2184, 2191, 2193, 2195, 2196, 2209, 2217, 2220, 2227, 2229, 2236, 2237, 2241, 2248, 2249, 2251, 2275, 2278, 2281, 2282, 2293, 2299, 2300, 2303, 2310, 2313, 2323, 2324, 2335, 2337, 2348, 2349, 2352, 2362, 2371, 2377, 2385, 2386, 2397, 2400, 2413, 2415, 2422, 2423, 2426, 2427, 2436, 2437, 2438, 2445, 2451, 2452, 2454, 2456, 2461, 2464, 2477, 2481, 2483, 2490, 2496, 2498, 2500, 2506, 2513, 2519, 2523, 2525, 2533, 2535, 2537, 2540, 2543, 2545, 2546, 2547, 2550, 2558, 2559, 2564, 2565, 2568, 2584, 2585, 2588, 2594, 2596, 2607, 2608, 2611, 2618, 2619, 2629, 2637, 2639, 2644, 2646, 2649, 2652, 2657, 2663, 2669, 2681, 2689, 2695, 2702, 2704, 2705, 2706, 2709, 2711, 2731, 2732, 2734, 2737, 2739, 2757, 2760, 2764, 2768, 2774, 2778, 2788, 2790, 2793, 2810, 2811, 2813, 2817, 2818, 2824, 2827, 2838, 2840, 2848, 2859, 2860, 2866, 2873, 2877, 2878, 2882, 2885, 2887, 2894, 2900, 2914, 2917, 2925, 2928, 2945, 2952, 2962, 2967, 2968, 2971, 2974, 2982, 2985, 2986, 2992, 2999, 3008, 3010, 3012, 3014, 3019, 3020, 3024, 3037, 3039, 3040, 3044, 3055, 3057, 3068, 3072, 3081, 3087, 3093, 3099, 3103, 3107, 3108, 3111, 3122, 3129, 3144, 3155, 3156, 3164, 3165, 3166, 3172, 3173, 3175, 3176, 3177, 3180, 3192, 3196, 3199, 3203, 3206, 3210, 3211, 3239, 3241, 3242, 3244, 3247, 3252, 3254, 3256, 3262, 3269, 3280, 3286, 3311, 3334, 3336, 3337, 3338, 3339, 3342, 3344, 3363, 3369, 3376, 3387, 3412, 3416, 3418, 3428, 3444, 3449, 3451, 3452, 3457, 3465, 3467, 3468, 3473, 3476, 3477, 3487, 3488, 3493, 3504, 3510, 3521, 3542, 3543, 3552, 3557, 3561, 3563, 3565, 3580, 3584, 3591, 3603, 3607, 3610, 3612, 3621, 3624, 3631, 3638, 3639, 3642, 3645, 3649, 3651, 3654, 3659, 3663, 3668, 3670, 3684, 3696, 3705, 3714, 3734, 3745, 3752, 3756, 3757, 3760, 3762, 3767, 3770, 3776, 3786, 3793, 3804, 3806, 3816, 3820, 3824, 3838, 3845, 3848, 3856, 3862, 3865, 3870, 3871, 3874, 3876, 3880, 3886, 3889, 3895, 3898, 3905, 3906, 3908, 3915, 3927, 3935, 3938, 3939, 3946, 3950, 3953, 3957, 3958, 3964, 3975, 3977, 3978, 3980, 3982, 3987, 3988, 3991, 3999, 4001, 4007, 4015, 4029, 4041, 4042, 4044, 4048, 4052, 4062, 4066, 4068, 4079, 4083, 4091, 4092, 4094, 4111, 4114, 4126, 4132, 4135, 4139, 4146, 4154, 4158, 4162, 4168, 4170, 4175, 4182, 4186, 4193, 4202, 4203, 4206, 4208, 4214, 4216, 4220, 4227, 4238, 4249, 4250, 4251, 4256, 4262, 4263, 4264, 4272, 4283, 4285, 4288, 4291, 4294, 4303, 4306, 4322, 4325, 4329, 4333, 4334, 4337, 4341, 4343, 4344, 4346, 4352, 4355, 4357, 4359, 4364, 4366, 4367, 4373, 4379, 4380, 4384, 4388, 4391, 4399, 4404, 4409, 4411, 4414, 4429, 4435, 4439, 4441, 4444, 4445, 4446, 4449, 4450, 4451, 4452, 4467, 4468, 4473, 4477, 4479, 4481, 4483, 4490, 4491, 4500, 4509, 4511, 4515, 4517, 4521, 4524, 4527, 4536, 4551, 4555, 4556, 4564, 4571, 4579, 4580, 4585, 4589, 4593, 4595, 4605, 4611, 4613, 4616, 4618, 4622, 4628, 4633, 4636, 4638, 4641, 4645, 4649, 4652, 4655, 4658, 4662, 4664, 4666, 4669, 4670, 4677, 4682, 4684, 4685, 4692, 4698, 4699, 4706, 4715, 4734, 4743, 4744, 4747, 4748, 4750, 4751, 4753, 4755, 4756, 4762, 4768, 4772, 4775, 4785, 4786, 4787, 4789, 4791, 4794, 4810, 4819, 4825, 4841, 4848, 4849, 4851, 4853, 4878, 4879, 4888, 4891, 4896, 4899, 4902, 4905, 4909, 4915, 4919, 4922, 4941, 4944, 4945, 4956, 4963, 4966, 4975, 4982, 4991, 4992, 4995, 4996, 5001, 5013, 5020, 5032, 5034, 5035, 5036, 5039, 5041, 5043, 5046, 5048, 5054, 5065, 5066, 5069, 5071, 5084, 5091, 5105, 5124, 5127, 5129, 5131, 5132, 5134, 5138, 5139, 5148, 5156, 5157, 5158, 5171, 5172, 5173, 5174, 5176, 5177, 5184, 5189, 5195, 5208, 5209, 5225, 5232, 5236, 5241, 5247, 5249, 5252, 5253, 5254, 5255, 5257, 5262, 5275, 5278, 5279, 5281, 5287, 5288, 5291, 5293, 5297, 5300, 5308, 5312, 5322, 5326, 5327, 5333, 5335, 5338, 5340, 5359, 5360, 5366, 5369, 5373, 5374, 5378, 5380, 5393, 5394, 5398, 5407, 5412, 5414, 5416, 5425, 5427, 5431, 5439, 5445, 5451, 5452, 5463, 5464, 5468, 5469, 5471, 5474, 5482, 5493, 5495, 5502, 5513, 5520, 5532, 5538, 5540, 5541, 5556, 5572, 5574, 5575, 5581, 5584, 5586, 5598, 5600, 5609, 5615, 5627, 5638, 5639, 5641, 5642, 5643, 5644, 5646, 5647, 5650, 5655, 5660, 5661, 5662, 5666, 5669, 5678, 5680, 5683, 5689, 5700, 5703, 5708, 5710, 5713, 5714, 5715, 5718, 5729, 5735, 5737, 5742, 5744, 5749, 5758, 5761, 5764, 5773, 5774, 5785, 5788, 5790, 5809, 5812, 5816, 5818, 5821, 5831, 5833, 5836, 5837, 5838, 5849, 5860, 5867, 5872, 5873, 5876, 5883, 5886, 5893, 5896, 5907, 5912, 5914, 5918, 5923, 5928, 5933, 5936, 5938, 5939, 5946, 5947, 5955, 5965, 5967, 5972, 5973, 5975, 5980, 5983, 5988, 5989, 5991, 5997, 6014, 6015, 6018, 6026, 6041, 6049, 6055, 6056, 6058, 6061, 6064, 6079, 6085, 6087, 6094, 6101, 6102, 6104, 6109, 6114, 6115, 6116, 6143, 6144, 6145, 6159, 6160, 6164, 6170, 6174, 6188, 6190, 6197, 6198, 6199, 6205, 6206, 6207, 6211, 6215, 6223, 6226, 6228, 6233, 6237, 6238, 6241, 6244, 6247, 6248, 6255, 6256, 6259, 6260, 6265, 6273, 6282, 6290, 6301, 6305, 6307, 6310, 6311, 6324, 6335, 6336, 6339, 6342, 6348, 6373, 6375, 6379, 6384, 6391, 6402, 6404, 6405, 6418, 6420, 6421, 6425, 6428, 6429, 6434, 6439, 6442, 6445, 6463, 6471, 6475, 6481, 6484, 6486, 6493, 6495, 6499, 6509, 6511, 6520, 6521, 6526, 6528, 6530, 6534, 6536, 6539, 6545, 6548, 6555, 6562, 6564, 6567, 6571, 6573, 6580, 6588, 6592, 6593, 6600, 6604, 6608, 6627, 6631, 6639, 6642, 6650, 6659, 6662, 6663, 6664, 6666, 6670, 6687, 6699, 6702, 6705, 6710, 6727, 6731, 6739, 6748, 6750, 6753, 6754, 6757, 6764, 6780, 6782, 6787, 6789, 6796, 6799, 6800, 6806, 6820, 6821, 6823, 6828, 6843, 6855, 6859, 6861, 6867, 6868, 6869, 6871, 6874, 6878, 6879, 6882, 6887, 6889, 6892, 6894, 6897, 6898, 6912, 6913, 6922, 6923, 6924, 6937, 6944, 6946, 6950, 6953, 6956, 6957, 6961, 6966, 6975, 6987, 6989, 6990, 6993, 7001, 7005, 7006, 7008, 7012, 7014, 7015, 7021, 7022, 7024, 7035, 7036, 7044, 7051, 7053, 7054, 7055, 7057, 7059, 7062, 7072, 7073, 7081, 7089, 7090, 7093, 7095, 7098, 7100, 7106, 7107, 7108, 7111, 7120, 7128, 7129, 7130, 7134, 7136, 7139, 7140, 7152, 7156, 7169, 7180, 7181, 7186, 7190, 7213, 7244, 7251, 7257, 7268, 7269, 7273, 7277, 7282, 7288, 7290, 7291, 7294, 7306, 7307, 7312, 7318, 7321, 7326, 7327, 7344, 7346, 7355, 7363, 7364, 7368, 7369, 7377, 7381, 7383, 7384, 7386, 7393, 7399, 7400, 7408, 7410, 7412, 7416, 7417, 7423, 7425, 7426, 7431, 7432, 7440, 7443, 7445, 7459, 7468, 7472, 7475, 7478, 7480, 7484] not in index'",
     "output_type": "error",
     "traceback": [
      "\u001b[0;31m---------------------------------------------------------------------------\u001b[0m",
      "\u001b[0;31mKeyError\u001b[0m                                  Traceback (most recent call last)",
      "Cell \u001b[0;32mIn[48], line 69\u001b[0m\n\u001b[1;32m     66\u001b[0m X_test \u001b[38;5;241m=\u001b[39m pd\u001b[38;5;241m.\u001b[39mDataFrame(X_test_processed, columns\u001b[38;5;241m=\u001b[39mpreprocessing\u001b[38;5;241m.\u001b[39mget_feature_names_out(), index\u001b[38;5;241m=\u001b[39mX_test_indices)\n\u001b[1;32m     68\u001b[0m \u001b[38;5;66;03m# Ajustar los índices de las etiquetas usando los índices originales\u001b[39;00m\n\u001b[0;32m---> 69\u001b[0m y_train \u001b[38;5;241m=\u001b[39m \u001b[43my_train\u001b[49m\u001b[38;5;241;43m.\u001b[39;49m\u001b[43mloc\u001b[49m\u001b[43m[\u001b[49m\u001b[43mX_train\u001b[49m\u001b[38;5;241;43m.\u001b[39;49m\u001b[43mindex\u001b[49m\u001b[43m]\u001b[49m\n\u001b[1;32m     70\u001b[0m y_test \u001b[38;5;241m=\u001b[39m y_test\u001b[38;5;241m.\u001b[39mloc[X_test\u001b[38;5;241m.\u001b[39mindex]\n\u001b[1;32m     72\u001b[0m \u001b[38;5;66;03m# Mostrar los primeros datos preprocesados\u001b[39;00m\n",
      "File \u001b[0;32m~/Escritorio/SAPA/SAPA/.conda/lib/python3.11/site-packages/pandas/core/indexing.py:1191\u001b[0m, in \u001b[0;36m_LocationIndexer.__getitem__\u001b[0;34m(self, key)\u001b[0m\n\u001b[1;32m   1189\u001b[0m maybe_callable \u001b[38;5;241m=\u001b[39m com\u001b[38;5;241m.\u001b[39mapply_if_callable(key, \u001b[38;5;28mself\u001b[39m\u001b[38;5;241m.\u001b[39mobj)\n\u001b[1;32m   1190\u001b[0m maybe_callable \u001b[38;5;241m=\u001b[39m \u001b[38;5;28mself\u001b[39m\u001b[38;5;241m.\u001b[39m_check_deprecated_callable_usage(key, maybe_callable)\n\u001b[0;32m-> 1191\u001b[0m \u001b[38;5;28;01mreturn\u001b[39;00m \u001b[38;5;28;43mself\u001b[39;49m\u001b[38;5;241;43m.\u001b[39;49m\u001b[43m_getitem_axis\u001b[49m\u001b[43m(\u001b[49m\u001b[43mmaybe_callable\u001b[49m\u001b[43m,\u001b[49m\u001b[43m \u001b[49m\u001b[43maxis\u001b[49m\u001b[38;5;241;43m=\u001b[39;49m\u001b[43maxis\u001b[49m\u001b[43m)\u001b[49m\n",
      "File \u001b[0;32m~/Escritorio/SAPA/SAPA/.conda/lib/python3.11/site-packages/pandas/core/indexing.py:1420\u001b[0m, in \u001b[0;36m_LocIndexer._getitem_axis\u001b[0;34m(self, key, axis)\u001b[0m\n\u001b[1;32m   1417\u001b[0m     \u001b[38;5;28;01mif\u001b[39;00m \u001b[38;5;28mhasattr\u001b[39m(key, \u001b[38;5;124m\"\u001b[39m\u001b[38;5;124mndim\u001b[39m\u001b[38;5;124m\"\u001b[39m) \u001b[38;5;129;01mand\u001b[39;00m key\u001b[38;5;241m.\u001b[39mndim \u001b[38;5;241m>\u001b[39m \u001b[38;5;241m1\u001b[39m:\n\u001b[1;32m   1418\u001b[0m         \u001b[38;5;28;01mraise\u001b[39;00m \u001b[38;5;167;01mValueError\u001b[39;00m(\u001b[38;5;124m\"\u001b[39m\u001b[38;5;124mCannot index with multidimensional key\u001b[39m\u001b[38;5;124m\"\u001b[39m)\n\u001b[0;32m-> 1420\u001b[0m     \u001b[38;5;28;01mreturn\u001b[39;00m \u001b[38;5;28;43mself\u001b[39;49m\u001b[38;5;241;43m.\u001b[39;49m\u001b[43m_getitem_iterable\u001b[49m\u001b[43m(\u001b[49m\u001b[43mkey\u001b[49m\u001b[43m,\u001b[49m\u001b[43m \u001b[49m\u001b[43maxis\u001b[49m\u001b[38;5;241;43m=\u001b[39;49m\u001b[43maxis\u001b[49m\u001b[43m)\u001b[49m\n\u001b[1;32m   1422\u001b[0m \u001b[38;5;66;03m# nested tuple slicing\u001b[39;00m\n\u001b[1;32m   1423\u001b[0m \u001b[38;5;28;01mif\u001b[39;00m is_nested_tuple(key, labels):\n",
      "File \u001b[0;32m~/Escritorio/SAPA/SAPA/.conda/lib/python3.11/site-packages/pandas/core/indexing.py:1360\u001b[0m, in \u001b[0;36m_LocIndexer._getitem_iterable\u001b[0;34m(self, key, axis)\u001b[0m\n\u001b[1;32m   1357\u001b[0m \u001b[38;5;28mself\u001b[39m\u001b[38;5;241m.\u001b[39m_validate_key(key, axis)\n\u001b[1;32m   1359\u001b[0m \u001b[38;5;66;03m# A collection of keys\u001b[39;00m\n\u001b[0;32m-> 1360\u001b[0m keyarr, indexer \u001b[38;5;241m=\u001b[39m \u001b[38;5;28;43mself\u001b[39;49m\u001b[38;5;241;43m.\u001b[39;49m\u001b[43m_get_listlike_indexer\u001b[49m\u001b[43m(\u001b[49m\u001b[43mkey\u001b[49m\u001b[43m,\u001b[49m\u001b[43m \u001b[49m\u001b[43maxis\u001b[49m\u001b[43m)\u001b[49m\n\u001b[1;32m   1361\u001b[0m \u001b[38;5;28;01mreturn\u001b[39;00m \u001b[38;5;28mself\u001b[39m\u001b[38;5;241m.\u001b[39mobj\u001b[38;5;241m.\u001b[39m_reindex_with_indexers(\n\u001b[1;32m   1362\u001b[0m     {axis: [keyarr, indexer]}, copy\u001b[38;5;241m=\u001b[39m\u001b[38;5;28;01mTrue\u001b[39;00m, allow_dups\u001b[38;5;241m=\u001b[39m\u001b[38;5;28;01mTrue\u001b[39;00m\n\u001b[1;32m   1363\u001b[0m )\n",
      "File \u001b[0;32m~/Escritorio/SAPA/SAPA/.conda/lib/python3.11/site-packages/pandas/core/indexing.py:1558\u001b[0m, in \u001b[0;36m_LocIndexer._get_listlike_indexer\u001b[0;34m(self, key, axis)\u001b[0m\n\u001b[1;32m   1555\u001b[0m ax \u001b[38;5;241m=\u001b[39m \u001b[38;5;28mself\u001b[39m\u001b[38;5;241m.\u001b[39mobj\u001b[38;5;241m.\u001b[39m_get_axis(axis)\n\u001b[1;32m   1556\u001b[0m axis_name \u001b[38;5;241m=\u001b[39m \u001b[38;5;28mself\u001b[39m\u001b[38;5;241m.\u001b[39mobj\u001b[38;5;241m.\u001b[39m_get_axis_name(axis)\n\u001b[0;32m-> 1558\u001b[0m keyarr, indexer \u001b[38;5;241m=\u001b[39m \u001b[43max\u001b[49m\u001b[38;5;241;43m.\u001b[39;49m\u001b[43m_get_indexer_strict\u001b[49m\u001b[43m(\u001b[49m\u001b[43mkey\u001b[49m\u001b[43m,\u001b[49m\u001b[43m \u001b[49m\u001b[43maxis_name\u001b[49m\u001b[43m)\u001b[49m\n\u001b[1;32m   1560\u001b[0m \u001b[38;5;28;01mreturn\u001b[39;00m keyarr, indexer\n",
      "File \u001b[0;32m~/Escritorio/SAPA/SAPA/.conda/lib/python3.11/site-packages/pandas/core/indexes/base.py:6200\u001b[0m, in \u001b[0;36mIndex._get_indexer_strict\u001b[0;34m(self, key, axis_name)\u001b[0m\n\u001b[1;32m   6197\u001b[0m \u001b[38;5;28;01melse\u001b[39;00m:\n\u001b[1;32m   6198\u001b[0m     keyarr, indexer, new_indexer \u001b[38;5;241m=\u001b[39m \u001b[38;5;28mself\u001b[39m\u001b[38;5;241m.\u001b[39m_reindex_non_unique(keyarr)\n\u001b[0;32m-> 6200\u001b[0m \u001b[38;5;28;43mself\u001b[39;49m\u001b[38;5;241;43m.\u001b[39;49m\u001b[43m_raise_if_missing\u001b[49m\u001b[43m(\u001b[49m\u001b[43mkeyarr\u001b[49m\u001b[43m,\u001b[49m\u001b[43m \u001b[49m\u001b[43mindexer\u001b[49m\u001b[43m,\u001b[49m\u001b[43m \u001b[49m\u001b[43maxis_name\u001b[49m\u001b[43m)\u001b[49m\n\u001b[1;32m   6202\u001b[0m keyarr \u001b[38;5;241m=\u001b[39m \u001b[38;5;28mself\u001b[39m\u001b[38;5;241m.\u001b[39mtake(indexer)\n\u001b[1;32m   6203\u001b[0m \u001b[38;5;28;01mif\u001b[39;00m \u001b[38;5;28misinstance\u001b[39m(key, Index):\n\u001b[1;32m   6204\u001b[0m     \u001b[38;5;66;03m# GH 42790 - Preserve name from an Index\u001b[39;00m\n",
      "File \u001b[0;32m~/Escritorio/SAPA/SAPA/.conda/lib/python3.11/site-packages/pandas/core/indexes/base.py:6252\u001b[0m, in \u001b[0;36mIndex._raise_if_missing\u001b[0;34m(self, key, indexer, axis_name)\u001b[0m\n\u001b[1;32m   6249\u001b[0m     \u001b[38;5;28;01mraise\u001b[39;00m \u001b[38;5;167;01mKeyError\u001b[39;00m(\u001b[38;5;124mf\u001b[39m\u001b[38;5;124m\"\u001b[39m\u001b[38;5;124mNone of [\u001b[39m\u001b[38;5;132;01m{\u001b[39;00mkey\u001b[38;5;132;01m}\u001b[39;00m\u001b[38;5;124m] are in the [\u001b[39m\u001b[38;5;132;01m{\u001b[39;00maxis_name\u001b[38;5;132;01m}\u001b[39;00m\u001b[38;5;124m]\u001b[39m\u001b[38;5;124m\"\u001b[39m)\n\u001b[1;32m   6251\u001b[0m not_found \u001b[38;5;241m=\u001b[39m \u001b[38;5;28mlist\u001b[39m(ensure_index(key)[missing_mask\u001b[38;5;241m.\u001b[39mnonzero()[\u001b[38;5;241m0\u001b[39m]]\u001b[38;5;241m.\u001b[39munique())\n\u001b[0;32m-> 6252\u001b[0m \u001b[38;5;28;01mraise\u001b[39;00m \u001b[38;5;167;01mKeyError\u001b[39;00m(\u001b[38;5;124mf\u001b[39m\u001b[38;5;124m\"\u001b[39m\u001b[38;5;132;01m{\u001b[39;00mnot_found\u001b[38;5;132;01m}\u001b[39;00m\u001b[38;5;124m not in index\u001b[39m\u001b[38;5;124m\"\u001b[39m)\n",
      "\u001b[0;31mKeyError\u001b[0m: '[9, 15, 16, 34, 37, 41, 46, 49, 51, 53, 54, 55, 56, 58, 63, 67, 70, 71, 72, 73, 74, 83, 89, 94, 99, 100, 106, 110, 114, 116, 124, 125, 128, 134, 140, 148, 150, 151, 152, 155, 158, 167, 169, 186, 189, 196, 200, 204, 206, 216, 227, 234, 259, 263, 265, 268, 272, 279, 282, 286, 291, 303, 314, 315, 318, 331, 332, 335, 336, 354, 358, 360, 364, 370, 371, 372, 374, 378, 380, 390, 398, 410, 418, 420, 426, 430, 437, 442, 443, 452, 456, 465, 466, 472, 478, 489, 501, 504, 511, 515, 517, 518, 524, 531, 533, 537, 539, 542, 543, 553, 569, 573, 577, 578, 581, 582, 587, 595, 597, 603, 616, 618, 625, 634, 635, 637, 638, 643, 656, 660, 662, 663, 668, 671, 675, 692, 702, 704, 705, 710, 718, 724, 748, 750, 766, 768, 773, 774, 775, 777, 781, 782, 784, 786, 787, 789, 791, 795, 799, 804, 808, 809, 811, 814, 819, 820, 822, 829, 834, 845, 847, 848, 851, 857, 865, 866, 867, 868, 873, 874, 879, 880, 884, 892, 896, 906, 909, 922, 923, 934, 943, 946, 949, 953, 955, 959, 969, 971, 978, 979, 984, 987, 995, 996, 1001, 1004, 1005, 1015, 1021, 1033, 1035, 1040, 1041, 1050, 1056, 1060, 1066, 1067, 1069, 1074, 1091, 1101, 1102, 1106, 1110, 1119, 1120, 1127, 1131, 1136, 1137, 1140, 1141, 1145, 1159, 1160, 1161, 1165, 1180, 1182, 1183, 1184, 1185, 1193, 1195, 1201, 1214, 1219, 1220, 1221, 1225, 1226, 1228, 1234, 1238, 1244, 1250, 1264, 1268, 1282, 1290, 1297, 1317, 1322, 1330, 1335, 1336, 1341, 1359, 1363, 1369, 1371, 1372, 1376, 1383, 1386, 1387, 1388, 1401, 1411, 1415, 1418, 1420, 1424, 1432, 1436, 1438, 1443, 1452, 1457, 1458, 1463, 1465, 1467, 1472, 1476, 1480, 1486, 1487, 1489, 1491, 1493, 1509, 1510, 1511, 1513, 1524, 1535, 1553, 1554, 1560, 1570, 1578, 1580, 1586, 1588, 1590, 1594, 1595, 1599, 1602, 1611, 1617, 1620, 1627, 1631, 1634, 1648, 1659, 1662, 1673, 1675, 1677, 1690, 1692, 1701, 1705, 1709, 1713, 1720, 1721, 1722, 1744, 1748, 1754, 1762, 1768, 1769, 1770, 1772, 1786, 1808, 1809, 1815, 1818, 1819, 1825, 1828, 1846, 1849, 1852, 1859, 1860, 1864, 1875, 1876, 1882, 1884, 1889, 1894, 1899, 1900, 1903, 1906, 1913, 1915, 1921, 1937, 1941, 1952, 1953, 1964, 1966, 1974, 1979, 1980, 1990, 1996, 1999, 2004, 2006, 2009, 2012, 2015, 2018, 2021, 2024, 2028, 2031, 2033, 2037, 2038, 2063, 2070, 2078, 2079, 2080, 2082, 2087, 2090, 2095, 2106, 2112, 2113, 2118, 2134, 2141, 2143, 2146, 2154, 2158, 2165, 2168, 2169, 2172, 2181, 2184, 2191, 2193, 2195, 2196, 2209, 2217, 2220, 2227, 2229, 2236, 2237, 2241, 2248, 2249, 2251, 2275, 2278, 2281, 2282, 2293, 2299, 2300, 2303, 2310, 2313, 2323, 2324, 2335, 2337, 2348, 2349, 2352, 2362, 2371, 2377, 2385, 2386, 2397, 2400, 2413, 2415, 2422, 2423, 2426, 2427, 2436, 2437, 2438, 2445, 2451, 2452, 2454, 2456, 2461, 2464, 2477, 2481, 2483, 2490, 2496, 2498, 2500, 2506, 2513, 2519, 2523, 2525, 2533, 2535, 2537, 2540, 2543, 2545, 2546, 2547, 2550, 2558, 2559, 2564, 2565, 2568, 2584, 2585, 2588, 2594, 2596, 2607, 2608, 2611, 2618, 2619, 2629, 2637, 2639, 2644, 2646, 2649, 2652, 2657, 2663, 2669, 2681, 2689, 2695, 2702, 2704, 2705, 2706, 2709, 2711, 2731, 2732, 2734, 2737, 2739, 2757, 2760, 2764, 2768, 2774, 2778, 2788, 2790, 2793, 2810, 2811, 2813, 2817, 2818, 2824, 2827, 2838, 2840, 2848, 2859, 2860, 2866, 2873, 2877, 2878, 2882, 2885, 2887, 2894, 2900, 2914, 2917, 2925, 2928, 2945, 2952, 2962, 2967, 2968, 2971, 2974, 2982, 2985, 2986, 2992, 2999, 3008, 3010, 3012, 3014, 3019, 3020, 3024, 3037, 3039, 3040, 3044, 3055, 3057, 3068, 3072, 3081, 3087, 3093, 3099, 3103, 3107, 3108, 3111, 3122, 3129, 3144, 3155, 3156, 3164, 3165, 3166, 3172, 3173, 3175, 3176, 3177, 3180, 3192, 3196, 3199, 3203, 3206, 3210, 3211, 3239, 3241, 3242, 3244, 3247, 3252, 3254, 3256, 3262, 3269, 3280, 3286, 3311, 3334, 3336, 3337, 3338, 3339, 3342, 3344, 3363, 3369, 3376, 3387, 3412, 3416, 3418, 3428, 3444, 3449, 3451, 3452, 3457, 3465, 3467, 3468, 3473, 3476, 3477, 3487, 3488, 3493, 3504, 3510, 3521, 3542, 3543, 3552, 3557, 3561, 3563, 3565, 3580, 3584, 3591, 3603, 3607, 3610, 3612, 3621, 3624, 3631, 3638, 3639, 3642, 3645, 3649, 3651, 3654, 3659, 3663, 3668, 3670, 3684, 3696, 3705, 3714, 3734, 3745, 3752, 3756, 3757, 3760, 3762, 3767, 3770, 3776, 3786, 3793, 3804, 3806, 3816, 3820, 3824, 3838, 3845, 3848, 3856, 3862, 3865, 3870, 3871, 3874, 3876, 3880, 3886, 3889, 3895, 3898, 3905, 3906, 3908, 3915, 3927, 3935, 3938, 3939, 3946, 3950, 3953, 3957, 3958, 3964, 3975, 3977, 3978, 3980, 3982, 3987, 3988, 3991, 3999, 4001, 4007, 4015, 4029, 4041, 4042, 4044, 4048, 4052, 4062, 4066, 4068, 4079, 4083, 4091, 4092, 4094, 4111, 4114, 4126, 4132, 4135, 4139, 4146, 4154, 4158, 4162, 4168, 4170, 4175, 4182, 4186, 4193, 4202, 4203, 4206, 4208, 4214, 4216, 4220, 4227, 4238, 4249, 4250, 4251, 4256, 4262, 4263, 4264, 4272, 4283, 4285, 4288, 4291, 4294, 4303, 4306, 4322, 4325, 4329, 4333, 4334, 4337, 4341, 4343, 4344, 4346, 4352, 4355, 4357, 4359, 4364, 4366, 4367, 4373, 4379, 4380, 4384, 4388, 4391, 4399, 4404, 4409, 4411, 4414, 4429, 4435, 4439, 4441, 4444, 4445, 4446, 4449, 4450, 4451, 4452, 4467, 4468, 4473, 4477, 4479, 4481, 4483, 4490, 4491, 4500, 4509, 4511, 4515, 4517, 4521, 4524, 4527, 4536, 4551, 4555, 4556, 4564, 4571, 4579, 4580, 4585, 4589, 4593, 4595, 4605, 4611, 4613, 4616, 4618, 4622, 4628, 4633, 4636, 4638, 4641, 4645, 4649, 4652, 4655, 4658, 4662, 4664, 4666, 4669, 4670, 4677, 4682, 4684, 4685, 4692, 4698, 4699, 4706, 4715, 4734, 4743, 4744, 4747, 4748, 4750, 4751, 4753, 4755, 4756, 4762, 4768, 4772, 4775, 4785, 4786, 4787, 4789, 4791, 4794, 4810, 4819, 4825, 4841, 4848, 4849, 4851, 4853, 4878, 4879, 4888, 4891, 4896, 4899, 4902, 4905, 4909, 4915, 4919, 4922, 4941, 4944, 4945, 4956, 4963, 4966, 4975, 4982, 4991, 4992, 4995, 4996, 5001, 5013, 5020, 5032, 5034, 5035, 5036, 5039, 5041, 5043, 5046, 5048, 5054, 5065, 5066, 5069, 5071, 5084, 5091, 5105, 5124, 5127, 5129, 5131, 5132, 5134, 5138, 5139, 5148, 5156, 5157, 5158, 5171, 5172, 5173, 5174, 5176, 5177, 5184, 5189, 5195, 5208, 5209, 5225, 5232, 5236, 5241, 5247, 5249, 5252, 5253, 5254, 5255, 5257, 5262, 5275, 5278, 5279, 5281, 5287, 5288, 5291, 5293, 5297, 5300, 5308, 5312, 5322, 5326, 5327, 5333, 5335, 5338, 5340, 5359, 5360, 5366, 5369, 5373, 5374, 5378, 5380, 5393, 5394, 5398, 5407, 5412, 5414, 5416, 5425, 5427, 5431, 5439, 5445, 5451, 5452, 5463, 5464, 5468, 5469, 5471, 5474, 5482, 5493, 5495, 5502, 5513, 5520, 5532, 5538, 5540, 5541, 5556, 5572, 5574, 5575, 5581, 5584, 5586, 5598, 5600, 5609, 5615, 5627, 5638, 5639, 5641, 5642, 5643, 5644, 5646, 5647, 5650, 5655, 5660, 5661, 5662, 5666, 5669, 5678, 5680, 5683, 5689, 5700, 5703, 5708, 5710, 5713, 5714, 5715, 5718, 5729, 5735, 5737, 5742, 5744, 5749, 5758, 5761, 5764, 5773, 5774, 5785, 5788, 5790, 5809, 5812, 5816, 5818, 5821, 5831, 5833, 5836, 5837, 5838, 5849, 5860, 5867, 5872, 5873, 5876, 5883, 5886, 5893, 5896, 5907, 5912, 5914, 5918, 5923, 5928, 5933, 5936, 5938, 5939, 5946, 5947, 5955, 5965, 5967, 5972, 5973, 5975, 5980, 5983, 5988, 5989, 5991, 5997, 6014, 6015, 6018, 6026, 6041, 6049, 6055, 6056, 6058, 6061, 6064, 6079, 6085, 6087, 6094, 6101, 6102, 6104, 6109, 6114, 6115, 6116, 6143, 6144, 6145, 6159, 6160, 6164, 6170, 6174, 6188, 6190, 6197, 6198, 6199, 6205, 6206, 6207, 6211, 6215, 6223, 6226, 6228, 6233, 6237, 6238, 6241, 6244, 6247, 6248, 6255, 6256, 6259, 6260, 6265, 6273, 6282, 6290, 6301, 6305, 6307, 6310, 6311, 6324, 6335, 6336, 6339, 6342, 6348, 6373, 6375, 6379, 6384, 6391, 6402, 6404, 6405, 6418, 6420, 6421, 6425, 6428, 6429, 6434, 6439, 6442, 6445, 6463, 6471, 6475, 6481, 6484, 6486, 6493, 6495, 6499, 6509, 6511, 6520, 6521, 6526, 6528, 6530, 6534, 6536, 6539, 6545, 6548, 6555, 6562, 6564, 6567, 6571, 6573, 6580, 6588, 6592, 6593, 6600, 6604, 6608, 6627, 6631, 6639, 6642, 6650, 6659, 6662, 6663, 6664, 6666, 6670, 6687, 6699, 6702, 6705, 6710, 6727, 6731, 6739, 6748, 6750, 6753, 6754, 6757, 6764, 6780, 6782, 6787, 6789, 6796, 6799, 6800, 6806, 6820, 6821, 6823, 6828, 6843, 6855, 6859, 6861, 6867, 6868, 6869, 6871, 6874, 6878, 6879, 6882, 6887, 6889, 6892, 6894, 6897, 6898, 6912, 6913, 6922, 6923, 6924, 6937, 6944, 6946, 6950, 6953, 6956, 6957, 6961, 6966, 6975, 6987, 6989, 6990, 6993, 7001, 7005, 7006, 7008, 7012, 7014, 7015, 7021, 7022, 7024, 7035, 7036, 7044, 7051, 7053, 7054, 7055, 7057, 7059, 7062, 7072, 7073, 7081, 7089, 7090, 7093, 7095, 7098, 7100, 7106, 7107, 7108, 7111, 7120, 7128, 7129, 7130, 7134, 7136, 7139, 7140, 7152, 7156, 7169, 7180, 7181, 7186, 7190, 7213, 7244, 7251, 7257, 7268, 7269, 7273, 7277, 7282, 7288, 7290, 7291, 7294, 7306, 7307, 7312, 7318, 7321, 7326, 7327, 7344, 7346, 7355, 7363, 7364, 7368, 7369, 7377, 7381, 7383, 7384, 7386, 7393, 7399, 7400, 7408, 7410, 7412, 7416, 7417, 7423, 7425, 7426, 7431, 7432, 7440, 7443, 7445, 7459, 7468, 7472, 7475, 7478, 7480, 7484] not in index'"
     ]
    }
   ],
   "source": []
  },
  {
   "cell_type": "markdown",
   "metadata": {},
   "source": [
    "### ENTRENAMIENTO Y EVALUACIÓN DEL MODELO"
   ]
  },
  {
   "cell_type": "markdown",
   "metadata": {},
   "source": [
    "Usa evaluación cruzada con los siguientes algoritmos:\n",
    "- Regresión logisitca\n",
    "- SGDClassifier\n",
    "- K vecinos mas cercanos\n",
    "- Random Forest\n",
    "\n",
    " y evalua los resultados en el conjunto de entrenamiento con las siguientes métricas: exactitud, prescisión, sensibilidad, f1, curva de roc y área bajo la curva de roc"
   ]
  },
  {
   "cell_type": "code",
   "execution_count": null,
   "metadata": {},
   "outputs": [],
   "source": []
  },
  {
   "cell_type": "markdown",
   "metadata": {},
   "source": [
    "### OPMITZACIÓN DEL MODELO"
   ]
  },
  {
   "cell_type": "markdown",
   "metadata": {},
   "source": [
    "#### OPTIMIZACIÓN"
   ]
  },
  {
   "cell_type": "markdown",
   "metadata": {},
   "source": [
    "Usa búsqueda exhaustiva o búsqueda aleatoria para optimizar el mejor modelo del apartado anterior"
   ]
  },
  {
   "cell_type": "code",
   "execution_count": null,
   "metadata": {},
   "outputs": [],
   "source": []
  },
  {
   "cell_type": "markdown",
   "metadata": {},
   "source": [
    "#### EVALUACIÓN EN EL CONJUNTO DE PRUEBA"
   ]
  },
  {
   "cell_type": "markdown",
   "metadata": {},
   "source": [
    "Evalúa el conjunto de pruebas con diferentes métricas"
   ]
  },
  {
   "cell_type": "code",
   "execution_count": null,
   "metadata": {},
   "outputs": [],
   "source": []
  },
  {
   "cell_type": "markdown",
   "metadata": {},
   "source": [
    "### PRESENTACIÓN DE LA SOLUCIÓN"
   ]
  },
  {
   "cell_type": "markdown",
   "metadata": {},
   "source": [
    "Guarda mejor modelo (pipeline de preparación de los datos + modelo) y  haz un script de python que te pida los datos necesarios ('int_rate', 'installment', 'fico',  'revol_bal', 'revol_util', 'inq_last_6mths', 'pub_rec' y 'purpose') y prediga la solución."
   ]
  },
  {
   "cell_type": "code",
   "execution_count": null,
   "metadata": {},
   "outputs": [],
   "source": []
  },
  {
   "cell_type": "markdown",
   "metadata": {},
   "source": [
    "## EJERCICIO 2"
   ]
  },
  {
   "cell_type": "markdown",
   "metadata": {},
   "source": [
    "Vamos a trabajar conun conjunto de datos digits.\n",
    "\n",
    "Crea un clasificador que nos diga de que número se trata."
   ]
  },
  {
   "cell_type": "markdown",
   "metadata": {},
   "source": [
    "### RECOPILACIÓN Y PREPARACIÓN DE LOS DATOS"
   ]
  },
  {
   "cell_type": "markdown",
   "metadata": {},
   "source": [
    "#### OBTENER LOS DATOS"
   ]
  },
  {
   "cell_type": "code",
   "execution_count": null,
   "metadata": {},
   "outputs": [],
   "source": [
    "# Cargar el conjunto de datos\n",
    "digits = load_digits()\n",
    "X_digits = digits.data\n",
    "y_digits = digits.target"
   ]
  },
  {
   "cell_type": "markdown",
   "metadata": {},
   "source": [
    "#### EXPLORAR LOS DATOS"
   ]
  },
  {
   "cell_type": "code",
   "execution_count": null,
   "metadata": {},
   "outputs": [],
   "source": []
  },
  {
   "cell_type": "markdown",
   "metadata": {},
   "source": [
    "#### DIVIDIR LOS DATOS"
   ]
  },
  {
   "cell_type": "code",
   "execution_count": null,
   "metadata": {},
   "outputs": [],
   "source": []
  },
  {
   "cell_type": "markdown",
   "metadata": {},
   "source": [
    "#### PREPARAR LOS DATOS"
   ]
  },
  {
   "cell_type": "code",
   "execution_count": null,
   "metadata": {},
   "outputs": [],
   "source": []
  },
  {
   "cell_type": "markdown",
   "metadata": {},
   "source": [
    "### ENTRENAMIENTO Y EVALUACIÓN DEL MODELO"
   ]
  },
  {
   "cell_type": "markdown",
   "metadata": {},
   "source": [
    "Usa evaluación cruzada con los siguientes algoritmos, evalua los resultados en el conjunto de entrenamiento (exactitud) y calcula la matriz de confusión:\n",
    "- Regresión logistica\n",
    "- Maquinas de vectores de sorpote\n",
    "- Random forest"
   ]
  },
  {
   "cell_type": "code",
   "execution_count": null,
   "metadata": {},
   "outputs": [],
   "source": []
  },
  {
   "cell_type": "markdown",
   "metadata": {},
   "source": [
    "### OPMITZACIÓN DEL MODELO"
   ]
  },
  {
   "cell_type": "markdown",
   "metadata": {},
   "source": [
    "#### OPTIMIZACIÓN"
   ]
  },
  {
   "cell_type": "markdown",
   "metadata": {},
   "source": [
    "Usa búsqueda exhaustiva o búsqueda aleatoria para optimizar el mejor modelo del apartado anterior"
   ]
  },
  {
   "cell_type": "code",
   "execution_count": null,
   "metadata": {},
   "outputs": [],
   "source": []
  },
  {
   "cell_type": "markdown",
   "metadata": {},
   "source": [
    "#### EVALUACIÓN EN EL CONJUNTO DE PRUEBA"
   ]
  },
  {
   "cell_type": "code",
   "execution_count": null,
   "metadata": {},
   "outputs": [],
   "source": []
  },
  {
   "cell_type": "markdown",
   "metadata": {},
   "source": [
    "### PRESENTACIÓN DE LA SOLUCIÓN"
   ]
  },
  {
   "cell_type": "markdown",
   "metadata": {},
   "source": [
    "Simplemente guarda el modelo"
   ]
  },
  {
   "cell_type": "code",
   "execution_count": null,
   "metadata": {},
   "outputs": [],
   "source": []
  },
  {
   "cell_type": "markdown",
   "metadata": {},
   "source": [
    "## EJERCICIO 3"
   ]
  },
  {
   "cell_type": "markdown",
   "metadata": {},
   "source": [
    "Vamos a trabajar con un conjunto de datos donde cada instancia (en este caso, cada película) pueda tener múltiples etiquetas (géneros en este caso).\n",
    "\n",
    "Tienes los datos en el fichero tmdb_5000_movies.csv\n",
    "\n",
    "Crea un clasificador que te diga los generos que le corresponden a cada película."
   ]
  },
  {
   "cell_type": "markdown",
   "metadata": {},
   "source": [
    "### RECOPILACIÓN Y PREPARACIÓN DE LOS DATOS"
   ]
  },
  {
   "cell_type": "markdown",
   "metadata": {},
   "source": [
    "#### OBTENER LOS DATOS"
   ]
  },
  {
   "cell_type": "code",
   "execution_count": null,
   "metadata": {},
   "outputs": [
    {
     "ename": "FileNotFoundError",
     "evalue": "[Errno 2] No such file or directory: 'Datos/tmdb_5000_movies.csv'",
     "output_type": "error",
     "traceback": [
      "\u001b[0;31m---------------------------------------------------------------------------\u001b[0m",
      "\u001b[0;31mFileNotFoundError\u001b[0m                         Traceback (most recent call last)",
      "Cell \u001b[0;32mIn[22], line 2\u001b[0m\n\u001b[1;32m      1\u001b[0m \u001b[38;5;66;03m# Cargar los datos\u001b[39;00m\n\u001b[0;32m----> 2\u001b[0m data \u001b[38;5;241m=\u001b[39m \u001b[43mpd\u001b[49m\u001b[38;5;241;43m.\u001b[39;49m\u001b[43mread_csv\u001b[49m\u001b[43m(\u001b[49m\u001b[38;5;124;43m\"\u001b[39;49m\u001b[38;5;124;43mDatos/tmdb_5000_movies.csv\u001b[39;49m\u001b[38;5;124;43m\"\u001b[39;49m\u001b[43m)\u001b[49m\n\u001b[1;32m      4\u001b[0m \u001b[38;5;66;03m# Preprocesamiento de datos\u001b[39;00m\n\u001b[1;32m      5\u001b[0m \u001b[38;5;66;03m# Transformar géneros en listas de palabras separadas\u001b[39;00m\n\u001b[1;32m      6\u001b[0m data[\u001b[38;5;124m\"\u001b[39m\u001b[38;5;124mgenres\u001b[39m\u001b[38;5;124m\"\u001b[39m] \u001b[38;5;241m=\u001b[39m data[\u001b[38;5;124m\"\u001b[39m\u001b[38;5;124mgenres\u001b[39m\u001b[38;5;124m\"\u001b[39m]\u001b[38;5;241m.\u001b[39mapply(\u001b[38;5;28;01mlambda\u001b[39;00m x: [genre[\u001b[38;5;124m\"\u001b[39m\u001b[38;5;124mname\u001b[39m\u001b[38;5;124m\"\u001b[39m] \u001b[38;5;28;01mfor\u001b[39;00m genre \u001b[38;5;129;01min\u001b[39;00m \u001b[38;5;28meval\u001b[39m(x)])\n",
      "File \u001b[0;32m~/Escritorio/SAPA/SAPA/.conda/lib/python3.11/site-packages/pandas/io/parsers/readers.py:1026\u001b[0m, in \u001b[0;36mread_csv\u001b[0;34m(filepath_or_buffer, sep, delimiter, header, names, index_col, usecols, dtype, engine, converters, true_values, false_values, skipinitialspace, skiprows, skipfooter, nrows, na_values, keep_default_na, na_filter, verbose, skip_blank_lines, parse_dates, infer_datetime_format, keep_date_col, date_parser, date_format, dayfirst, cache_dates, iterator, chunksize, compression, thousands, decimal, lineterminator, quotechar, quoting, doublequote, escapechar, comment, encoding, encoding_errors, dialect, on_bad_lines, delim_whitespace, low_memory, memory_map, float_precision, storage_options, dtype_backend)\u001b[0m\n\u001b[1;32m   1013\u001b[0m kwds_defaults \u001b[38;5;241m=\u001b[39m _refine_defaults_read(\n\u001b[1;32m   1014\u001b[0m     dialect,\n\u001b[1;32m   1015\u001b[0m     delimiter,\n\u001b[0;32m   (...)\u001b[0m\n\u001b[1;32m   1022\u001b[0m     dtype_backend\u001b[38;5;241m=\u001b[39mdtype_backend,\n\u001b[1;32m   1023\u001b[0m )\n\u001b[1;32m   1024\u001b[0m kwds\u001b[38;5;241m.\u001b[39mupdate(kwds_defaults)\n\u001b[0;32m-> 1026\u001b[0m \u001b[38;5;28;01mreturn\u001b[39;00m \u001b[43m_read\u001b[49m\u001b[43m(\u001b[49m\u001b[43mfilepath_or_buffer\u001b[49m\u001b[43m,\u001b[49m\u001b[43m \u001b[49m\u001b[43mkwds\u001b[49m\u001b[43m)\u001b[49m\n",
      "File \u001b[0;32m~/Escritorio/SAPA/SAPA/.conda/lib/python3.11/site-packages/pandas/io/parsers/readers.py:620\u001b[0m, in \u001b[0;36m_read\u001b[0;34m(filepath_or_buffer, kwds)\u001b[0m\n\u001b[1;32m    617\u001b[0m _validate_names(kwds\u001b[38;5;241m.\u001b[39mget(\u001b[38;5;124m\"\u001b[39m\u001b[38;5;124mnames\u001b[39m\u001b[38;5;124m\"\u001b[39m, \u001b[38;5;28;01mNone\u001b[39;00m))\n\u001b[1;32m    619\u001b[0m \u001b[38;5;66;03m# Create the parser.\u001b[39;00m\n\u001b[0;32m--> 620\u001b[0m parser \u001b[38;5;241m=\u001b[39m \u001b[43mTextFileReader\u001b[49m\u001b[43m(\u001b[49m\u001b[43mfilepath_or_buffer\u001b[49m\u001b[43m,\u001b[49m\u001b[43m \u001b[49m\u001b[38;5;241;43m*\u001b[39;49m\u001b[38;5;241;43m*\u001b[39;49m\u001b[43mkwds\u001b[49m\u001b[43m)\u001b[49m\n\u001b[1;32m    622\u001b[0m \u001b[38;5;28;01mif\u001b[39;00m chunksize \u001b[38;5;129;01mor\u001b[39;00m iterator:\n\u001b[1;32m    623\u001b[0m     \u001b[38;5;28;01mreturn\u001b[39;00m parser\n",
      "File \u001b[0;32m~/Escritorio/SAPA/SAPA/.conda/lib/python3.11/site-packages/pandas/io/parsers/readers.py:1620\u001b[0m, in \u001b[0;36mTextFileReader.__init__\u001b[0;34m(self, f, engine, **kwds)\u001b[0m\n\u001b[1;32m   1617\u001b[0m     \u001b[38;5;28mself\u001b[39m\u001b[38;5;241m.\u001b[39moptions[\u001b[38;5;124m\"\u001b[39m\u001b[38;5;124mhas_index_names\u001b[39m\u001b[38;5;124m\"\u001b[39m] \u001b[38;5;241m=\u001b[39m kwds[\u001b[38;5;124m\"\u001b[39m\u001b[38;5;124mhas_index_names\u001b[39m\u001b[38;5;124m\"\u001b[39m]\n\u001b[1;32m   1619\u001b[0m \u001b[38;5;28mself\u001b[39m\u001b[38;5;241m.\u001b[39mhandles: IOHandles \u001b[38;5;241m|\u001b[39m \u001b[38;5;28;01mNone\u001b[39;00m \u001b[38;5;241m=\u001b[39m \u001b[38;5;28;01mNone\u001b[39;00m\n\u001b[0;32m-> 1620\u001b[0m \u001b[38;5;28mself\u001b[39m\u001b[38;5;241m.\u001b[39m_engine \u001b[38;5;241m=\u001b[39m \u001b[38;5;28;43mself\u001b[39;49m\u001b[38;5;241;43m.\u001b[39;49m\u001b[43m_make_engine\u001b[49m\u001b[43m(\u001b[49m\u001b[43mf\u001b[49m\u001b[43m,\u001b[49m\u001b[43m \u001b[49m\u001b[38;5;28;43mself\u001b[39;49m\u001b[38;5;241;43m.\u001b[39;49m\u001b[43mengine\u001b[49m\u001b[43m)\u001b[49m\n",
      "File \u001b[0;32m~/Escritorio/SAPA/SAPA/.conda/lib/python3.11/site-packages/pandas/io/parsers/readers.py:1880\u001b[0m, in \u001b[0;36mTextFileReader._make_engine\u001b[0;34m(self, f, engine)\u001b[0m\n\u001b[1;32m   1878\u001b[0m     \u001b[38;5;28;01mif\u001b[39;00m \u001b[38;5;124m\"\u001b[39m\u001b[38;5;124mb\u001b[39m\u001b[38;5;124m\"\u001b[39m \u001b[38;5;129;01mnot\u001b[39;00m \u001b[38;5;129;01min\u001b[39;00m mode:\n\u001b[1;32m   1879\u001b[0m         mode \u001b[38;5;241m+\u001b[39m\u001b[38;5;241m=\u001b[39m \u001b[38;5;124m\"\u001b[39m\u001b[38;5;124mb\u001b[39m\u001b[38;5;124m\"\u001b[39m\n\u001b[0;32m-> 1880\u001b[0m \u001b[38;5;28mself\u001b[39m\u001b[38;5;241m.\u001b[39mhandles \u001b[38;5;241m=\u001b[39m \u001b[43mget_handle\u001b[49m\u001b[43m(\u001b[49m\n\u001b[1;32m   1881\u001b[0m \u001b[43m    \u001b[49m\u001b[43mf\u001b[49m\u001b[43m,\u001b[49m\n\u001b[1;32m   1882\u001b[0m \u001b[43m    \u001b[49m\u001b[43mmode\u001b[49m\u001b[43m,\u001b[49m\n\u001b[1;32m   1883\u001b[0m \u001b[43m    \u001b[49m\u001b[43mencoding\u001b[49m\u001b[38;5;241;43m=\u001b[39;49m\u001b[38;5;28;43mself\u001b[39;49m\u001b[38;5;241;43m.\u001b[39;49m\u001b[43moptions\u001b[49m\u001b[38;5;241;43m.\u001b[39;49m\u001b[43mget\u001b[49m\u001b[43m(\u001b[49m\u001b[38;5;124;43m\"\u001b[39;49m\u001b[38;5;124;43mencoding\u001b[39;49m\u001b[38;5;124;43m\"\u001b[39;49m\u001b[43m,\u001b[49m\u001b[43m \u001b[49m\u001b[38;5;28;43;01mNone\u001b[39;49;00m\u001b[43m)\u001b[49m\u001b[43m,\u001b[49m\n\u001b[1;32m   1884\u001b[0m \u001b[43m    \u001b[49m\u001b[43mcompression\u001b[49m\u001b[38;5;241;43m=\u001b[39;49m\u001b[38;5;28;43mself\u001b[39;49m\u001b[38;5;241;43m.\u001b[39;49m\u001b[43moptions\u001b[49m\u001b[38;5;241;43m.\u001b[39;49m\u001b[43mget\u001b[49m\u001b[43m(\u001b[49m\u001b[38;5;124;43m\"\u001b[39;49m\u001b[38;5;124;43mcompression\u001b[39;49m\u001b[38;5;124;43m\"\u001b[39;49m\u001b[43m,\u001b[49m\u001b[43m \u001b[49m\u001b[38;5;28;43;01mNone\u001b[39;49;00m\u001b[43m)\u001b[49m\u001b[43m,\u001b[49m\n\u001b[1;32m   1885\u001b[0m \u001b[43m    \u001b[49m\u001b[43mmemory_map\u001b[49m\u001b[38;5;241;43m=\u001b[39;49m\u001b[38;5;28;43mself\u001b[39;49m\u001b[38;5;241;43m.\u001b[39;49m\u001b[43moptions\u001b[49m\u001b[38;5;241;43m.\u001b[39;49m\u001b[43mget\u001b[49m\u001b[43m(\u001b[49m\u001b[38;5;124;43m\"\u001b[39;49m\u001b[38;5;124;43mmemory_map\u001b[39;49m\u001b[38;5;124;43m\"\u001b[39;49m\u001b[43m,\u001b[49m\u001b[43m \u001b[49m\u001b[38;5;28;43;01mFalse\u001b[39;49;00m\u001b[43m)\u001b[49m\u001b[43m,\u001b[49m\n\u001b[1;32m   1886\u001b[0m \u001b[43m    \u001b[49m\u001b[43mis_text\u001b[49m\u001b[38;5;241;43m=\u001b[39;49m\u001b[43mis_text\u001b[49m\u001b[43m,\u001b[49m\n\u001b[1;32m   1887\u001b[0m \u001b[43m    \u001b[49m\u001b[43merrors\u001b[49m\u001b[38;5;241;43m=\u001b[39;49m\u001b[38;5;28;43mself\u001b[39;49m\u001b[38;5;241;43m.\u001b[39;49m\u001b[43moptions\u001b[49m\u001b[38;5;241;43m.\u001b[39;49m\u001b[43mget\u001b[49m\u001b[43m(\u001b[49m\u001b[38;5;124;43m\"\u001b[39;49m\u001b[38;5;124;43mencoding_errors\u001b[39;49m\u001b[38;5;124;43m\"\u001b[39;49m\u001b[43m,\u001b[49m\u001b[43m \u001b[49m\u001b[38;5;124;43m\"\u001b[39;49m\u001b[38;5;124;43mstrict\u001b[39;49m\u001b[38;5;124;43m\"\u001b[39;49m\u001b[43m)\u001b[49m\u001b[43m,\u001b[49m\n\u001b[1;32m   1888\u001b[0m \u001b[43m    \u001b[49m\u001b[43mstorage_options\u001b[49m\u001b[38;5;241;43m=\u001b[39;49m\u001b[38;5;28;43mself\u001b[39;49m\u001b[38;5;241;43m.\u001b[39;49m\u001b[43moptions\u001b[49m\u001b[38;5;241;43m.\u001b[39;49m\u001b[43mget\u001b[49m\u001b[43m(\u001b[49m\u001b[38;5;124;43m\"\u001b[39;49m\u001b[38;5;124;43mstorage_options\u001b[39;49m\u001b[38;5;124;43m\"\u001b[39;49m\u001b[43m,\u001b[49m\u001b[43m \u001b[49m\u001b[38;5;28;43;01mNone\u001b[39;49;00m\u001b[43m)\u001b[49m\u001b[43m,\u001b[49m\n\u001b[1;32m   1889\u001b[0m \u001b[43m\u001b[49m\u001b[43m)\u001b[49m\n\u001b[1;32m   1890\u001b[0m \u001b[38;5;28;01massert\u001b[39;00m \u001b[38;5;28mself\u001b[39m\u001b[38;5;241m.\u001b[39mhandles \u001b[38;5;129;01mis\u001b[39;00m \u001b[38;5;129;01mnot\u001b[39;00m \u001b[38;5;28;01mNone\u001b[39;00m\n\u001b[1;32m   1891\u001b[0m f \u001b[38;5;241m=\u001b[39m \u001b[38;5;28mself\u001b[39m\u001b[38;5;241m.\u001b[39mhandles\u001b[38;5;241m.\u001b[39mhandle\n",
      "File \u001b[0;32m~/Escritorio/SAPA/SAPA/.conda/lib/python3.11/site-packages/pandas/io/common.py:873\u001b[0m, in \u001b[0;36mget_handle\u001b[0;34m(path_or_buf, mode, encoding, compression, memory_map, is_text, errors, storage_options)\u001b[0m\n\u001b[1;32m    868\u001b[0m \u001b[38;5;28;01melif\u001b[39;00m \u001b[38;5;28misinstance\u001b[39m(handle, \u001b[38;5;28mstr\u001b[39m):\n\u001b[1;32m    869\u001b[0m     \u001b[38;5;66;03m# Check whether the filename is to be opened in binary mode.\u001b[39;00m\n\u001b[1;32m    870\u001b[0m     \u001b[38;5;66;03m# Binary mode does not support 'encoding' and 'newline'.\u001b[39;00m\n\u001b[1;32m    871\u001b[0m     \u001b[38;5;28;01mif\u001b[39;00m ioargs\u001b[38;5;241m.\u001b[39mencoding \u001b[38;5;129;01mand\u001b[39;00m \u001b[38;5;124m\"\u001b[39m\u001b[38;5;124mb\u001b[39m\u001b[38;5;124m\"\u001b[39m \u001b[38;5;129;01mnot\u001b[39;00m \u001b[38;5;129;01min\u001b[39;00m ioargs\u001b[38;5;241m.\u001b[39mmode:\n\u001b[1;32m    872\u001b[0m         \u001b[38;5;66;03m# Encoding\u001b[39;00m\n\u001b[0;32m--> 873\u001b[0m         handle \u001b[38;5;241m=\u001b[39m \u001b[38;5;28;43mopen\u001b[39;49m\u001b[43m(\u001b[49m\n\u001b[1;32m    874\u001b[0m \u001b[43m            \u001b[49m\u001b[43mhandle\u001b[49m\u001b[43m,\u001b[49m\n\u001b[1;32m    875\u001b[0m \u001b[43m            \u001b[49m\u001b[43mioargs\u001b[49m\u001b[38;5;241;43m.\u001b[39;49m\u001b[43mmode\u001b[49m\u001b[43m,\u001b[49m\n\u001b[1;32m    876\u001b[0m \u001b[43m            \u001b[49m\u001b[43mencoding\u001b[49m\u001b[38;5;241;43m=\u001b[39;49m\u001b[43mioargs\u001b[49m\u001b[38;5;241;43m.\u001b[39;49m\u001b[43mencoding\u001b[49m\u001b[43m,\u001b[49m\n\u001b[1;32m    877\u001b[0m \u001b[43m            \u001b[49m\u001b[43merrors\u001b[49m\u001b[38;5;241;43m=\u001b[39;49m\u001b[43merrors\u001b[49m\u001b[43m,\u001b[49m\n\u001b[1;32m    878\u001b[0m \u001b[43m            \u001b[49m\u001b[43mnewline\u001b[49m\u001b[38;5;241;43m=\u001b[39;49m\u001b[38;5;124;43m\"\u001b[39;49m\u001b[38;5;124;43m\"\u001b[39;49m\u001b[43m,\u001b[49m\n\u001b[1;32m    879\u001b[0m \u001b[43m        \u001b[49m\u001b[43m)\u001b[49m\n\u001b[1;32m    880\u001b[0m     \u001b[38;5;28;01melse\u001b[39;00m:\n\u001b[1;32m    881\u001b[0m         \u001b[38;5;66;03m# Binary mode\u001b[39;00m\n\u001b[1;32m    882\u001b[0m         handle \u001b[38;5;241m=\u001b[39m \u001b[38;5;28mopen\u001b[39m(handle, ioargs\u001b[38;5;241m.\u001b[39mmode)\n",
      "\u001b[0;31mFileNotFoundError\u001b[0m: [Errno 2] No such file or directory: 'Datos/tmdb_5000_movies.csv'"
     ]
    }
   ],
   "source": [
    "# Cargar los datos\n",
    "data = pd.read_csv(\"Datos/tmdb_5000_movies.csv\")\n",
    "\n",
    "# Preprocesamiento de datos\n",
    "# Transformar géneros en listas de palabras separadas\n",
    "data[\"genres\"] = data[\"genres\"].apply(lambda x: [genre[\"name\"] for genre in eval(x)])\n",
    "\n",
    "# Dividir los datos en características (X) y etiquetas (y)\n",
    "X = data[\"overview\"]\n",
    "y = data[\"genres\"]"
   ]
  },
  {
   "cell_type": "markdown",
   "metadata": {},
   "source": [
    "#### EXPLORAR LOS DATOS"
   ]
  },
  {
   "cell_type": "code",
   "execution_count": null,
   "metadata": {},
   "outputs": [],
   "source": []
  },
  {
   "cell_type": "markdown",
   "metadata": {},
   "source": [
    "#### DIVIDIR LOS DATOS"
   ]
  },
  {
   "cell_type": "code",
   "execution_count": null,
   "metadata": {},
   "outputs": [],
   "source": []
  },
  {
   "cell_type": "markdown",
   "metadata": {},
   "source": [
    "#### PREPARAR LOS DATOS"
   ]
  },
  {
   "cell_type": "markdown",
   "metadata": {},
   "source": [
    "Tienes aquí las transformaciones que hay que hacer a los datos pero busca en internet que estamos haciendo exactamente y explicalo (igual hay que hacer algo con los datos que faltan)"
   ]
  },
  {
   "cell_type": "code",
   "execution_count": null,
   "metadata": {},
   "outputs": [],
   "source": []
  },
  {
   "cell_type": "code",
   "execution_count": null,
   "metadata": {},
   "outputs": [],
   "source": [
    "tfidf_vectorizer = TfidfVectorizer()\n",
    "X_train_tfidf = tfidf_vectorizer.fit_transform(X_train)\n",
    "X_test_tfidf = tfidf_vectorizer.transform(X_test)\n",
    "\n",
    "mlb = MultiLabelBinarizer()\n",
    "y_train_transformed = mlb.fit_transform(y_train)\n"
   ]
  },
  {
   "cell_type": "code",
   "execution_count": null,
   "metadata": {},
   "outputs": [],
   "source": []
  },
  {
   "cell_type": "code",
   "execution_count": null,
   "metadata": {},
   "outputs": [],
   "source": []
  },
  {
   "cell_type": "code",
   "execution_count": null,
   "metadata": {},
   "outputs": [],
   "source": []
  },
  {
   "cell_type": "code",
   "execution_count": null,
   "metadata": {},
   "outputs": [],
   "source": []
  },
  {
   "cell_type": "code",
   "execution_count": null,
   "metadata": {},
   "outputs": [],
   "source": [
    "y_test_transformed = mlb.transform(y_test)"
   ]
  },
  {
   "cell_type": "code",
   "execution_count": null,
   "metadata": {},
   "outputs": [],
   "source": []
  },
  {
   "cell_type": "markdown",
   "metadata": {},
   "source": [
    "### ENTRENAMIENTO Y EVALUACIÓN DEL MODELO"
   ]
  },
  {
   "cell_type": "markdown",
   "metadata": {},
   "source": [
    "Crea un modelo Random Forest y evalúa el modelo en el conjunto de entrenamiento (accuracy), no hace falta usar validación cruzada."
   ]
  },
  {
   "cell_type": "code",
   "execution_count": null,
   "metadata": {},
   "outputs": [],
   "source": []
  },
  {
   "cell_type": "markdown",
   "metadata": {},
   "source": [
    "#### EVALUACIÓN EN EL CONJUNTO DE PRUEBA"
   ]
  },
  {
   "cell_type": "markdown",
   "metadata": {},
   "source": [
    "Evalúa el modelo en el conjuno de prueba y muestra las primeras 25 predicciones y sus correspondientes valores reales (con texto, para lo cual tendras que aplicar mlb.inverse_transform a las predicciones).\n",
    "\n",
    "¿Qué puedes deducir del resultado?"
   ]
  },
  {
   "cell_type": "code",
   "execution_count": null,
   "metadata": {},
   "outputs": [],
   "source": []
  }
 ],
 "metadata": {
  "kernelspec": {
   "display_name": "Python 3",
   "language": "python",
   "name": "python3"
  },
  "language_info": {
   "codemirror_mode": {
    "name": "ipython",
    "version": 3
   },
   "file_extension": ".py",
   "mimetype": "text/x-python",
   "name": "python",
   "nbconvert_exporter": "python",
   "pygments_lexer": "ipython3",
   "version": "3.11.10"
  },
  "nav_menu": {},
  "toc": {
   "navigate_menu": true,
   "number_sections": true,
   "sideBar": true,
   "threshold": 6,
   "toc_cell": false,
   "toc_section_display": "block",
   "toc_window_display": false
  }
 },
 "nbformat": 4,
 "nbformat_minor": 4
}
